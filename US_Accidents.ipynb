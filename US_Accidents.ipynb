{
  "nbformat": 4,
  "nbformat_minor": 0,
  "metadata": {
    "kernelspec": {
      "display_name": "Python 3",
      "language": "python",
      "name": "python3"
    },
    "language_info": {
      "codemirror_mode": {
        "name": "ipython",
        "version": 3
      },
      "file_extension": ".py",
      "mimetype": "text/x-python",
      "name": "python",
      "nbconvert_exporter": "python",
      "pygments_lexer": "ipython3",
      "version": "3.7.6"
    },
    "colab": {
      "name": "US_Accidents.ipynb",
      "provenance": [],
      "collapsed_sections": [],
      "include_colab_link": true
    },
    "accelerator": "GPU"
  },
  "cells": [
    {
      "cell_type": "markdown",
      "metadata": {
        "id": "view-in-github",
        "colab_type": "text"
      },
      "source": [
        "<a href=\"https://colab.research.google.com/github/KGururajaRao/US-Accidents/blob/main/US_Accidents.ipynb\" target=\"_parent\"><img src=\"https://colab.research.google.com/assets/colab-badge.svg\" alt=\"Open In Colab\"/></a>"
      ]
    },
    {
      "cell_type": "code",
      "metadata": {
        "colab": {
          "base_uri": "https://localhost:8080/"
        },
        "id": "OFBEGBxPkyZz",
        "outputId": "37f5f45b-fd13-48b5-c225-3ae8685d83e1"
      },
      "source": [
        "# Jovian Commit Essentials\n",
        "# Please retain and execute this cell without modifying the contents for `jovian.commit` to work\n",
        "!pip install jovian --upgrade -q\n",
        "import jovian\n",
        "jovian.set_project('us-accidents-analysis')\n",
        "jovian.set_colab_id('1llwvIaLS_f8e7MFLy84_FpdTSVk64YMT')"
      ],
      "execution_count": 1,
      "outputs": [
        {
          "output_type": "stream",
          "text": [
            "\u001b[?25l\r\u001b[K     |████▊                           | 10kB 25.5MB/s eta 0:00:01\r\u001b[K     |█████████▌                      | 20kB 18.7MB/s eta 0:00:01\r\u001b[K     |██████████████▎                 | 30kB 15.4MB/s eta 0:00:01\r\u001b[K     |███████████████████             | 40kB 14.2MB/s eta 0:00:01\r\u001b[K     |███████████████████████▊        | 51kB 7.7MB/s eta 0:00:01\r\u001b[K     |████████████████████████████▌   | 61kB 9.0MB/s eta 0:00:01\r\u001b[K     |████████████████████████████████| 71kB 5.1MB/s \n",
            "\u001b[?25h  Building wheel for uuid (setup.py) ... \u001b[?25l\u001b[?25hdone\n"
          ],
          "name": "stdout"
        }
      ]
    },
    {
      "cell_type": "markdown",
      "metadata": {
        "id": "UnWdRdiTlSqo"
      },
      "source": [
        "# US Accidents Exploratory Data Analysis"
      ]
    },
    {
      "cell_type": "code",
      "metadata": {
        "id": "CFkAC_H2lQ5T"
      },
      "source": [
        "pip install opendatasets --upgrade --quiet"
      ],
      "execution_count": 2,
      "outputs": []
    },
    {
      "cell_type": "code",
      "metadata": {
        "colab": {
          "base_uri": "https://localhost:8080/"
        },
        "id": "lGnk5UrfkyZ3",
        "outputId": "6dc8c3e2-a0ad-4fe0-82ca-041d7e8af81d"
      },
      "source": [
        "import opendatasets as od\n",
        "\n",
        "download_url = 'https://www.kaggle.com/sobhanmoosavi/us-accidents'\n",
        "\n",
        "od.download(download_url)"
      ],
      "execution_count": 3,
      "outputs": [
        {
          "output_type": "stream",
          "text": [
            "Please provide your Kaggle credentials to download this dataset. Learn more: http://bit.ly/kaggle-creds\n",
            "Your Kaggle username: kgururajarao\n",
            "Your Kaggle Key: ··········\n"
          ],
          "name": "stdout"
        },
        {
          "output_type": "stream",
          "text": [
            "  3%|▎         | 9.00M/290M [00:00<00:04, 64.8MB/s]"
          ],
          "name": "stderr"
        },
        {
          "output_type": "stream",
          "text": [
            "Downloading us-accidents.zip to ./us-accidents\n"
          ],
          "name": "stdout"
        },
        {
          "output_type": "stream",
          "text": [
            "100%|██████████| 290M/290M [00:01<00:00, 169MB/s]\n"
          ],
          "name": "stderr"
        },
        {
          "output_type": "stream",
          "text": [
            "\n"
          ],
          "name": "stdout"
        }
      ]
    },
    {
      "cell_type": "code",
      "metadata": {
        "id": "djSpoU_IkyZ3"
      },
      "source": [
        "data_filename = './us-accidents/US_Accidents_Dec20_Updated.csv'"
      ],
      "execution_count": 4,
      "outputs": []
    },
    {
      "cell_type": "markdown",
      "metadata": {
        "id": "03X-S_zVntH5"
      },
      "source": [
        "## Data Preparation & Cleaning\n",
        "\n",
        "- Load file using Pandas\n",
        "- Few inrmations about Data & Columns\n",
        "- Fix any mising or incorrect values"
      ]
    },
    {
      "cell_type": "code",
      "metadata": {
        "id": "QK4C3rGrnr8C"
      },
      "source": [
        "import pandas as pd"
      ],
      "execution_count": 5,
      "outputs": []
    },
    {
      "cell_type": "code",
      "metadata": {
        "id": "JFJ5J8RdoKaN"
      },
      "source": [
        "df = pd.read_csv(data_filename)"
      ],
      "execution_count": 6,
      "outputs": []
    },
    {
      "cell_type": "code",
      "metadata": {
        "colab": {
          "base_uri": "https://localhost:8080/",
          "height": 946
        },
        "id": "_f8R-ucjoSAm",
        "outputId": "f1c45c5a-b166-4fbe-d18e-a1917ae9618d"
      },
      "source": [
        "df"
      ],
      "execution_count": 7,
      "outputs": [
        {
          "output_type": "execute_result",
          "data": {
            "text/html": [
              "<div>\n",
              "<style scoped>\n",
              "    .dataframe tbody tr th:only-of-type {\n",
              "        vertical-align: middle;\n",
              "    }\n",
              "\n",
              "    .dataframe tbody tr th {\n",
              "        vertical-align: top;\n",
              "    }\n",
              "\n",
              "    .dataframe thead th {\n",
              "        text-align: right;\n",
              "    }\n",
              "</style>\n",
              "<table border=\"1\" class=\"dataframe\">\n",
              "  <thead>\n",
              "    <tr style=\"text-align: right;\">\n",
              "      <th></th>\n",
              "      <th>ID</th>\n",
              "      <th>Severity</th>\n",
              "      <th>Start_Time</th>\n",
              "      <th>End_Time</th>\n",
              "      <th>Start_Lat</th>\n",
              "      <th>Start_Lng</th>\n",
              "      <th>End_Lat</th>\n",
              "      <th>End_Lng</th>\n",
              "      <th>Distance(mi)</th>\n",
              "      <th>Description</th>\n",
              "      <th>Number</th>\n",
              "      <th>Street</th>\n",
              "      <th>Side</th>\n",
              "      <th>City</th>\n",
              "      <th>County</th>\n",
              "      <th>State</th>\n",
              "      <th>Zipcode</th>\n",
              "      <th>Country</th>\n",
              "      <th>Timezone</th>\n",
              "      <th>Airport_Code</th>\n",
              "      <th>Weather_Timestamp</th>\n",
              "      <th>Temperature(F)</th>\n",
              "      <th>Wind_Chill(F)</th>\n",
              "      <th>Humidity(%)</th>\n",
              "      <th>Pressure(in)</th>\n",
              "      <th>Visibility(mi)</th>\n",
              "      <th>Wind_Direction</th>\n",
              "      <th>Wind_Speed(mph)</th>\n",
              "      <th>Precipitation(in)</th>\n",
              "      <th>Weather_Condition</th>\n",
              "      <th>Amenity</th>\n",
              "      <th>Bump</th>\n",
              "      <th>Crossing</th>\n",
              "      <th>Give_Way</th>\n",
              "      <th>Junction</th>\n",
              "      <th>No_Exit</th>\n",
              "      <th>Railway</th>\n",
              "      <th>Roundabout</th>\n",
              "      <th>Station</th>\n",
              "      <th>Stop</th>\n",
              "      <th>Traffic_Calming</th>\n",
              "      <th>Traffic_Signal</th>\n",
              "      <th>Turning_Loop</th>\n",
              "      <th>Sunrise_Sunset</th>\n",
              "      <th>Civil_Twilight</th>\n",
              "      <th>Nautical_Twilight</th>\n",
              "      <th>Astronomical_Twilight</th>\n",
              "    </tr>\n",
              "  </thead>\n",
              "  <tbody>\n",
              "    <tr>\n",
              "      <th>0</th>\n",
              "      <td>A-1</td>\n",
              "      <td>2</td>\n",
              "      <td>2019-05-21 08:29:55</td>\n",
              "      <td>2019-05-21 09:29:40</td>\n",
              "      <td>34.808868</td>\n",
              "      <td>-82.269157</td>\n",
              "      <td>34.808868</td>\n",
              "      <td>-82.269157</td>\n",
              "      <td>0.000</td>\n",
              "      <td>Accident on Tanner Rd at Pennbrooke Ln.</td>\n",
              "      <td>439.0</td>\n",
              "      <td>Tanner Rd</td>\n",
              "      <td>R</td>\n",
              "      <td>Greenville</td>\n",
              "      <td>Greenville</td>\n",
              "      <td>SC</td>\n",
              "      <td>29607-6027</td>\n",
              "      <td>US</td>\n",
              "      <td>US/Eastern</td>\n",
              "      <td>KGMU</td>\n",
              "      <td>2019-05-21 08:53:00</td>\n",
              "      <td>76.0</td>\n",
              "      <td>76.0</td>\n",
              "      <td>52.0</td>\n",
              "      <td>28.91</td>\n",
              "      <td>10.0</td>\n",
              "      <td>N</td>\n",
              "      <td>7.0</td>\n",
              "      <td>0.0</td>\n",
              "      <td>Fair</td>\n",
              "      <td>False</td>\n",
              "      <td>False</td>\n",
              "      <td>False</td>\n",
              "      <td>False</td>\n",
              "      <td>False</td>\n",
              "      <td>False</td>\n",
              "      <td>False</td>\n",
              "      <td>False</td>\n",
              "      <td>False</td>\n",
              "      <td>False</td>\n",
              "      <td>False</td>\n",
              "      <td>False</td>\n",
              "      <td>False</td>\n",
              "      <td>Day</td>\n",
              "      <td>Day</td>\n",
              "      <td>Day</td>\n",
              "      <td>Day</td>\n",
              "    </tr>\n",
              "    <tr>\n",
              "      <th>1</th>\n",
              "      <td>A-2</td>\n",
              "      <td>2</td>\n",
              "      <td>2019-10-07 17:43:09</td>\n",
              "      <td>2019-10-07 19:42:50</td>\n",
              "      <td>35.090080</td>\n",
              "      <td>-80.745560</td>\n",
              "      <td>35.090080</td>\n",
              "      <td>-80.745560</td>\n",
              "      <td>0.000</td>\n",
              "      <td>Accident on Houston Branch Rd at Providence Br...</td>\n",
              "      <td>3299.0</td>\n",
              "      <td>Providence Branch Ln</td>\n",
              "      <td>R</td>\n",
              "      <td>Charlotte</td>\n",
              "      <td>Mecklenburg</td>\n",
              "      <td>NC</td>\n",
              "      <td>28270-8560</td>\n",
              "      <td>US</td>\n",
              "      <td>US/Eastern</td>\n",
              "      <td>KEQY</td>\n",
              "      <td>2019-10-07 17:53:00</td>\n",
              "      <td>76.0</td>\n",
              "      <td>76.0</td>\n",
              "      <td>62.0</td>\n",
              "      <td>29.30</td>\n",
              "      <td>10.0</td>\n",
              "      <td>VAR</td>\n",
              "      <td>3.0</td>\n",
              "      <td>0.0</td>\n",
              "      <td>Cloudy</td>\n",
              "      <td>False</td>\n",
              "      <td>False</td>\n",
              "      <td>False</td>\n",
              "      <td>False</td>\n",
              "      <td>False</td>\n",
              "      <td>False</td>\n",
              "      <td>False</td>\n",
              "      <td>False</td>\n",
              "      <td>False</td>\n",
              "      <td>False</td>\n",
              "      <td>False</td>\n",
              "      <td>False</td>\n",
              "      <td>False</td>\n",
              "      <td>Day</td>\n",
              "      <td>Day</td>\n",
              "      <td>Day</td>\n",
              "      <td>Day</td>\n",
              "    </tr>\n",
              "    <tr>\n",
              "      <th>2</th>\n",
              "      <td>A-3</td>\n",
              "      <td>2</td>\n",
              "      <td>2020-12-13 21:53:00</td>\n",
              "      <td>2020-12-13 22:44:00</td>\n",
              "      <td>37.145730</td>\n",
              "      <td>-121.985052</td>\n",
              "      <td>37.165850</td>\n",
              "      <td>-121.988062</td>\n",
              "      <td>1.400</td>\n",
              "      <td>Stationary traffic on CA-17 from Summit Rd (CA...</td>\n",
              "      <td>NaN</td>\n",
              "      <td>Santa Cruz Hwy</td>\n",
              "      <td>R</td>\n",
              "      <td>Los Gatos</td>\n",
              "      <td>Santa Clara</td>\n",
              "      <td>CA</td>\n",
              "      <td>95033</td>\n",
              "      <td>US</td>\n",
              "      <td>US/Pacific</td>\n",
              "      <td>KSJC</td>\n",
              "      <td>2020-12-13 21:53:00</td>\n",
              "      <td>51.0</td>\n",
              "      <td>51.0</td>\n",
              "      <td>80.0</td>\n",
              "      <td>30.17</td>\n",
              "      <td>10.0</td>\n",
              "      <td>W</td>\n",
              "      <td>6.0</td>\n",
              "      <td>0.0</td>\n",
              "      <td>Fair</td>\n",
              "      <td>False</td>\n",
              "      <td>False</td>\n",
              "      <td>False</td>\n",
              "      <td>False</td>\n",
              "      <td>False</td>\n",
              "      <td>False</td>\n",
              "      <td>False</td>\n",
              "      <td>False</td>\n",
              "      <td>False</td>\n",
              "      <td>False</td>\n",
              "      <td>False</td>\n",
              "      <td>False</td>\n",
              "      <td>False</td>\n",
              "      <td>Night</td>\n",
              "      <td>Night</td>\n",
              "      <td>Night</td>\n",
              "      <td>Night</td>\n",
              "    </tr>\n",
              "    <tr>\n",
              "      <th>3</th>\n",
              "      <td>A-4</td>\n",
              "      <td>2</td>\n",
              "      <td>2018-04-17 16:51:23</td>\n",
              "      <td>2018-04-17 17:50:46</td>\n",
              "      <td>39.110390</td>\n",
              "      <td>-119.773781</td>\n",
              "      <td>39.110390</td>\n",
              "      <td>-119.773781</td>\n",
              "      <td>0.000</td>\n",
              "      <td>Accident on US-395 Southbound at Topsy Ln.</td>\n",
              "      <td>NaN</td>\n",
              "      <td>US Highway 395 S</td>\n",
              "      <td>R</td>\n",
              "      <td>Carson City</td>\n",
              "      <td>Douglas</td>\n",
              "      <td>NV</td>\n",
              "      <td>89705</td>\n",
              "      <td>US</td>\n",
              "      <td>US/Pacific</td>\n",
              "      <td>KCXP</td>\n",
              "      <td>2018-04-17 16:55:00</td>\n",
              "      <td>53.6</td>\n",
              "      <td>NaN</td>\n",
              "      <td>16.0</td>\n",
              "      <td>30.16</td>\n",
              "      <td>10.0</td>\n",
              "      <td>SSW</td>\n",
              "      <td>4.6</td>\n",
              "      <td>NaN</td>\n",
              "      <td>Clear</td>\n",
              "      <td>False</td>\n",
              "      <td>False</td>\n",
              "      <td>False</td>\n",
              "      <td>False</td>\n",
              "      <td>False</td>\n",
              "      <td>False</td>\n",
              "      <td>False</td>\n",
              "      <td>False</td>\n",
              "      <td>False</td>\n",
              "      <td>False</td>\n",
              "      <td>False</td>\n",
              "      <td>True</td>\n",
              "      <td>False</td>\n",
              "      <td>Day</td>\n",
              "      <td>Day</td>\n",
              "      <td>Day</td>\n",
              "      <td>Day</td>\n",
              "    </tr>\n",
              "    <tr>\n",
              "      <th>4</th>\n",
              "      <td>A-5</td>\n",
              "      <td>3</td>\n",
              "      <td>2016-08-31 17:40:49</td>\n",
              "      <td>2016-08-31 18:10:49</td>\n",
              "      <td>26.102942</td>\n",
              "      <td>-80.265091</td>\n",
              "      <td>26.102942</td>\n",
              "      <td>-80.265091</td>\n",
              "      <td>0.000</td>\n",
              "      <td>Accident on I-595 Westbound at Exit 4 / Pine I...</td>\n",
              "      <td>NaN</td>\n",
              "      <td>I-595 W</td>\n",
              "      <td>R</td>\n",
              "      <td>Fort Lauderdale</td>\n",
              "      <td>Broward</td>\n",
              "      <td>FL</td>\n",
              "      <td>33324</td>\n",
              "      <td>US</td>\n",
              "      <td>US/Eastern</td>\n",
              "      <td>KHWO</td>\n",
              "      <td>2016-08-31 17:53:00</td>\n",
              "      <td>84.2</td>\n",
              "      <td>NaN</td>\n",
              "      <td>84.0</td>\n",
              "      <td>29.92</td>\n",
              "      <td>10.0</td>\n",
              "      <td>SSE</td>\n",
              "      <td>13.8</td>\n",
              "      <td>NaN</td>\n",
              "      <td>Overcast</td>\n",
              "      <td>False</td>\n",
              "      <td>False</td>\n",
              "      <td>False</td>\n",
              "      <td>False</td>\n",
              "      <td>True</td>\n",
              "      <td>False</td>\n",
              "      <td>False</td>\n",
              "      <td>False</td>\n",
              "      <td>False</td>\n",
              "      <td>False</td>\n",
              "      <td>False</td>\n",
              "      <td>True</td>\n",
              "      <td>False</td>\n",
              "      <td>Day</td>\n",
              "      <td>Day</td>\n",
              "      <td>Day</td>\n",
              "      <td>Day</td>\n",
              "    </tr>\n",
              "    <tr>\n",
              "      <th>...</th>\n",
              "      <td>...</td>\n",
              "      <td>...</td>\n",
              "      <td>...</td>\n",
              "      <td>...</td>\n",
              "      <td>...</td>\n",
              "      <td>...</td>\n",
              "      <td>...</td>\n",
              "      <td>...</td>\n",
              "      <td>...</td>\n",
              "      <td>...</td>\n",
              "      <td>...</td>\n",
              "      <td>...</td>\n",
              "      <td>...</td>\n",
              "      <td>...</td>\n",
              "      <td>...</td>\n",
              "      <td>...</td>\n",
              "      <td>...</td>\n",
              "      <td>...</td>\n",
              "      <td>...</td>\n",
              "      <td>...</td>\n",
              "      <td>...</td>\n",
              "      <td>...</td>\n",
              "      <td>...</td>\n",
              "      <td>...</td>\n",
              "      <td>...</td>\n",
              "      <td>...</td>\n",
              "      <td>...</td>\n",
              "      <td>...</td>\n",
              "      <td>...</td>\n",
              "      <td>...</td>\n",
              "      <td>...</td>\n",
              "      <td>...</td>\n",
              "      <td>...</td>\n",
              "      <td>...</td>\n",
              "      <td>...</td>\n",
              "      <td>...</td>\n",
              "      <td>...</td>\n",
              "      <td>...</td>\n",
              "      <td>...</td>\n",
              "      <td>...</td>\n",
              "      <td>...</td>\n",
              "      <td>...</td>\n",
              "      <td>...</td>\n",
              "      <td>...</td>\n",
              "      <td>...</td>\n",
              "      <td>...</td>\n",
              "      <td>...</td>\n",
              "    </tr>\n",
              "    <tr>\n",
              "      <th>2906605</th>\n",
              "      <td>A-2906606</td>\n",
              "      <td>2</td>\n",
              "      <td>2018-06-28 08:49:01</td>\n",
              "      <td>2018-06-28 09:18:51</td>\n",
              "      <td>29.813824</td>\n",
              "      <td>-95.399437</td>\n",
              "      <td>29.813824</td>\n",
              "      <td>-95.399437</td>\n",
              "      <td>0.000</td>\n",
              "      <td>Accident on 30th St at Yale St.</td>\n",
              "      <td>3001.0</td>\n",
              "      <td>Yale St</td>\n",
              "      <td>L</td>\n",
              "      <td>Houston</td>\n",
              "      <td>Harris</td>\n",
              "      <td>TX</td>\n",
              "      <td>77018-8433</td>\n",
              "      <td>US</td>\n",
              "      <td>US/Central</td>\n",
              "      <td>KMCJ</td>\n",
              "      <td>2018-06-28 08:35:00</td>\n",
              "      <td>84.2</td>\n",
              "      <td>NaN</td>\n",
              "      <td>70.0</td>\n",
              "      <td>30.02</td>\n",
              "      <td>9.0</td>\n",
              "      <td>Variable</td>\n",
              "      <td>5.8</td>\n",
              "      <td>NaN</td>\n",
              "      <td>Clear</td>\n",
              "      <td>False</td>\n",
              "      <td>False</td>\n",
              "      <td>False</td>\n",
              "      <td>False</td>\n",
              "      <td>False</td>\n",
              "      <td>False</td>\n",
              "      <td>False</td>\n",
              "      <td>False</td>\n",
              "      <td>False</td>\n",
              "      <td>True</td>\n",
              "      <td>False</td>\n",
              "      <td>False</td>\n",
              "      <td>False</td>\n",
              "      <td>Day</td>\n",
              "      <td>Day</td>\n",
              "      <td>Day</td>\n",
              "      <td>Day</td>\n",
              "    </tr>\n",
              "    <tr>\n",
              "      <th>2906606</th>\n",
              "      <td>A-2906607</td>\n",
              "      <td>2</td>\n",
              "      <td>2019-01-10 02:01:01</td>\n",
              "      <td>2019-01-10 02:30:32</td>\n",
              "      <td>34.068890</td>\n",
              "      <td>-117.342010</td>\n",
              "      <td>34.068890</td>\n",
              "      <td>-117.342010</td>\n",
              "      <td>0.000</td>\n",
              "      <td>At Valley Blvd - Accident.</td>\n",
              "      <td>NaN</td>\n",
              "      <td>Cypress Ave</td>\n",
              "      <td>R</td>\n",
              "      <td>Colton</td>\n",
              "      <td>San Bernardino</td>\n",
              "      <td>CA</td>\n",
              "      <td>92324</td>\n",
              "      <td>US</td>\n",
              "      <td>US/Pacific</td>\n",
              "      <td>KSBD</td>\n",
              "      <td>2019-01-10 02:00:00</td>\n",
              "      <td>46.9</td>\n",
              "      <td>NaN</td>\n",
              "      <td>74.0</td>\n",
              "      <td>30.14</td>\n",
              "      <td>10.0</td>\n",
              "      <td>Calm</td>\n",
              "      <td>NaN</td>\n",
              "      <td>NaN</td>\n",
              "      <td>Clear</td>\n",
              "      <td>False</td>\n",
              "      <td>False</td>\n",
              "      <td>False</td>\n",
              "      <td>False</td>\n",
              "      <td>False</td>\n",
              "      <td>False</td>\n",
              "      <td>False</td>\n",
              "      <td>False</td>\n",
              "      <td>False</td>\n",
              "      <td>False</td>\n",
              "      <td>False</td>\n",
              "      <td>False</td>\n",
              "      <td>False</td>\n",
              "      <td>Night</td>\n",
              "      <td>Night</td>\n",
              "      <td>Night</td>\n",
              "      <td>Night</td>\n",
              "    </tr>\n",
              "    <tr>\n",
              "      <th>2906607</th>\n",
              "      <td>A-2906608</td>\n",
              "      <td>2</td>\n",
              "      <td>2020-11-23 12:52:00</td>\n",
              "      <td>2020-11-24 00:47:37</td>\n",
              "      <td>25.702200</td>\n",
              "      <td>-80.335556</td>\n",
              "      <td>25.703040</td>\n",
              "      <td>-80.334099</td>\n",
              "      <td>0.108</td>\n",
              "      <td>Stationary traffic on County Hwy-913 - FL-986 ...</td>\n",
              "      <td>8798.0</td>\n",
              "      <td>SW 72nd St</td>\n",
              "      <td>L</td>\n",
              "      <td>Miami</td>\n",
              "      <td>Miami-Dade</td>\n",
              "      <td>FL</td>\n",
              "      <td>33173-3512</td>\n",
              "      <td>US</td>\n",
              "      <td>US/Eastern</td>\n",
              "      <td>KTMB</td>\n",
              "      <td>2020-11-23 12:53:00</td>\n",
              "      <td>76.0</td>\n",
              "      <td>76.0</td>\n",
              "      <td>85.0</td>\n",
              "      <td>30.00</td>\n",
              "      <td>10.0</td>\n",
              "      <td>NNW</td>\n",
              "      <td>16.0</td>\n",
              "      <td>0.0</td>\n",
              "      <td>Mostly Cloudy</td>\n",
              "      <td>False</td>\n",
              "      <td>False</td>\n",
              "      <td>False</td>\n",
              "      <td>False</td>\n",
              "      <td>False</td>\n",
              "      <td>False</td>\n",
              "      <td>False</td>\n",
              "      <td>False</td>\n",
              "      <td>False</td>\n",
              "      <td>False</td>\n",
              "      <td>False</td>\n",
              "      <td>False</td>\n",
              "      <td>False</td>\n",
              "      <td>Day</td>\n",
              "      <td>Day</td>\n",
              "      <td>Day</td>\n",
              "      <td>Day</td>\n",
              "    </tr>\n",
              "    <tr>\n",
              "      <th>2906608</th>\n",
              "      <td>A-2906609</td>\n",
              "      <td>2</td>\n",
              "      <td>2019-12-29 22:38:00</td>\n",
              "      <td>2019-12-29 23:38:00</td>\n",
              "      <td>40.660140</td>\n",
              "      <td>-111.952460</td>\n",
              "      <td>40.660140</td>\n",
              "      <td>-111.952460</td>\n",
              "      <td>0.000</td>\n",
              "      <td>At UT-266/4700/Exit 15 - Accident.</td>\n",
              "      <td>NaN</td>\n",
              "      <td>I-215 N</td>\n",
              "      <td>R</td>\n",
              "      <td>Salt Lake City</td>\n",
              "      <td>Salt Lake</td>\n",
              "      <td>UT</td>\n",
              "      <td>84129</td>\n",
              "      <td>US</td>\n",
              "      <td>US/Mountain</td>\n",
              "      <td>KU42</td>\n",
              "      <td>2019-12-29 22:54:00</td>\n",
              "      <td>27.0</td>\n",
              "      <td>19.0</td>\n",
              "      <td>81.0</td>\n",
              "      <td>25.81</td>\n",
              "      <td>10.0</td>\n",
              "      <td>SSE</td>\n",
              "      <td>8.0</td>\n",
              "      <td>0.0</td>\n",
              "      <td>Cloudy</td>\n",
              "      <td>False</td>\n",
              "      <td>False</td>\n",
              "      <td>False</td>\n",
              "      <td>False</td>\n",
              "      <td>False</td>\n",
              "      <td>False</td>\n",
              "      <td>False</td>\n",
              "      <td>False</td>\n",
              "      <td>False</td>\n",
              "      <td>False</td>\n",
              "      <td>False</td>\n",
              "      <td>False</td>\n",
              "      <td>False</td>\n",
              "      <td>Night</td>\n",
              "      <td>Night</td>\n",
              "      <td>Night</td>\n",
              "      <td>Night</td>\n",
              "    </tr>\n",
              "    <tr>\n",
              "      <th>2906609</th>\n",
              "      <td>A-2906610</td>\n",
              "      <td>2</td>\n",
              "      <td>2018-03-26 13:35:03</td>\n",
              "      <td>2018-03-26 14:39:00</td>\n",
              "      <td>38.831749</td>\n",
              "      <td>-104.748161</td>\n",
              "      <td>38.831749</td>\n",
              "      <td>-104.748161</td>\n",
              "      <td>0.000</td>\n",
              "      <td>Accident on Murray Blvd at Byron Dr.</td>\n",
              "      <td>NaN</td>\n",
              "      <td>Byron Dr</td>\n",
              "      <td>R</td>\n",
              "      <td>Colorado Springs</td>\n",
              "      <td>El Paso</td>\n",
              "      <td>CO</td>\n",
              "      <td>80916</td>\n",
              "      <td>US</td>\n",
              "      <td>US/Mountain</td>\n",
              "      <td>KCOS</td>\n",
              "      <td>2018-03-26 13:54:00</td>\n",
              "      <td>51.1</td>\n",
              "      <td>NaN</td>\n",
              "      <td>38.0</td>\n",
              "      <td>29.77</td>\n",
              "      <td>10.0</td>\n",
              "      <td>SE</td>\n",
              "      <td>13.8</td>\n",
              "      <td>NaN</td>\n",
              "      <td>Scattered Clouds</td>\n",
              "      <td>False</td>\n",
              "      <td>False</td>\n",
              "      <td>True</td>\n",
              "      <td>False</td>\n",
              "      <td>False</td>\n",
              "      <td>False</td>\n",
              "      <td>False</td>\n",
              "      <td>False</td>\n",
              "      <td>False</td>\n",
              "      <td>False</td>\n",
              "      <td>False</td>\n",
              "      <td>True</td>\n",
              "      <td>False</td>\n",
              "      <td>Day</td>\n",
              "      <td>Day</td>\n",
              "      <td>Day</td>\n",
              "      <td>Day</td>\n",
              "    </tr>\n",
              "  </tbody>\n",
              "</table>\n",
              "<p>2906610 rows × 47 columns</p>\n",
              "</div>"
            ],
            "text/plain": [
              "                ID  Severity  ... Nautical_Twilight Astronomical_Twilight\n",
              "0              A-1         2  ...               Day                   Day\n",
              "1              A-2         2  ...               Day                   Day\n",
              "2              A-3         2  ...             Night                 Night\n",
              "3              A-4         2  ...               Day                   Day\n",
              "4              A-5         3  ...               Day                   Day\n",
              "...            ...       ...  ...               ...                   ...\n",
              "2906605  A-2906606         2  ...               Day                   Day\n",
              "2906606  A-2906607         2  ...             Night                 Night\n",
              "2906607  A-2906608         2  ...               Day                   Day\n",
              "2906608  A-2906609         2  ...             Night                 Night\n",
              "2906609  A-2906610         2  ...               Day                   Day\n",
              "\n",
              "[2906610 rows x 47 columns]"
            ]
          },
          "metadata": {
            "tags": []
          },
          "execution_count": 7
        }
      ]
    },
    {
      "cell_type": "code",
      "metadata": {
        "colab": {
          "base_uri": "https://localhost:8080/"
        },
        "id": "Iu4ZdxciB0K6",
        "outputId": "2b927406-d671-407d-d07c-b0c10639a33f"
      },
      "source": [
        "df.columns"
      ],
      "execution_count": 8,
      "outputs": [
        {
          "output_type": "execute_result",
          "data": {
            "text/plain": [
              "Index(['ID', 'Severity', 'Start_Time', 'End_Time', 'Start_Lat', 'Start_Lng',\n",
              "       'End_Lat', 'End_Lng', 'Distance(mi)', 'Description', 'Number', 'Street',\n",
              "       'Side', 'City', 'County', 'State', 'Zipcode', 'Country', 'Timezone',\n",
              "       'Airport_Code', 'Weather_Timestamp', 'Temperature(F)', 'Wind_Chill(F)',\n",
              "       'Humidity(%)', 'Pressure(in)', 'Visibility(mi)', 'Wind_Direction',\n",
              "       'Wind_Speed(mph)', 'Precipitation(in)', 'Weather_Condition', 'Amenity',\n",
              "       'Bump', 'Crossing', 'Give_Way', 'Junction', 'No_Exit', 'Railway',\n",
              "       'Roundabout', 'Station', 'Stop', 'Traffic_Calming', 'Traffic_Signal',\n",
              "       'Turning_Loop', 'Sunrise_Sunset', 'Civil_Twilight', 'Nautical_Twilight',\n",
              "       'Astronomical_Twilight'],\n",
              "      dtype='object')"
            ]
          },
          "metadata": {
            "tags": []
          },
          "execution_count": 8
        }
      ]
    },
    {
      "cell_type": "code",
      "metadata": {
        "colab": {
          "base_uri": "https://localhost:8080/"
        },
        "id": "ddXzQNCUB0I0",
        "outputId": "a5ec6349-cf8a-4560-c6fc-8c346f059c9b"
      },
      "source": [
        "len(df.columns) #No. of Columns"
      ],
      "execution_count": 9,
      "outputs": [
        {
          "output_type": "execute_result",
          "data": {
            "text/plain": [
              "47"
            ]
          },
          "metadata": {
            "tags": []
          },
          "execution_count": 9
        }
      ]
    },
    {
      "cell_type": "code",
      "metadata": {
        "colab": {
          "base_uri": "https://localhost:8080/"
        },
        "id": "4wpHyZUzB0Go",
        "outputId": "80cd5aca-f7fd-4446-821a-4b5d58e1feac"
      },
      "source": [
        "len(df) #No. of Rows"
      ],
      "execution_count": 10,
      "outputs": [
        {
          "output_type": "execute_result",
          "data": {
            "text/plain": [
              "2906610"
            ]
          },
          "metadata": {
            "tags": []
          },
          "execution_count": 10
        }
      ]
    },
    {
      "cell_type": "code",
      "metadata": {
        "colab": {
          "base_uri": "https://localhost:8080/"
        },
        "id": "lR5dbIlvB0EV",
        "outputId": "24fe8310-82ad-4d15-9fc3-ac631e777ace"
      },
      "source": [
        "df.info() #Details of Rows & Columns"
      ],
      "execution_count": 11,
      "outputs": [
        {
          "output_type": "stream",
          "text": [
            "<class 'pandas.core.frame.DataFrame'>\n",
            "RangeIndex: 2906610 entries, 0 to 2906609\n",
            "Data columns (total 47 columns):\n",
            " #   Column                 Dtype  \n",
            "---  ------                 -----  \n",
            " 0   ID                     object \n",
            " 1   Severity               int64  \n",
            " 2   Start_Time             object \n",
            " 3   End_Time               object \n",
            " 4   Start_Lat              float64\n",
            " 5   Start_Lng              float64\n",
            " 6   End_Lat                float64\n",
            " 7   End_Lng                float64\n",
            " 8   Distance(mi)           float64\n",
            " 9   Description            object \n",
            " 10  Number                 float64\n",
            " 11  Street                 object \n",
            " 12  Side                   object \n",
            " 13  City                   object \n",
            " 14  County                 object \n",
            " 15  State                  object \n",
            " 16  Zipcode                object \n",
            " 17  Country                object \n",
            " 18  Timezone               object \n",
            " 19  Airport_Code           object \n",
            " 20  Weather_Timestamp      object \n",
            " 21  Temperature(F)         float64\n",
            " 22  Wind_Chill(F)          float64\n",
            " 23  Humidity(%)            float64\n",
            " 24  Pressure(in)           float64\n",
            " 25  Visibility(mi)         float64\n",
            " 26  Wind_Direction         object \n",
            " 27  Wind_Speed(mph)        float64\n",
            " 28  Precipitation(in)      float64\n",
            " 29  Weather_Condition      object \n",
            " 30  Amenity                bool   \n",
            " 31  Bump                   bool   \n",
            " 32  Crossing               bool   \n",
            " 33  Give_Way               bool   \n",
            " 34  Junction               bool   \n",
            " 35  No_Exit                bool   \n",
            " 36  Railway                bool   \n",
            " 37  Roundabout             bool   \n",
            " 38  Station                bool   \n",
            " 39  Stop                   bool   \n",
            " 40  Traffic_Calming        bool   \n",
            " 41  Traffic_Signal         bool   \n",
            " 42  Turning_Loop           bool   \n",
            " 43  Sunrise_Sunset         object \n",
            " 44  Civil_Twilight         object \n",
            " 45  Nautical_Twilight      object \n",
            " 46  Astronomical_Twilight  object \n",
            "dtypes: bool(13), float64(13), int64(1), object(20)\n",
            "memory usage: 790.0+ MB\n"
          ],
          "name": "stdout"
        }
      ]
    },
    {
      "cell_type": "code",
      "metadata": {
        "colab": {
          "base_uri": "https://localhost:8080/",
          "height": 308
        },
        "id": "InBMhY2jB0Bp",
        "outputId": "bbe2cf5c-f62e-4e4a-b41c-267c819436c6"
      },
      "source": [
        "df.describe() #Dcuments Statistics"
      ],
      "execution_count": 12,
      "outputs": [
        {
          "output_type": "execute_result",
          "data": {
            "text/html": [
              "<div>\n",
              "<style scoped>\n",
              "    .dataframe tbody tr th:only-of-type {\n",
              "        vertical-align: middle;\n",
              "    }\n",
              "\n",
              "    .dataframe tbody tr th {\n",
              "        vertical-align: top;\n",
              "    }\n",
              "\n",
              "    .dataframe thead th {\n",
              "        text-align: right;\n",
              "    }\n",
              "</style>\n",
              "<table border=\"1\" class=\"dataframe\">\n",
              "  <thead>\n",
              "    <tr style=\"text-align: right;\">\n",
              "      <th></th>\n",
              "      <th>Severity</th>\n",
              "      <th>Start_Lat</th>\n",
              "      <th>Start_Lng</th>\n",
              "      <th>End_Lat</th>\n",
              "      <th>End_Lng</th>\n",
              "      <th>Distance(mi)</th>\n",
              "      <th>Number</th>\n",
              "      <th>Temperature(F)</th>\n",
              "      <th>Wind_Chill(F)</th>\n",
              "      <th>Humidity(%)</th>\n",
              "      <th>Pressure(in)</th>\n",
              "      <th>Visibility(mi)</th>\n",
              "      <th>Wind_Speed(mph)</th>\n",
              "      <th>Precipitation(in)</th>\n",
              "    </tr>\n",
              "  </thead>\n",
              "  <tbody>\n",
              "    <tr>\n",
              "      <th>count</th>\n",
              "      <td>2.906610e+06</td>\n",
              "      <td>2.906610e+06</td>\n",
              "      <td>2.906610e+06</td>\n",
              "      <td>2.623789e+06</td>\n",
              "      <td>2.623789e+06</td>\n",
              "      <td>2.906610e+06</td>\n",
              "      <td>1.014938e+06</td>\n",
              "      <td>2.839386e+06</td>\n",
              "      <td>1.722751e+06</td>\n",
              "      <td>2.835340e+06</td>\n",
              "      <td>2.849702e+06</td>\n",
              "      <td>2.834532e+06</td>\n",
              "      <td>2.599447e+06</td>\n",
              "      <td>1.605284e+06</td>\n",
              "    </tr>\n",
              "    <tr>\n",
              "      <th>mean</th>\n",
              "      <td>2.288649e+00</td>\n",
              "      <td>3.653027e+01</td>\n",
              "      <td>-9.642676e+01</td>\n",
              "      <td>3.651733e+01</td>\n",
              "      <td>-9.620367e+01</td>\n",
              "      <td>3.980541e-01</td>\n",
              "      <td>6.789728e+03</td>\n",
              "      <td>6.098873e+01</td>\n",
              "      <td>5.499048e+01</td>\n",
              "      <td>6.537758e+01</td>\n",
              "      <td>2.965685e+01</td>\n",
              "      <td>9.116766e+00</td>\n",
              "      <td>7.818111e+00</td>\n",
              "      <td>1.119459e-02</td>\n",
              "    </tr>\n",
              "    <tr>\n",
              "      <th>std</th>\n",
              "      <td>5.541618e-01</td>\n",
              "      <td>5.013964e+00</td>\n",
              "      <td>1.775412e+01</td>\n",
              "      <td>5.016609e+00</td>\n",
              "      <td>1.765971e+01</td>\n",
              "      <td>1.592556e+00</td>\n",
              "      <td>1.697225e+04</td>\n",
              "      <td>1.845258e+01</td>\n",
              "      <td>2.219542e+01</td>\n",
              "      <td>2.287854e+01</td>\n",
              "      <td>9.094133e-01</td>\n",
              "      <td>2.837271e+00</td>\n",
              "      <td>5.431171e+00</td>\n",
              "      <td>1.540812e-01</td>\n",
              "    </tr>\n",
              "    <tr>\n",
              "      <th>min</th>\n",
              "      <td>1.000000e+00</td>\n",
              "      <td>2.455527e+01</td>\n",
              "      <td>-1.246238e+02</td>\n",
              "      <td>2.455527e+01</td>\n",
              "      <td>-1.246238e+02</td>\n",
              "      <td>0.000000e+00</td>\n",
              "      <td>0.000000e+00</td>\n",
              "      <td>-8.900000e+01</td>\n",
              "      <td>-8.900000e+01</td>\n",
              "      <td>1.000000e+00</td>\n",
              "      <td>0.000000e+00</td>\n",
              "      <td>0.000000e+00</td>\n",
              "      <td>0.000000e+00</td>\n",
              "      <td>0.000000e+00</td>\n",
              "    </tr>\n",
              "    <tr>\n",
              "      <th>25%</th>\n",
              "      <td>2.000000e+00</td>\n",
              "      <td>3.366453e+01</td>\n",
              "      <td>-1.178232e+02</td>\n",
              "      <td>3.364659e+01</td>\n",
              "      <td>-1.177020e+02</td>\n",
              "      <td>0.000000e+00</td>\n",
              "      <td>9.650000e+02</td>\n",
              "      <td>4.890000e+01</td>\n",
              "      <td>3.900000e+01</td>\n",
              "      <td>4.900000e+01</td>\n",
              "      <td>2.959000e+01</td>\n",
              "      <td>1.000000e+01</td>\n",
              "      <td>4.600000e+00</td>\n",
              "      <td>0.000000e+00</td>\n",
              "    </tr>\n",
              "    <tr>\n",
              "      <th>50%</th>\n",
              "      <td>2.000000e+00</td>\n",
              "      <td>3.609977e+01</td>\n",
              "      <td>-9.116690e+01</td>\n",
              "      <td>3.605898e+01</td>\n",
              "      <td>-9.105163e+01</td>\n",
              "      <td>0.000000e+00</td>\n",
              "      <td>3.093000e+03</td>\n",
              "      <td>6.300000e+01</td>\n",
              "      <td>5.800000e+01</td>\n",
              "      <td>6.800000e+01</td>\n",
              "      <td>2.992000e+01</td>\n",
              "      <td>1.000000e+01</td>\n",
              "      <td>7.000000e+00</td>\n",
              "      <td>0.000000e+00</td>\n",
              "    </tr>\n",
              "    <tr>\n",
              "      <th>75%</th>\n",
              "      <td>3.000000e+00</td>\n",
              "      <td>4.037505e+01</td>\n",
              "      <td>-8.085814e+01</td>\n",
              "      <td>4.033133e+01</td>\n",
              "      <td>-8.084679e+01</td>\n",
              "      <td>2.790000e-01</td>\n",
              "      <td>7.976000e+03</td>\n",
              "      <td>7.500000e+01</td>\n",
              "      <td>7.200000e+01</td>\n",
              "      <td>8.500000e+01</td>\n",
              "      <td>3.007000e+01</td>\n",
              "      <td>1.000000e+01</td>\n",
              "      <td>1.040000e+01</td>\n",
              "      <td>0.000000e+00</td>\n",
              "    </tr>\n",
              "    <tr>\n",
              "      <th>max</th>\n",
              "      <td>4.000000e+00</td>\n",
              "      <td>4.900220e+01</td>\n",
              "      <td>-6.711317e+01</td>\n",
              "      <td>4.907500e+01</td>\n",
              "      <td>-6.710924e+01</td>\n",
              "      <td>3.336300e+02</td>\n",
              "      <td>9.999997e+06</td>\n",
              "      <td>2.030000e+02</td>\n",
              "      <td>1.740000e+02</td>\n",
              "      <td>1.000000e+02</td>\n",
              "      <td>5.804000e+01</td>\n",
              "      <td>1.400000e+02</td>\n",
              "      <td>9.840000e+02</td>\n",
              "      <td>2.400000e+01</td>\n",
              "    </tr>\n",
              "  </tbody>\n",
              "</table>\n",
              "</div>"
            ],
            "text/plain": [
              "           Severity     Start_Lat  ...  Wind_Speed(mph)  Precipitation(in)\n",
              "count  2.906610e+06  2.906610e+06  ...     2.599447e+06       1.605284e+06\n",
              "mean   2.288649e+00  3.653027e+01  ...     7.818111e+00       1.119459e-02\n",
              "std    5.541618e-01  5.013964e+00  ...     5.431171e+00       1.540812e-01\n",
              "min    1.000000e+00  2.455527e+01  ...     0.000000e+00       0.000000e+00\n",
              "25%    2.000000e+00  3.366453e+01  ...     4.600000e+00       0.000000e+00\n",
              "50%    2.000000e+00  3.609977e+01  ...     7.000000e+00       0.000000e+00\n",
              "75%    3.000000e+00  4.037505e+01  ...     1.040000e+01       0.000000e+00\n",
              "max    4.000000e+00  4.900220e+01  ...     9.840000e+02       2.400000e+01\n",
              "\n",
              "[8 rows x 14 columns]"
            ]
          },
          "metadata": {
            "tags": []
          },
          "execution_count": 12
        }
      ]
    },
    {
      "cell_type": "code",
      "metadata": {
        "colab": {
          "base_uri": "https://localhost:8080/"
        },
        "id": "J49vFYHMBz_C",
        "outputId": "c9888725-e746-41a2-aa2a-6cf8deca715d"
      },
      "source": [
        "# Numeric Data\n",
        "\n",
        "numerics = ['int16', 'int32', 'int64', 'float16', 'float32', 'float64']\n",
        "\n",
        "numeric_df = df.select_dtypes(include=numerics)\n",
        "len(numeric_df.columns)"
      ],
      "execution_count": 13,
      "outputs": [
        {
          "output_type": "execute_result",
          "data": {
            "text/plain": [
              "14"
            ]
          },
          "metadata": {
            "tags": []
          },
          "execution_count": 13
        }
      ]
    },
    {
      "cell_type": "code",
      "metadata": {
        "colab": {
          "base_uri": "https://localhost:8080/",
          "height": 428
        },
        "id": "GQ4RVhznBz4y",
        "outputId": "7ed0de36-aa8f-4e41-dd60-d2c53a584779"
      },
      "source": [
        "df.isna()  #To show NA cells"
      ],
      "execution_count": 14,
      "outputs": [
        {
          "output_type": "execute_result",
          "data": {
            "text/html": [
              "<div>\n",
              "<style scoped>\n",
              "    .dataframe tbody tr th:only-of-type {\n",
              "        vertical-align: middle;\n",
              "    }\n",
              "\n",
              "    .dataframe tbody tr th {\n",
              "        vertical-align: top;\n",
              "    }\n",
              "\n",
              "    .dataframe thead th {\n",
              "        text-align: right;\n",
              "    }\n",
              "</style>\n",
              "<table border=\"1\" class=\"dataframe\">\n",
              "  <thead>\n",
              "    <tr style=\"text-align: right;\">\n",
              "      <th></th>\n",
              "      <th>ID</th>\n",
              "      <th>Severity</th>\n",
              "      <th>Start_Time</th>\n",
              "      <th>End_Time</th>\n",
              "      <th>Start_Lat</th>\n",
              "      <th>Start_Lng</th>\n",
              "      <th>End_Lat</th>\n",
              "      <th>End_Lng</th>\n",
              "      <th>Distance(mi)</th>\n",
              "      <th>Description</th>\n",
              "      <th>Number</th>\n",
              "      <th>Street</th>\n",
              "      <th>Side</th>\n",
              "      <th>City</th>\n",
              "      <th>County</th>\n",
              "      <th>State</th>\n",
              "      <th>Zipcode</th>\n",
              "      <th>Country</th>\n",
              "      <th>Timezone</th>\n",
              "      <th>Airport_Code</th>\n",
              "      <th>Weather_Timestamp</th>\n",
              "      <th>Temperature(F)</th>\n",
              "      <th>Wind_Chill(F)</th>\n",
              "      <th>Humidity(%)</th>\n",
              "      <th>Pressure(in)</th>\n",
              "      <th>Visibility(mi)</th>\n",
              "      <th>Wind_Direction</th>\n",
              "      <th>Wind_Speed(mph)</th>\n",
              "      <th>Precipitation(in)</th>\n",
              "      <th>Weather_Condition</th>\n",
              "      <th>Amenity</th>\n",
              "      <th>Bump</th>\n",
              "      <th>Crossing</th>\n",
              "      <th>Give_Way</th>\n",
              "      <th>Junction</th>\n",
              "      <th>No_Exit</th>\n",
              "      <th>Railway</th>\n",
              "      <th>Roundabout</th>\n",
              "      <th>Station</th>\n",
              "      <th>Stop</th>\n",
              "      <th>Traffic_Calming</th>\n",
              "      <th>Traffic_Signal</th>\n",
              "      <th>Turning_Loop</th>\n",
              "      <th>Sunrise_Sunset</th>\n",
              "      <th>Civil_Twilight</th>\n",
              "      <th>Nautical_Twilight</th>\n",
              "      <th>Astronomical_Twilight</th>\n",
              "    </tr>\n",
              "  </thead>\n",
              "  <tbody>\n",
              "    <tr>\n",
              "      <th>0</th>\n",
              "      <td>False</td>\n",
              "      <td>False</td>\n",
              "      <td>False</td>\n",
              "      <td>False</td>\n",
              "      <td>False</td>\n",
              "      <td>False</td>\n",
              "      <td>False</td>\n",
              "      <td>False</td>\n",
              "      <td>False</td>\n",
              "      <td>False</td>\n",
              "      <td>False</td>\n",
              "      <td>False</td>\n",
              "      <td>False</td>\n",
              "      <td>False</td>\n",
              "      <td>False</td>\n",
              "      <td>False</td>\n",
              "      <td>False</td>\n",
              "      <td>False</td>\n",
              "      <td>False</td>\n",
              "      <td>False</td>\n",
              "      <td>False</td>\n",
              "      <td>False</td>\n",
              "      <td>False</td>\n",
              "      <td>False</td>\n",
              "      <td>False</td>\n",
              "      <td>False</td>\n",
              "      <td>False</td>\n",
              "      <td>False</td>\n",
              "      <td>False</td>\n",
              "      <td>False</td>\n",
              "      <td>False</td>\n",
              "      <td>False</td>\n",
              "      <td>False</td>\n",
              "      <td>False</td>\n",
              "      <td>False</td>\n",
              "      <td>False</td>\n",
              "      <td>False</td>\n",
              "      <td>False</td>\n",
              "      <td>False</td>\n",
              "      <td>False</td>\n",
              "      <td>False</td>\n",
              "      <td>False</td>\n",
              "      <td>False</td>\n",
              "      <td>False</td>\n",
              "      <td>False</td>\n",
              "      <td>False</td>\n",
              "      <td>False</td>\n",
              "    </tr>\n",
              "    <tr>\n",
              "      <th>1</th>\n",
              "      <td>False</td>\n",
              "      <td>False</td>\n",
              "      <td>False</td>\n",
              "      <td>False</td>\n",
              "      <td>False</td>\n",
              "      <td>False</td>\n",
              "      <td>False</td>\n",
              "      <td>False</td>\n",
              "      <td>False</td>\n",
              "      <td>False</td>\n",
              "      <td>False</td>\n",
              "      <td>False</td>\n",
              "      <td>False</td>\n",
              "      <td>False</td>\n",
              "      <td>False</td>\n",
              "      <td>False</td>\n",
              "      <td>False</td>\n",
              "      <td>False</td>\n",
              "      <td>False</td>\n",
              "      <td>False</td>\n",
              "      <td>False</td>\n",
              "      <td>False</td>\n",
              "      <td>False</td>\n",
              "      <td>False</td>\n",
              "      <td>False</td>\n",
              "      <td>False</td>\n",
              "      <td>False</td>\n",
              "      <td>False</td>\n",
              "      <td>False</td>\n",
              "      <td>False</td>\n",
              "      <td>False</td>\n",
              "      <td>False</td>\n",
              "      <td>False</td>\n",
              "      <td>False</td>\n",
              "      <td>False</td>\n",
              "      <td>False</td>\n",
              "      <td>False</td>\n",
              "      <td>False</td>\n",
              "      <td>False</td>\n",
              "      <td>False</td>\n",
              "      <td>False</td>\n",
              "      <td>False</td>\n",
              "      <td>False</td>\n",
              "      <td>False</td>\n",
              "      <td>False</td>\n",
              "      <td>False</td>\n",
              "      <td>False</td>\n",
              "    </tr>\n",
              "    <tr>\n",
              "      <th>2</th>\n",
              "      <td>False</td>\n",
              "      <td>False</td>\n",
              "      <td>False</td>\n",
              "      <td>False</td>\n",
              "      <td>False</td>\n",
              "      <td>False</td>\n",
              "      <td>False</td>\n",
              "      <td>False</td>\n",
              "      <td>False</td>\n",
              "      <td>False</td>\n",
              "      <td>True</td>\n",
              "      <td>False</td>\n",
              "      <td>False</td>\n",
              "      <td>False</td>\n",
              "      <td>False</td>\n",
              "      <td>False</td>\n",
              "      <td>False</td>\n",
              "      <td>False</td>\n",
              "      <td>False</td>\n",
              "      <td>False</td>\n",
              "      <td>False</td>\n",
              "      <td>False</td>\n",
              "      <td>False</td>\n",
              "      <td>False</td>\n",
              "      <td>False</td>\n",
              "      <td>False</td>\n",
              "      <td>False</td>\n",
              "      <td>False</td>\n",
              "      <td>False</td>\n",
              "      <td>False</td>\n",
              "      <td>False</td>\n",
              "      <td>False</td>\n",
              "      <td>False</td>\n",
              "      <td>False</td>\n",
              "      <td>False</td>\n",
              "      <td>False</td>\n",
              "      <td>False</td>\n",
              "      <td>False</td>\n",
              "      <td>False</td>\n",
              "      <td>False</td>\n",
              "      <td>False</td>\n",
              "      <td>False</td>\n",
              "      <td>False</td>\n",
              "      <td>False</td>\n",
              "      <td>False</td>\n",
              "      <td>False</td>\n",
              "      <td>False</td>\n",
              "    </tr>\n",
              "    <tr>\n",
              "      <th>3</th>\n",
              "      <td>False</td>\n",
              "      <td>False</td>\n",
              "      <td>False</td>\n",
              "      <td>False</td>\n",
              "      <td>False</td>\n",
              "      <td>False</td>\n",
              "      <td>False</td>\n",
              "      <td>False</td>\n",
              "      <td>False</td>\n",
              "      <td>False</td>\n",
              "      <td>True</td>\n",
              "      <td>False</td>\n",
              "      <td>False</td>\n",
              "      <td>False</td>\n",
              "      <td>False</td>\n",
              "      <td>False</td>\n",
              "      <td>False</td>\n",
              "      <td>False</td>\n",
              "      <td>False</td>\n",
              "      <td>False</td>\n",
              "      <td>False</td>\n",
              "      <td>False</td>\n",
              "      <td>True</td>\n",
              "      <td>False</td>\n",
              "      <td>False</td>\n",
              "      <td>False</td>\n",
              "      <td>False</td>\n",
              "      <td>False</td>\n",
              "      <td>True</td>\n",
              "      <td>False</td>\n",
              "      <td>False</td>\n",
              "      <td>False</td>\n",
              "      <td>False</td>\n",
              "      <td>False</td>\n",
              "      <td>False</td>\n",
              "      <td>False</td>\n",
              "      <td>False</td>\n",
              "      <td>False</td>\n",
              "      <td>False</td>\n",
              "      <td>False</td>\n",
              "      <td>False</td>\n",
              "      <td>False</td>\n",
              "      <td>False</td>\n",
              "      <td>False</td>\n",
              "      <td>False</td>\n",
              "      <td>False</td>\n",
              "      <td>False</td>\n",
              "    </tr>\n",
              "    <tr>\n",
              "      <th>4</th>\n",
              "      <td>False</td>\n",
              "      <td>False</td>\n",
              "      <td>False</td>\n",
              "      <td>False</td>\n",
              "      <td>False</td>\n",
              "      <td>False</td>\n",
              "      <td>False</td>\n",
              "      <td>False</td>\n",
              "      <td>False</td>\n",
              "      <td>False</td>\n",
              "      <td>True</td>\n",
              "      <td>False</td>\n",
              "      <td>False</td>\n",
              "      <td>False</td>\n",
              "      <td>False</td>\n",
              "      <td>False</td>\n",
              "      <td>False</td>\n",
              "      <td>False</td>\n",
              "      <td>False</td>\n",
              "      <td>False</td>\n",
              "      <td>False</td>\n",
              "      <td>False</td>\n",
              "      <td>True</td>\n",
              "      <td>False</td>\n",
              "      <td>False</td>\n",
              "      <td>False</td>\n",
              "      <td>False</td>\n",
              "      <td>False</td>\n",
              "      <td>True</td>\n",
              "      <td>False</td>\n",
              "      <td>False</td>\n",
              "      <td>False</td>\n",
              "      <td>False</td>\n",
              "      <td>False</td>\n",
              "      <td>False</td>\n",
              "      <td>False</td>\n",
              "      <td>False</td>\n",
              "      <td>False</td>\n",
              "      <td>False</td>\n",
              "      <td>False</td>\n",
              "      <td>False</td>\n",
              "      <td>False</td>\n",
              "      <td>False</td>\n",
              "      <td>False</td>\n",
              "      <td>False</td>\n",
              "      <td>False</td>\n",
              "      <td>False</td>\n",
              "    </tr>\n",
              "    <tr>\n",
              "      <th>...</th>\n",
              "      <td>...</td>\n",
              "      <td>...</td>\n",
              "      <td>...</td>\n",
              "      <td>...</td>\n",
              "      <td>...</td>\n",
              "      <td>...</td>\n",
              "      <td>...</td>\n",
              "      <td>...</td>\n",
              "      <td>...</td>\n",
              "      <td>...</td>\n",
              "      <td>...</td>\n",
              "      <td>...</td>\n",
              "      <td>...</td>\n",
              "      <td>...</td>\n",
              "      <td>...</td>\n",
              "      <td>...</td>\n",
              "      <td>...</td>\n",
              "      <td>...</td>\n",
              "      <td>...</td>\n",
              "      <td>...</td>\n",
              "      <td>...</td>\n",
              "      <td>...</td>\n",
              "      <td>...</td>\n",
              "      <td>...</td>\n",
              "      <td>...</td>\n",
              "      <td>...</td>\n",
              "      <td>...</td>\n",
              "      <td>...</td>\n",
              "      <td>...</td>\n",
              "      <td>...</td>\n",
              "      <td>...</td>\n",
              "      <td>...</td>\n",
              "      <td>...</td>\n",
              "      <td>...</td>\n",
              "      <td>...</td>\n",
              "      <td>...</td>\n",
              "      <td>...</td>\n",
              "      <td>...</td>\n",
              "      <td>...</td>\n",
              "      <td>...</td>\n",
              "      <td>...</td>\n",
              "      <td>...</td>\n",
              "      <td>...</td>\n",
              "      <td>...</td>\n",
              "      <td>...</td>\n",
              "      <td>...</td>\n",
              "      <td>...</td>\n",
              "    </tr>\n",
              "    <tr>\n",
              "      <th>2906605</th>\n",
              "      <td>False</td>\n",
              "      <td>False</td>\n",
              "      <td>False</td>\n",
              "      <td>False</td>\n",
              "      <td>False</td>\n",
              "      <td>False</td>\n",
              "      <td>False</td>\n",
              "      <td>False</td>\n",
              "      <td>False</td>\n",
              "      <td>False</td>\n",
              "      <td>False</td>\n",
              "      <td>False</td>\n",
              "      <td>False</td>\n",
              "      <td>False</td>\n",
              "      <td>False</td>\n",
              "      <td>False</td>\n",
              "      <td>False</td>\n",
              "      <td>False</td>\n",
              "      <td>False</td>\n",
              "      <td>False</td>\n",
              "      <td>False</td>\n",
              "      <td>False</td>\n",
              "      <td>True</td>\n",
              "      <td>False</td>\n",
              "      <td>False</td>\n",
              "      <td>False</td>\n",
              "      <td>False</td>\n",
              "      <td>False</td>\n",
              "      <td>True</td>\n",
              "      <td>False</td>\n",
              "      <td>False</td>\n",
              "      <td>False</td>\n",
              "      <td>False</td>\n",
              "      <td>False</td>\n",
              "      <td>False</td>\n",
              "      <td>False</td>\n",
              "      <td>False</td>\n",
              "      <td>False</td>\n",
              "      <td>False</td>\n",
              "      <td>False</td>\n",
              "      <td>False</td>\n",
              "      <td>False</td>\n",
              "      <td>False</td>\n",
              "      <td>False</td>\n",
              "      <td>False</td>\n",
              "      <td>False</td>\n",
              "      <td>False</td>\n",
              "    </tr>\n",
              "    <tr>\n",
              "      <th>2906606</th>\n",
              "      <td>False</td>\n",
              "      <td>False</td>\n",
              "      <td>False</td>\n",
              "      <td>False</td>\n",
              "      <td>False</td>\n",
              "      <td>False</td>\n",
              "      <td>False</td>\n",
              "      <td>False</td>\n",
              "      <td>False</td>\n",
              "      <td>False</td>\n",
              "      <td>True</td>\n",
              "      <td>False</td>\n",
              "      <td>False</td>\n",
              "      <td>False</td>\n",
              "      <td>False</td>\n",
              "      <td>False</td>\n",
              "      <td>False</td>\n",
              "      <td>False</td>\n",
              "      <td>False</td>\n",
              "      <td>False</td>\n",
              "      <td>False</td>\n",
              "      <td>False</td>\n",
              "      <td>True</td>\n",
              "      <td>False</td>\n",
              "      <td>False</td>\n",
              "      <td>False</td>\n",
              "      <td>False</td>\n",
              "      <td>True</td>\n",
              "      <td>True</td>\n",
              "      <td>False</td>\n",
              "      <td>False</td>\n",
              "      <td>False</td>\n",
              "      <td>False</td>\n",
              "      <td>False</td>\n",
              "      <td>False</td>\n",
              "      <td>False</td>\n",
              "      <td>False</td>\n",
              "      <td>False</td>\n",
              "      <td>False</td>\n",
              "      <td>False</td>\n",
              "      <td>False</td>\n",
              "      <td>False</td>\n",
              "      <td>False</td>\n",
              "      <td>False</td>\n",
              "      <td>False</td>\n",
              "      <td>False</td>\n",
              "      <td>False</td>\n",
              "    </tr>\n",
              "    <tr>\n",
              "      <th>2906607</th>\n",
              "      <td>False</td>\n",
              "      <td>False</td>\n",
              "      <td>False</td>\n",
              "      <td>False</td>\n",
              "      <td>False</td>\n",
              "      <td>False</td>\n",
              "      <td>False</td>\n",
              "      <td>False</td>\n",
              "      <td>False</td>\n",
              "      <td>False</td>\n",
              "      <td>False</td>\n",
              "      <td>False</td>\n",
              "      <td>False</td>\n",
              "      <td>False</td>\n",
              "      <td>False</td>\n",
              "      <td>False</td>\n",
              "      <td>False</td>\n",
              "      <td>False</td>\n",
              "      <td>False</td>\n",
              "      <td>False</td>\n",
              "      <td>False</td>\n",
              "      <td>False</td>\n",
              "      <td>False</td>\n",
              "      <td>False</td>\n",
              "      <td>False</td>\n",
              "      <td>False</td>\n",
              "      <td>False</td>\n",
              "      <td>False</td>\n",
              "      <td>False</td>\n",
              "      <td>False</td>\n",
              "      <td>False</td>\n",
              "      <td>False</td>\n",
              "      <td>False</td>\n",
              "      <td>False</td>\n",
              "      <td>False</td>\n",
              "      <td>False</td>\n",
              "      <td>False</td>\n",
              "      <td>False</td>\n",
              "      <td>False</td>\n",
              "      <td>False</td>\n",
              "      <td>False</td>\n",
              "      <td>False</td>\n",
              "      <td>False</td>\n",
              "      <td>False</td>\n",
              "      <td>False</td>\n",
              "      <td>False</td>\n",
              "      <td>False</td>\n",
              "    </tr>\n",
              "    <tr>\n",
              "      <th>2906608</th>\n",
              "      <td>False</td>\n",
              "      <td>False</td>\n",
              "      <td>False</td>\n",
              "      <td>False</td>\n",
              "      <td>False</td>\n",
              "      <td>False</td>\n",
              "      <td>False</td>\n",
              "      <td>False</td>\n",
              "      <td>False</td>\n",
              "      <td>False</td>\n",
              "      <td>True</td>\n",
              "      <td>False</td>\n",
              "      <td>False</td>\n",
              "      <td>False</td>\n",
              "      <td>False</td>\n",
              "      <td>False</td>\n",
              "      <td>False</td>\n",
              "      <td>False</td>\n",
              "      <td>False</td>\n",
              "      <td>False</td>\n",
              "      <td>False</td>\n",
              "      <td>False</td>\n",
              "      <td>False</td>\n",
              "      <td>False</td>\n",
              "      <td>False</td>\n",
              "      <td>False</td>\n",
              "      <td>False</td>\n",
              "      <td>False</td>\n",
              "      <td>False</td>\n",
              "      <td>False</td>\n",
              "      <td>False</td>\n",
              "      <td>False</td>\n",
              "      <td>False</td>\n",
              "      <td>False</td>\n",
              "      <td>False</td>\n",
              "      <td>False</td>\n",
              "      <td>False</td>\n",
              "      <td>False</td>\n",
              "      <td>False</td>\n",
              "      <td>False</td>\n",
              "      <td>False</td>\n",
              "      <td>False</td>\n",
              "      <td>False</td>\n",
              "      <td>False</td>\n",
              "      <td>False</td>\n",
              "      <td>False</td>\n",
              "      <td>False</td>\n",
              "    </tr>\n",
              "    <tr>\n",
              "      <th>2906609</th>\n",
              "      <td>False</td>\n",
              "      <td>False</td>\n",
              "      <td>False</td>\n",
              "      <td>False</td>\n",
              "      <td>False</td>\n",
              "      <td>False</td>\n",
              "      <td>False</td>\n",
              "      <td>False</td>\n",
              "      <td>False</td>\n",
              "      <td>False</td>\n",
              "      <td>True</td>\n",
              "      <td>False</td>\n",
              "      <td>False</td>\n",
              "      <td>False</td>\n",
              "      <td>False</td>\n",
              "      <td>False</td>\n",
              "      <td>False</td>\n",
              "      <td>False</td>\n",
              "      <td>False</td>\n",
              "      <td>False</td>\n",
              "      <td>False</td>\n",
              "      <td>False</td>\n",
              "      <td>True</td>\n",
              "      <td>False</td>\n",
              "      <td>False</td>\n",
              "      <td>False</td>\n",
              "      <td>False</td>\n",
              "      <td>False</td>\n",
              "      <td>True</td>\n",
              "      <td>False</td>\n",
              "      <td>False</td>\n",
              "      <td>False</td>\n",
              "      <td>False</td>\n",
              "      <td>False</td>\n",
              "      <td>False</td>\n",
              "      <td>False</td>\n",
              "      <td>False</td>\n",
              "      <td>False</td>\n",
              "      <td>False</td>\n",
              "      <td>False</td>\n",
              "      <td>False</td>\n",
              "      <td>False</td>\n",
              "      <td>False</td>\n",
              "      <td>False</td>\n",
              "      <td>False</td>\n",
              "      <td>False</td>\n",
              "      <td>False</td>\n",
              "    </tr>\n",
              "  </tbody>\n",
              "</table>\n",
              "<p>2906610 rows × 47 columns</p>\n",
              "</div>"
            ],
            "text/plain": [
              "            ID  Severity  ...  Nautical_Twilight  Astronomical_Twilight\n",
              "0        False     False  ...              False                  False\n",
              "1        False     False  ...              False                  False\n",
              "2        False     False  ...              False                  False\n",
              "3        False     False  ...              False                  False\n",
              "4        False     False  ...              False                  False\n",
              "...        ...       ...  ...                ...                    ...\n",
              "2906605  False     False  ...              False                  False\n",
              "2906606  False     False  ...              False                  False\n",
              "2906607  False     False  ...              False                  False\n",
              "2906608  False     False  ...              False                  False\n",
              "2906609  False     False  ...              False                  False\n",
              "\n",
              "[2906610 rows x 47 columns]"
            ]
          },
          "metadata": {
            "tags": []
          },
          "execution_count": 14
        }
      ]
    },
    {
      "cell_type": "code",
      "metadata": {
        "colab": {
          "base_uri": "https://localhost:8080/"
        },
        "id": "XwlNBOLRCJjB",
        "outputId": "acfa61f8-00a4-4557-fae7-6c1414ee0d58"
      },
      "source": [
        "missing_percentages = df.isna().sum().sort_values(ascending = False)/len(df) #Sum of Missing Values in %\n",
        "missing_percentages"
      ],
      "execution_count": 15,
      "outputs": [
        {
          "output_type": "execute_result",
          "data": {
            "text/plain": [
              "Number                   0.650817\n",
              "Precipitation(in)        0.447713\n",
              "Wind_Chill(F)            0.407299\n",
              "Wind_Speed(mph)          0.105677\n",
              "End_Lat                  0.097303\n",
              "End_Lng                  0.097303\n",
              "Visibility(mi)           0.024798\n",
              "Weather_Condition        0.024720\n",
              "Humidity(%)              0.024520\n",
              "Temperature(F)           0.023128\n",
              "Wind_Direction           0.021838\n",
              "Pressure(in)             0.019579\n",
              "Weather_Timestamp        0.016141\n",
              "Airport_Code             0.002273\n",
              "Timezone                 0.001180\n",
              "Zipcode                  0.000383\n",
              "Nautical_Twilight        0.000038\n",
              "Astronomical_Twilight    0.000038\n",
              "Civil_Twilight           0.000038\n",
              "Sunrise_Sunset           0.000038\n",
              "City                     0.000037\n",
              "Amenity                  0.000000\n",
              "Severity                 0.000000\n",
              "Start_Time               0.000000\n",
              "End_Time                 0.000000\n",
              "Start_Lat                0.000000\n",
              "Start_Lng                0.000000\n",
              "Distance(mi)             0.000000\n",
              "Description              0.000000\n",
              "Turning_Loop             0.000000\n",
              "Street                   0.000000\n",
              "Side                     0.000000\n",
              "County                   0.000000\n",
              "Bump                     0.000000\n",
              "State                    0.000000\n",
              "Traffic_Signal           0.000000\n",
              "Country                  0.000000\n",
              "Traffic_Calming          0.000000\n",
              "Stop                     0.000000\n",
              "Station                  0.000000\n",
              "Roundabout               0.000000\n",
              "Railway                  0.000000\n",
              "No_Exit                  0.000000\n",
              "Junction                 0.000000\n",
              "Give_Way                 0.000000\n",
              "Crossing                 0.000000\n",
              "ID                       0.000000\n",
              "dtype: float64"
            ]
          },
          "metadata": {
            "tags": []
          },
          "execution_count": 15
        }
      ]
    },
    {
      "cell_type": "code",
      "metadata": {
        "colab": {
          "base_uri": "https://localhost:8080/"
        },
        "id": "1OwUG7FbCJg8",
        "outputId": "55c2d1c6-6090-4754-efbb-0ec170b1c967"
      },
      "source": [
        "type(missing_percentages) #Type Series"
      ],
      "execution_count": 16,
      "outputs": [
        {
          "output_type": "execute_result",
          "data": {
            "text/plain": [
              "pandas.core.series.Series"
            ]
          },
          "metadata": {
            "tags": []
          },
          "execution_count": 16
        }
      ]
    },
    {
      "cell_type": "code",
      "metadata": {
        "colab": {
          "base_uri": "https://localhost:8080/",
          "height": 282
        },
        "id": "FRlvUX8FCJTE",
        "outputId": "569e1d4f-de6e-4409-8394-1c960287a94b"
      },
      "source": [
        "missing_percentages[missing_percentages != 0].plot(kind = 'barh')"
      ],
      "execution_count": 17,
      "outputs": [
        {
          "output_type": "execute_result",
          "data": {
            "text/plain": [
              "<matplotlib.axes._subplots.AxesSubplot at 0x7f9fd7235a90>"
            ]
          },
          "metadata": {
            "tags": []
          },
          "execution_count": 17
        },
        {
          "output_type": "display_data",
          "data": {
            "image/png": "[encoded data removed]",
            "text/plain": [
              "<Figure size 432x288 with 1 Axes>"
            ]
          },
          "metadata": {
            "tags": [],
            "needs_background": "light"
          }
        }
      ]
    },
    {
      "cell_type": "markdown",
      "metadata": {
        "id": "EycmiA0cCTHq"
      },
      "source": [
        "## Exploratory Data Analysis\n",
        "\n",
        "#### 1. City\n",
        "#### 2. Start Time\n",
        "#### 3. Start Lat, Start Lng\n",
        "#### 4. Temperature\n",
        "#### 5. Weather Condition"
      ]
    },
    {
      "cell_type": "code",
      "metadata": {
        "colab": {
          "base_uri": "https://localhost:8080/"
        },
        "id": "wNowJS8fCJN9",
        "outputId": "c8487610-bf13-4314-8686-c699f3f29fd9"
      },
      "source": [
        "df.columns"
      ],
      "execution_count": 18,
      "outputs": [
        {
          "output_type": "execute_result",
          "data": {
            "text/plain": [
              "Index(['ID', 'Severity', 'Start_Time', 'End_Time', 'Start_Lat', 'Start_Lng',\n",
              "       'End_Lat', 'End_Lng', 'Distance(mi)', 'Description', 'Number', 'Street',\n",
              "       'Side', 'City', 'County', 'State', 'Zipcode', 'Country', 'Timezone',\n",
              "       'Airport_Code', 'Weather_Timestamp', 'Temperature(F)', 'Wind_Chill(F)',\n",
              "       'Humidity(%)', 'Pressure(in)', 'Visibility(mi)', 'Wind_Direction',\n",
              "       'Wind_Speed(mph)', 'Precipitation(in)', 'Weather_Condition', 'Amenity',\n",
              "       'Bump', 'Crossing', 'Give_Way', 'Junction', 'No_Exit', 'Railway',\n",
              "       'Roundabout', 'Station', 'Stop', 'Traffic_Calming', 'Traffic_Signal',\n",
              "       'Turning_Loop', 'Sunrise_Sunset', 'Civil_Twilight', 'Nautical_Twilight',\n",
              "       'Astronomical_Twilight'],\n",
              "      dtype='object')"
            ]
          },
          "metadata": {
            "tags": []
          },
          "execution_count": 18
        }
      ]
    },
    {
      "cell_type": "markdown",
      "metadata": {
        "id": "6bAYzRuuCZFo"
      },
      "source": [
        "## City"
      ]
    },
    {
      "cell_type": "code",
      "metadata": {
        "colab": {
          "base_uri": "https://localhost:8080/"
        },
        "id": "VHigt1hiCJIG",
        "outputId": "455c8398-3c97-45e0-dd5b-7a5e6f45dee5"
      },
      "source": [
        "df.City"
      ],
      "execution_count": 19,
      "outputs": [
        {
          "output_type": "execute_result",
          "data": {
            "text/plain": [
              "0                Greenville\n",
              "1                 Charlotte\n",
              "2                 Los Gatos\n",
              "3               Carson City\n",
              "4           Fort Lauderdale\n",
              "                 ...       \n",
              "2906605             Houston\n",
              "2906606              Colton\n",
              "2906607               Miami\n",
              "2906608      Salt Lake City\n",
              "2906609    Colorado Springs\n",
              "Name: City, Length: 2906610, dtype: object"
            ]
          },
          "metadata": {
            "tags": []
          },
          "execution_count": 19
        }
      ]
    },
    {
      "cell_type": "code",
      "metadata": {
        "colab": {
          "base_uri": "https://localhost:8080/"
        },
        "id": "uXqmFlQyBzzD",
        "outputId": "96418a5f-7c66-418d-b0c8-054b06519378"
      },
      "source": [
        "cities = df.City.unique()\n",
        "len(cities)"
      ],
      "execution_count": 20,
      "outputs": [
        {
          "output_type": "execute_result",
          "data": {
            "text/plain": [
              "11790"
            ]
          },
          "metadata": {
            "tags": []
          },
          "execution_count": 20
        }
      ]
    },
    {
      "cell_type": "code",
      "metadata": {
        "colab": {
          "base_uri": "https://localhost:8080/"
        },
        "id": "ddJ03vFLCfzc",
        "outputId": "69c3c530-a594-4441-a348-6014457aa432"
      },
      "source": [
        "cities_by_accidents = df.City.value_counts()\n",
        "cities_by_accidents"
      ],
      "execution_count": 21,
      "outputs": [
        {
          "output_type": "execute_result",
          "data": {
            "text/plain": [
              "Los Angeles    68411\n",
              "Houston        68265\n",
              "Charlotte      56176\n",
              "Miami          49965\n",
              "Dallas         48525\n",
              "               ...  \n",
              "Tingley            1\n",
              "Concord Twp        1\n",
              "Hominy             1\n",
              "Florien            1\n",
              "Harrodsburg        1\n",
              "Name: City, Length: 11789, dtype: int64"
            ]
          },
          "metadata": {
            "tags": []
          },
          "execution_count": 21
        }
      ]
    },
    {
      "cell_type": "code",
      "metadata": {
        "colab": {
          "base_uri": "https://localhost:8080/"
        },
        "id": "ys5kXnzPCfte",
        "outputId": "41347607-0d9e-429a-8e5c-c848fa87b2d8"
      },
      "source": [
        "cities_by_accidents[:20]"
      ],
      "execution_count": 22,
      "outputs": [
        {
          "output_type": "execute_result",
          "data": {
            "text/plain": [
              "Los Angeles      68411\n",
              "Houston          68265\n",
              "Charlotte        56176\n",
              "Miami            49965\n",
              "Dallas           48525\n",
              "Austin           38808\n",
              "Raleigh          31355\n",
              "Atlanta          29244\n",
              "Sacramento       28984\n",
              "Orlando          28092\n",
              "Nashville        25277\n",
              "Baton Rouge      25080\n",
              "Minneapolis      22469\n",
              "San Diego        22329\n",
              "Phoenix          21370\n",
              "Oklahoma City    21292\n",
              "Portland         19432\n",
              "Richmond         18343\n",
              "Seattle          17384\n",
              "Saint Paul       17266\n",
              "Name: City, dtype: int64"
            ]
          },
          "metadata": {
            "tags": []
          },
          "execution_count": 22
        }
      ]
    },
    {
      "cell_type": "code",
      "metadata": {
        "colab": {
          "base_uri": "https://localhost:8080/"
        },
        "id": "4-XnCxa8CfpS",
        "outputId": "6242f314-fb11-4315-a569-8e9bd88bf1b6"
      },
      "source": [
        "type(cities_by_accidents)"
      ],
      "execution_count": 23,
      "outputs": [
        {
          "output_type": "execute_result",
          "data": {
            "text/plain": [
              "pandas.core.series.Series"
            ]
          },
          "metadata": {
            "tags": []
          },
          "execution_count": 23
        }
      ]
    },
    {
      "cell_type": "code",
      "metadata": {
        "id": "aSoyChQZ6CR8",
        "colab": {
          "base_uri": "https://localhost:8080/",
          "height": 282
        },
        "outputId": "60302886-c62a-47b2-d02e-59ebeb7e363a"
      },
      "source": [
        "cities_by_accidents[:20].plot(kind = 'barh')"
      ],
      "execution_count": 24,
      "outputs": [
        {
          "output_type": "execute_result",
          "data": {
            "text/plain": [
              "<matplotlib.axes._subplots.AxesSubplot at 0x7fa039968f10>"
            ]
          },
          "metadata": {
            "tags": []
          },
          "execution_count": 24
        },
        {
          "output_type": "display_data",
          "data": {
            "image/png": "[encoded data removed]",
            "text/plain": [
              "<Figure size 432x288 with 1 Axes>"
            ]
          },
          "metadata": {
            "tags": [],
            "needs_background": "light"
          }
        }
      ]
    },
    {
      "cell_type": "code",
      "metadata": {
        "id": "GnhszoMTCqAH"
      },
      "source": [
        "import seaborn as sns\n",
        "sns.set_style(\"darkgrid\")"
      ],
      "execution_count": 25,
      "outputs": []
    },
    {
      "cell_type": "code",
      "metadata": {
        "colab": {
          "base_uri": "https://localhost:8080/",
          "height": 300
        },
        "id": "kuWDHKWTCp-P",
        "outputId": "223956ab-2f7a-49b7-d442-d15828cded6b"
      },
      "source": [
        "sns.histplot(cities_by_accidents, log_scale = True)"
      ],
      "execution_count": 26,
      "outputs": [
        {
          "output_type": "execute_result",
          "data": {
            "text/plain": [
              "<matplotlib.axes._subplots.AxesSubplot at 0x7f9fc8256c50>"
            ]
          },
          "metadata": {
            "tags": []
          },
          "execution_count": 26
        },
        {
          "output_type": "display_data",
          "data": {
            "image/png": "[encoded data removed]",
            "text/plain": [
              "<Figure size 432x288 with 1 Axes>"
            ]
          },
          "metadata": {
            "tags": []
          }
        }
      ]
    },
    {
      "cell_type": "code",
      "metadata": {
        "colab": {
          "base_uri": "https://localhost:8080/"
        },
        "id": "u_2rJpYSCp7s",
        "outputId": "7e95b547-e7a5-4d66-925e-d1694dcba51d"
      },
      "source": [
        "cities_by_accidents[cities_by_accidents == 1]"
      ],
      "execution_count": 27,
      "outputs": [
        {
          "output_type": "execute_result",
          "data": {
            "text/plain": [
              "Scribner           1\n",
              "Wilsall            1\n",
              "Buckholts          1\n",
              "Little Plymouth    1\n",
              "Galena Park        1\n",
              "                  ..\n",
              "Tingley            1\n",
              "Concord Twp        1\n",
              "Hominy             1\n",
              "Florien            1\n",
              "Harrodsburg        1\n",
              "Name: City, Length: 1306, dtype: int64"
            ]
          },
          "metadata": {
            "tags": []
          },
          "execution_count": 27
        }
      ]
    },
    {
      "cell_type": "markdown",
      "metadata": {
        "id": "Y-wzSEsvCwWj"
      },
      "source": [
        "## Start Time"
      ]
    },
    {
      "cell_type": "code",
      "metadata": {
        "colab": {
          "base_uri": "https://localhost:8080/"
        },
        "id": "0rPJ1hr0Cp5S",
        "outputId": "4a7846b1-3bbb-40a9-9db5-8ed162c0ad8e"
      },
      "source": [
        "df.Start_Time"
      ],
      "execution_count": 28,
      "outputs": [
        {
          "output_type": "execute_result",
          "data": {
            "text/plain": [
              "0          2019-05-21 08:29:55\n",
              "1          2019-10-07 17:43:09\n",
              "2          2020-12-13 21:53:00\n",
              "3          2018-04-17 16:51:23\n",
              "4          2016-08-31 17:40:49\n",
              "                  ...         \n",
              "2906605    2018-06-28 08:49:01\n",
              "2906606    2019-01-10 02:01:01\n",
              "2906607    2020-11-23 12:52:00\n",
              "2906608    2019-12-29 22:38:00\n",
              "2906609    2018-03-26 13:35:03\n",
              "Name: Start_Time, Length: 2906610, dtype: object"
            ]
          },
          "metadata": {
            "tags": []
          },
          "execution_count": 28
        }
      ]
    },
    {
      "cell_type": "code",
      "metadata": {
        "id": "XRfleOnvC0EZ"
      },
      "source": [
        "df.Start_Time = pd.to_datetime(df.Start_Time)"
      ],
      "execution_count": 29,
      "outputs": []
    },
    {
      "cell_type": "code",
      "metadata": {
        "colab": {
          "base_uri": "https://localhost:8080/",
          "height": 352
        },
        "id": "wvQxvMBtC0CT",
        "outputId": "f9456f71-b936-487a-eeae-9541f294bceb"
      },
      "source": [
        "sns.distplot(df.Start_Time.dt.hour, bins = 24, kde = False, norm_hist = True)"
      ],
      "execution_count": 30,
      "outputs": [
        {
          "output_type": "stream",
          "text": [
            "/usr/local/lib/python3.7/dist-packages/seaborn/distributions.py:2557: FutureWarning: `distplot` is a deprecated function and will be removed in a future version. Please adapt your code to use either `displot` (a figure-level function with similar flexibility) or `histplot` (an axes-level function for histograms).\n",
            "  warnings.warn(msg, FutureWarning)\n"
          ],
          "name": "stderr"
        },
        {
          "output_type": "execute_result",
          "data": {
            "text/plain": [
              "<matplotlib.axes._subplots.AxesSubplot at 0x7f9fc779cb90>"
            ]
          },
          "metadata": {
            "tags": []
          },
          "execution_count": 30
        },
        {
          "output_type": "display_data",
          "data": {
            "image/png": "[encoded data removed]",
            "text/plain": [
              "<Figure size 432x288 with 1 Axes>"
            ]
          },
          "metadata": {
            "tags": []
          }
        }
      ]
    },
    {
      "cell_type": "code",
      "metadata": {
        "colab": {
          "base_uri": "https://localhost:8080/",
          "height": 352
        },
        "id": "FOVcOEkKCz_k",
        "outputId": "739e6020-ef66-43aa-e6a1-96b017714995"
      },
      "source": [
        "sns.distplot(df.Start_Time.dt.dayofweek, bins = 7, kde = False, norm_hist = True)"
      ],
      "execution_count": 31,
      "outputs": [
        {
          "output_type": "stream",
          "text": [
            "/usr/local/lib/python3.7/dist-packages/seaborn/distributions.py:2557: FutureWarning: `distplot` is a deprecated function and will be removed in a future version. Please adapt your code to use either `displot` (a figure-level function with similar flexibility) or `histplot` (an axes-level function for histograms).\n",
            "  warnings.warn(msg, FutureWarning)\n"
          ],
          "name": "stderr"
        },
        {
          "output_type": "execute_result",
          "data": {
            "text/plain": [
              "<matplotlib.axes._subplots.AxesSubplot at 0x7f9fc7898090>"
            ]
          },
          "metadata": {
            "tags": []
          },
          "execution_count": 31
        },
        {
          "output_type": "display_data",
          "data": {
            "image/png": "[encoded data removed]",
            "text/plain": [
              "<Figure size 432x288 with 1 Axes>"
            ]
          },
          "metadata": {
            "tags": []
          }
        }
      ]
    },
    {
      "cell_type": "code",
      "metadata": {
        "colab": {
          "base_uri": "https://localhost:8080/",
          "height": 352
        },
        "id": "KH4siwodCz9-",
        "outputId": "0d2f8b68-b07a-4327-f2a1-8ddc40aab08b"
      },
      "source": [
        "sundays_start_time = df.Start_Time[df.Start_Time.dt.dayofweek == 6]\n",
        "sns.distplot(sundays_start_time.dt.hour, bins = 24, kde = False, norm_hist = True)"
      ],
      "execution_count": 32,
      "outputs": [
        {
          "output_type": "stream",
          "text": [
            "/usr/local/lib/python3.7/dist-packages/seaborn/distributions.py:2557: FutureWarning: `distplot` is a deprecated function and will be removed in a future version. Please adapt your code to use either `displot` (a figure-level function with similar flexibility) or `histplot` (an axes-level function for histograms).\n",
            "  warnings.warn(msg, FutureWarning)\n"
          ],
          "name": "stderr"
        },
        {
          "output_type": "execute_result",
          "data": {
            "text/plain": [
              "<matplotlib.axes._subplots.AxesSubplot at 0x7f9fc7759090>"
            ]
          },
          "metadata": {
            "tags": []
          },
          "execution_count": 32
        },
        {
          "output_type": "display_data",
          "data": {
            "image/png": "[encoded data removed]",
            "text/plain": [
              "<Figure size 432x288 with 1 Axes>"
            ]
          },
          "metadata": {
            "tags": []
          }
        }
      ]
    },
    {
      "cell_type": "code",
      "metadata": {
        "colab": {
          "base_uri": "https://localhost:8080/",
          "height": 352
        },
        "id": "-5PSfxZpCz7H",
        "outputId": "e451039d-3322-4792-ad90-975c3f4eaf21"
      },
      "source": [
        "monday_start_time = df.Start_Time[df.Start_Time.dt.dayofweek == 0]\n",
        "sns.distplot(monday_start_time.dt.hour, bins = 24, kde = False, norm_hist = True)"
      ],
      "execution_count": 33,
      "outputs": [
        {
          "output_type": "stream",
          "text": [
            "/usr/local/lib/python3.7/dist-packages/seaborn/distributions.py:2557: FutureWarning: `distplot` is a deprecated function and will be removed in a future version. Please adapt your code to use either `displot` (a figure-level function with similar flexibility) or `histplot` (an axes-level function for histograms).\n",
            "  warnings.warn(msg, FutureWarning)\n"
          ],
          "name": "stderr"
        },
        {
          "output_type": "execute_result",
          "data": {
            "text/plain": [
              "<matplotlib.axes._subplots.AxesSubplot at 0x7f9fc75db290>"
            ]
          },
          "metadata": {
            "tags": []
          },
          "execution_count": 33
        },
        {
          "output_type": "display_data",
          "data": {
            "image/png": "[encoded data removed]",
            "text/plain": [
              "<Figure size 432x288 with 1 Axes>"
            ]
          },
          "metadata": {
            "tags": []
          }
        }
      ]
    },
    {
      "cell_type": "code",
      "metadata": {
        "colab": {
          "base_uri": "https://localhost:8080/",
          "height": 354
        },
        "id": "B0LK-xNWCz4m",
        "outputId": "06ee4ac1-b62a-4cbf-aa53-80533b363460"
      },
      "source": [
        "df_2019 = df[df.Start_Time.dt.year == 2019]\n",
        "sns.distplot(df_2019.Start_Time.dt.month, bins = 12, kde = False, norm_hist = True)"
      ],
      "execution_count": 34,
      "outputs": [
        {
          "output_type": "stream",
          "text": [
            "/usr/local/lib/python3.7/dist-packages/seaborn/distributions.py:2557: FutureWarning: `distplot` is a deprecated function and will be removed in a future version. Please adapt your code to use either `displot` (a figure-level function with similar flexibility) or `histplot` (an axes-level function for histograms).\n",
            "  warnings.warn(msg, FutureWarning)\n"
          ],
          "name": "stderr"
        },
        {
          "output_type": "execute_result",
          "data": {
            "text/plain": [
              "<matplotlib.axes._subplots.AxesSubplot at 0x7f9fc75669d0>"
            ]
          },
          "metadata": {
            "tags": []
          },
          "execution_count": 34
        },
        {
          "output_type": "display_data",
          "data": {
            "image/png": "[encoded data removed]",
            "text/plain": [
              "<Figure size 432x288 with 1 Axes>"
            ]
          },
          "metadata": {
            "tags": []
          }
        }
      ]
    },
    {
      "cell_type": "markdown",
      "metadata": {
        "id": "ztK_QwEJDEsm"
      },
      "source": [
        "## Start Latitude & Longitude"
      ]
    },
    {
      "cell_type": "code",
      "metadata": {
        "colab": {
          "base_uri": "https://localhost:8080/"
        },
        "id": "JfuzZ1rBDBjf",
        "outputId": "17db6967-2904-4050-9130-c8e7f4e737c4"
      },
      "source": [
        "df.Start_Lat"
      ],
      "execution_count": 35,
      "outputs": [
        {
          "output_type": "execute_result",
          "data": {
            "text/plain": [
              "0          34.808868\n",
              "1          35.090080\n",
              "2          37.145730\n",
              "3          39.110390\n",
              "4          26.102942\n",
              "             ...    \n",
              "2906605    29.813824\n",
              "2906606    34.068890\n",
              "2906607    25.702200\n",
              "2906608    40.660140\n",
              "2906609    38.831749\n",
              "Name: Start_Lat, Length: 2906610, dtype: float64"
            ]
          },
          "metadata": {
            "tags": []
          },
          "execution_count": 35
        }
      ]
    },
    {
      "cell_type": "code",
      "metadata": {
        "colab": {
          "base_uri": "https://localhost:8080/"
        },
        "id": "SIZJNwDpDBfe",
        "outputId": "d5136a81-326c-4dda-982a-9bdde972ed67"
      },
      "source": [
        "df.Start_Lng"
      ],
      "execution_count": 36,
      "outputs": [
        {
          "output_type": "execute_result",
          "data": {
            "text/plain": [
              "0          -82.269157\n",
              "1          -80.745560\n",
              "2         -121.985052\n",
              "3         -119.773781\n",
              "4          -80.265091\n",
              "              ...    \n",
              "2906605    -95.399437\n",
              "2906606   -117.342010\n",
              "2906607    -80.335556\n",
              "2906608   -111.952460\n",
              "2906609   -104.748161\n",
              "Name: Start_Lng, Length: 2906610, dtype: float64"
            ]
          },
          "metadata": {
            "tags": []
          },
          "execution_count": 36
        }
      ]
    },
    {
      "cell_type": "code",
      "metadata": {
        "id": "aOi-ifl8DBbW"
      },
      "source": [
        "sample_df = df.sample(int(0.1 * len(df)))"
      ],
      "execution_count": 37,
      "outputs": []
    },
    {
      "cell_type": "code",
      "metadata": {
        "colab": {
          "base_uri": "https://localhost:8080/",
          "height": 299
        },
        "id": "Xk2UHQEDDBYZ",
        "outputId": "eec09cc3-49d9-4523-df99-3cfb14ef2360"
      },
      "source": [
        "sns.scatterplot(x = sample_df.Start_Lng, y = sample_df.Start_Lat, size = 0.001)"
      ],
      "execution_count": 38,
      "outputs": [
        {
          "output_type": "execute_result",
          "data": {
            "text/plain": [
              "<matplotlib.axes._subplots.AxesSubplot at 0x7f9fc74f07d0>"
            ]
          },
          "metadata": {
            "tags": []
          },
          "execution_count": 38
        },
        {
          "output_type": "display_data",
          "data": {
            "image/png": "[encoded data removed]",
            "text/plain": [
              "<Figure size 432x288 with 1 Axes>"
            ]
          },
          "metadata": {
            "tags": []
          }
        }
      ]
    },
    {
      "cell_type": "code",
      "metadata": {
        "id": "kRPqnj7R_2Fb"
      },
      "source": [
        "import folium  #Folium - Data Visualization Library in Python to visualize Geospatial Data"
      ],
      "execution_count": 46,
      "outputs": []
    },
    {
      "cell_type": "code",
      "metadata": {
        "colab": {
          "base_uri": "https://localhost:8080/"
        },
        "id": "RWItvLZt_3Y5",
        "outputId": "46e98da6-3948-415b-c1cd-13c6264cdec8"
      },
      "source": [
        "lat, lon = df.Start_Lat[0], df.Start_Lng[0]\n",
        "lat, lon"
      ],
      "execution_count": 40,
      "outputs": [
        {
          "output_type": "execute_result",
          "data": {
            "text/plain": [
              "(34.808868, -82.26915699999998)"
            ]
          },
          "metadata": {
            "tags": []
          },
          "execution_count": 40
        }
      ]
    },
    {
      "cell_type": "code",
      "metadata": {
        "id": "Vo54yXIjA0pg",
        "colab": {
          "base_uri": "https://localhost:8080/"
        },
        "outputId": "248fa97c-87b9-46e1-f795-b4e011c1d6a8"
      },
      "source": [
        "for x in df[['Start_Lat', 'Start_Lng']].sample(100).iteritems():\n",
        "    print(x[1])"
      ],
      "execution_count": 41,
      "outputs": [
        {
          "output_type": "stream",
          "text": [
            "78131      28.658661\n",
            "2262331    41.669330\n",
            "478794     37.608471\n",
            "1308089    26.330537\n",
            "2697309    40.153630\n",
            "             ...    \n",
            "448264     37.313878\n",
            "2479039    45.577930\n",
            "1209461    37.554070\n",
            "2013057    39.804130\n",
            "2835842    33.853041\n",
            "Name: Start_Lat, Length: 100, dtype: float64\n",
            "78131      -80.865257\n",
            "2262331    -71.483630\n",
            "478794     -77.537788\n",
            "1308089    -81.821133\n",
            "2697309    -75.140740\n",
            "              ...    \n",
            "448264    -121.886810\n",
            "2479039   -122.678690\n",
            "1209461    -77.448620\n",
            "2013057    -85.999990\n",
            "2835842   -118.094783\n",
            "Name: Start_Lng, Length: 100, dtype: float64\n"
          ],
          "name": "stdout"
        }
      ]
    },
    {
      "cell_type": "code",
      "metadata": {
        "colab": {
          "base_uri": "https://localhost:8080/"
        },
        "id": "0v76LtcLDwoM",
        "outputId": "4a51e0cf-2959-46b4-ec55-c05145e89b8f"
      },
      "source": [
        "zip(list(df.Start_Lat), list(df.Start_Lng))"
      ],
      "execution_count": 42,
      "outputs": [
        {
          "output_type": "execute_result",
          "data": {
            "text/plain": [
              "<zip at 0x7f9ff80198c0>"
            ]
          },
          "metadata": {
            "tags": []
          },
          "execution_count": 42
        }
      ]
    },
    {
      "cell_type": "code",
      "metadata": {
        "id": "8cNG7oi8Dyjm"
      },
      "source": [
        "from folium.plugins import HeatMap"
      ],
      "execution_count": 43,
      "outputs": []
    },
    {
      "cell_type": "code",
      "metadata": {
        "id": "iRXd4iI_EER0"
      },
      "source": [
        "sample_df = df.sample(int(0.001 * len(df)))\n",
        "lat_lon_pairs = list(zip(list(sample_df.Start_Lat), list(sample_df.Start_Lng)))"
      ],
      "execution_count": 44,
      "outputs": []
    },
    {
      "cell_type": "code",
      "metadata": {
        "colab": {
          "base_uri": "https://localhost:8080/",
          "height": 681
        },
        "id": "jteoPbfWEF9V",
        "outputId": "20adc3d0-cc32-472e-cbcf-7c017f160d5c"
      },
      "source": [
        "map = folium.Map()\n",
        "HeatMap(lat_lon_pairs).add_to(map)\n",
        "map"
      ],
      "execution_count": 45,
      "outputs": [
        {
          "output_type": "execute_result",
          "data": {
            "text/html": [
              "<div style=\"width:100%;\"><div style=\"position:relative;width:100%;height:0;padding-bottom:60%;\"><span style=\"color:#565656\">Make this Notebook Trusted to load map: File -> Trust Notebook</span><iframe src=\"about:blank\" style=\"position:absolute;width:100%;height:100%;left:0;top:0;border:none !important;\" data-html=%3C%21DOCTYPE%20html%3E%0A%3Chead%3E%20%20%20%20%0A%20%20%20%20%3Cmeta%20http-equiv%3D%22content-type%22%20content%3D%22text/html%3B%20charset%3DUTF-8%22%20/%3E%0A%20%20%20%20%3Cscript%3EL_PREFER_CANVAS%3Dfalse%3B%20L_NO_TOUCH%3Dfalse%3B%20L_DISABLE_3D%3Dfalse%3B%3C/script%3E%0A%20%20%20%20%3Cscript%20src%3D%22https%3A//cdn.jsdelivr.net/npm/leaflet%401.4.0/dist/leaflet.js%22%3E%3C/script%3E%0A%20%20%20%20%3Cscript%20src%3D%22https%3A//code.jquery.com/jquery-1.12.4.min.js%22%3E%3C/script%3E%0A%20%20%20%20%3Cscript%20src%3D%22https%3A//maxcdn.bootstrapcdn.com/bootstrap/3.2.0/js/bootstrap.min.js%22%3E%3C/script%3E%0A%20%20%20%20%3Cscript%20src%3D%22https%3A//cdnjs.cloudflare.com/ajax/libs/Leaflet.awesome-markers/2.0.2/leaflet.awesome-markers.js%22%3E%3C/script%3E%0A%20%20%20%20%3Clink%20rel%3D%22stylesheet%22%20href%3D%22https%3A//cdn.jsdelivr.net/npm/leaflet%401.4.0/dist/leaflet.css%22/%3E%0A%20%20%20%20%3Clink%20rel%3D%22stylesheet%22%20href%3D%22https%3A//maxcdn.bootstrapcdn.com/bootstrap/3.2.0/css/bootstrap.min.css%22/%3E%0A%20%20%20%20%3Clink%20rel%3D%22stylesheet%22%20href%3D%22https%3A//maxcdn.bootstrapcdn.com/bootstrap/3.2.0/css/bootstrap-theme.min.css%22/%3E%0A%20%20%20%20%3Clink%20rel%3D%22stylesheet%22%20href%3D%22https%3A//maxcdn.bootstrapcdn.com/font-awesome/4.6.3/css/font-awesome.min.css%22/%3E%0A%20%20%20%20%3Clink%20rel%3D%22stylesheet%22%20href%3D%22https%3A//cdnjs.cloudflare.com/ajax/libs/Leaflet.awesome-markers/2.0.2/leaflet.awesome-markers.css%22/%3E%0A%20%20%20%20%3Clink%20rel%3D%22stylesheet%22%20href%3D%22https%3A//rawcdn.githack.com/python-visualization/folium/master/folium/templates/leaflet.awesome.rotate.css%22/%3E%0A%20%20%20%20%3Cstyle%3Ehtml%2C%20body%20%7Bwidth%3A%20100%25%3Bheight%3A%20100%25%3Bmargin%3A%200%3Bpadding%3A%200%3B%7D%3C/style%3E%0A%20%20%20%20%3Cstyle%3E%23map%20%7Bposition%3Aabsolute%3Btop%3A0%3Bbottom%3A0%3Bright%3A0%3Bleft%3A0%3B%7D%3C/style%3E%0A%20%20%20%20%0A%20%20%20%20%3Cmeta%20name%3D%22viewport%22%20content%3D%22width%3Ddevice-width%2C%0A%20%20%20%20%20%20%20%20initial-scale%3D1.0%2C%20maximum-scale%3D1.0%2C%20user-scalable%3Dno%22%20/%3E%0A%20%20%20%20%3Cstyle%3E%23map_c5532a20b0604834bceecf0945c4dd54%20%7B%0A%20%20%20%20%20%20%20%20position%3A%20relative%3B%0A%20%20%20%20%20%20%20%20width%3A%20100.0%25%3B%0A%20%20%20%20%20%20%20%20height%3A%20100.0%25%3B%0A%20%20%20%20%20%20%20%20left%3A%200.0%25%3B%0A%20%20%20%20%20%20%20%20top%3A%200.0%25%3B%0A%20%20%20%20%20%20%20%20%7D%0A%20%20%20%20%3C/style%3E%0A%20%20%20%20%3Cscript%20src%3D%22https%3A//leaflet.github.io/Leaflet.heat/dist/leaflet-heat.js%22%3E%3C/script%3E%0A%3C/head%3E%0A%3Cbody%3E%20%20%20%20%0A%20%20%20%20%0A%20%20%20%20%3Cdiv%20class%3D%22folium-map%22%20id%3D%22map_c5532a20b0604834bceecf0945c4dd54%22%20%3E%3C/div%3E%0A%3C/body%3E%0A%3Cscript%3E%20%20%20%20%0A%20%20%20%20%0A%20%20%20%20%0A%20%20%20%20%20%20%20%20var%20bounds%20%3D%20null%3B%0A%20%20%20%20%0A%0A%20%20%20%20var%20map_c5532a20b0604834bceecf0945c4dd54%20%3D%20L.map%28%0A%20%20%20%20%20%20%20%20%27map_c5532a20b0604834bceecf0945c4dd54%27%2C%20%7B%0A%20%20%20%20%20%20%20%20center%3A%20%5B0%2C%200%5D%2C%0A%20%20%20%20%20%20%20%20zoom%3A%201%2C%0A%20%20%20%20%20%20%20%20maxBounds%3A%20bounds%2C%0A%20%20%20%20%20%20%20%20layers%3A%20%5B%5D%2C%0A%20%20%20%20%20%20%20%20worldCopyJump%3A%20false%2C%0A%20%20%20%20%20%20%20%20crs%3A%20L.CRS.EPSG3857%2C%0A%20%20%20%20%20%20%20%20zoomControl%3A%20true%2C%0A%20%20%20%20%20%20%20%20%7D%29%3B%0A%0A%0A%20%20%20%20%0A%20%20%20%20var%20tile_layer_d9907aa99cc144c3a35349ad7fe7beef%20%3D%20L.tileLayer%28%0A%20%20%20%20%20%20%20%20%27https%3A//%7Bs%7D.tile.openstreetmap.org/%7Bz%7D/%7Bx%7D/%7By%7D.png%27%2C%0A%20%20%20%20%20%20%20%20%7B%0A%20%20%20%20%20%20%20%20%22attribution%22%3A%20null%2C%0A%20%20%20%20%20%20%20%20%22detectRetina%22%3A%20false%2C%0A%20%20%20%20%20%20%20%20%22maxNativeZoom%22%3A%2018%2C%0A%20%20%20%20%20%20%20%20%22maxZoom%22%3A%2018%2C%0A%20%20%20%20%20%20%20%20%22minZoom%22%3A%200%2C%0A%20%20%20%20%20%20%20%20%22noWrap%22%3A%20false%2C%0A%20%20%20%20%20%20%20%20%22opacity%22%3A%201%2C%0A%20%20%20%20%20%20%20%20%22subdomains%22%3A%20%22abc%22%2C%0A%20%20%20%20%20%20%20%20%22tms%22%3A%20false%0A%7D%29.addTo%28map_c5532a20b0604834bceecf0945c4dd54%29%3B%0A%20%20%20%20%0A%20%20%20%20%20%20%20%20%20%20%20%20var%20heat_map_a9236bb9b9fc4fdb867fd826d49a4c03%20%3D%20L.heatLayer%28%0A%20%20%20%20%20%20%20%20%20%20%20%20%20%20%20%20%5B%5B30.241871000000003%2C%20-97.7649%5D%2C%20%5B41.99044%2C%20-87.69939000000002%5D%2C%20%5B46.23506%2C%20-123.87196000000002%5D%2C%20%5B42.83271%2C%20-78.69119%5D%2C%20%5B42.539948%2C%20-70.938019%5D%2C%20%5B37.700817%2C%20-121.79438%5D%2C%20%5B37.36187%2C%20-121.90349%5D%2C%20%5B33.975861%2C%20-79.190208%5D%2C%20%5B33.878619%2C%20-117.88049%5D%2C%20%5B34.14298%2C%20-118.02119%5D%2C%20%5B38.790867%2C%20-77.17615500000002%5D%2C%20%5B42.502106%2C%20-71.118431%5D%2C%20%5B34.792351000000004%2C%20-81.617462%5D%2C%20%5B37.774388%2C%20-122.231317%5D%2C%20%5B35.083298%2C%20-106.532303%5D%2C%20%5B38.919781%2C%20-76.932411%5D%2C%20%5B39.63136%2C%20-106.52389%5D%2C%20%5B32.727058%2C%20-96.710861%5D%2C%20%5B33.195004%2C%20-80.61200699999998%5D%2C%20%5B35.42934%2C%20-120.751541%5D%2C%20%5B34.06841%2C%20-118.03837%5D%2C%20%5B27.747173%2C%20-82.677128%5D%2C%20%5B42.87656%2C%20-78.78506999999998%5D%2C%20%5B28.57131%2C%20-81.375618%5D%2C%20%5B27.838674%2C%20-82.761792%5D%2C%20%5B40.782791%2C%20-73.94388599999998%5D%2C%20%5B39.709572%2C%20-105.196067%5D%2C%20%5B39.996407%2C%20-99.365076%5D%2C%20%5B36.167641%2C%20-86.80589300000003%5D%2C%20%5B40.53515%2C%20-111.89245%5D%2C%20%5B42.53192%2C%20-73.78443%5D%2C%20%5B33.50954%2C%20-112.108438%5D%2C%20%5B35.94249%2C%20-83.949376%5D%2C%20%5B28.032703%2C%20-82.05587%5D%2C%20%5B35.310066%2C%20-80.83914200000002%5D%2C%20%5B45.191048%2C%20-93.545976%5D%2C%20%5B39.12335%2C%20-84.53517%5D%2C%20%5B37.38707%2C%20-121.001236%5D%2C%20%5B37.882111%2C%20-122.524918%5D%2C%20%5B46.86605%2C%20-122.34029%5D%2C%20%5B42.346137%2C%20-122.880875%5D%2C%20%5B39.656149%2C%20-106.625444%5D%2C%20%5B33.902359000000004%2C%20-118.0578%5D%2C%20%5B34.71653%2C%20-82.497169%5D%2C%20%5B42.00823%2C%20-88.15394%5D%2C%20%5B25.686803%2C%20-80.35121%5D%2C%20%5B40.82674%2C%20-73.85438%5D%2C%20%5B37.565914%2C%20-121.03016399999998%5D%2C%20%5B45.38563%2C%20-122.57885%5D%2C%20%5B34.597721%2C%20-82.67244000000002%5D%2C%20%5B40.782569%2C%20-73.58519100000002%5D%2C%20%5B38.801043%2C%20-77.523578%5D%2C%20%5B40.652985%2C%20-111.9869%5D%2C%20%5B37.55022%2C%20-122.02569%5D%2C%20%5B42.974159%2C%20-83.68755300000002%5D%2C%20%5B37.054349%2C%20-113.58784%5D%2C%20%5B34.154503000000005%2C%20-118.312474%5D%2C%20%5B42.580399%2C%20-70.964523%5D%2C%20%5B38.98833%2C%20-76.97497%5D%2C%20%5B33.39286%2C%20-111.939598%5D%2C%20%5B40.74568%2C%20-73.76843000000002%5D%2C%20%5B37.677951%2C%20-122.11118700000002%5D%2C%20%5B41.007336%2C%20-73.64711700000002%5D%2C%20%5B29.965445000000006%2C%20-95.419617%5D%2C%20%5B38.458102%2C%20-121.180647%5D%2C%20%5B41.862698%2C%20-87.644322%5D%2C%20%5B39.536568%2C%20-119.802719%5D%2C%20%5B37.239525%2C%20-77.395287%5D%2C%20%5B39.015103%2C%20-76.97802%5D%2C%20%5B41.61496%2C%20-93.77817%5D%2C%20%5B33.462975%2C%20-112.169052%5D%2C%20%5B33.94577%2C%20-118.09436%5D%2C%20%5B26.677857%2C%20-80.06952%5D%2C%20%5B33.792668%2C%20-117.87917%5D%2C%20%5B38.531413%2C%20-77.359462%5D%2C%20%5B45.51841%2C%20-122.57901%5D%2C%20%5B42.132989%2C%20-122.633829%5D%2C%20%5B40.904633%2C%20-74.723152%5D%2C%20%5B33.998705%2C%20-81.108938%5D%2C%20%5B34.12104%2C%20-117.88325%5D%2C%20%5B34.483372%2C%20-82.604156%5D%2C%20%5B41.69299%2C%20-71.47666%5D%2C%20%5B30.38835%2C%20-97.751778%5D%2C%20%5B34.030296%2C%20-117.689659%5D%2C%20%5B38.74631%2C%20-90.33726%5D%2C%20%5B36.075268%2C%20-95.975777%5D%2C%20%5B44.95165%2C%20-93.12154%5D%2C%20%5B33.065033%2C%20-117.292099%5D%2C%20%5B42.902985%2C%20-87.93602800000002%5D%2C%20%5B32.818020000000004%2C%20-97.05929%5D%2C%20%5B42.47825%2C%20-123.352674%5D%2C%20%5B38.115723%2C%20-121.397697%5D%2C%20%5B32.473888%2C%20-80.963364%5D%2C%20%5B46.854232%2C%20-92.301753%5D%2C%20%5B29.538926%2C%20-95.145842%5D%2C%20%5B34.023406%2C%20-117.748134%5D%2C%20%5B25.893658%2C%20-80.24338399999998%5D%2C%20%5B31.82569%2C%20-106.44498%5D%2C%20%5B40.561069%2C%20-74.169838%5D%2C%20%5B41.75615%2C%20-71.47775%5D%2C%20%5B38.34956%2C%20-90.403503%5D%2C%20%5B39.05637%2C%20-94.48403%5D%2C%20%5B40.229324%2C%20-75.353765%5D%2C%20%5B39.27539%2C%20-84.35724%5D%2C%20%5B35.111984%2C%20-80.971786%5D%2C%20%5B33.873376%2C%20-118.266002%5D%2C%20%5B33.445457%2C%20-111.856468%5D%2C%20%5B35.193436%2C%20-80.765038%5D%2C%20%5B37.386343%2C%20-120.71756200000002%5D%2C%20%5B35.609989%2C%20-97.580498%5D%2C%20%5B33.63147%2C%20-84.400892%5D%2C%20%5B30.422290000000004%2C%20-97.671815%5D%2C%20%5B39.10582%2C%20-84.504143%5D%2C%20%5B29.618271000000004%2C%20-95.464914%5D%2C%20%5B39.957722%2C%20-105.015656%5D%2C%20%5B32.30512%2C%20-111.01195%5D%2C%20%5B38.482273%2C%20-122.736847%5D%2C%20%5B40.67678%2C%20-74.00142%5D%2C%20%5B30.096026%2C%20-81.51852199999998%5D%2C%20%5B29.81356%2C%20-95.39551%5D%2C%20%5B36.740643%2C%20-121.65863%5D%2C%20%5B32.43805%2C%20-86.4253%5D%2C%20%5B33.808819%2C%20-84.376434%5D%2C%20%5B41.53382%2C%20-72.76783%5D%2C%20%5B33.304977%2C%20-112.017685%5D%2C%20%5B45.53536%2C%20-123.1062%5D%2C%20%5B34.731155%2C%20-86.957077%5D%2C%20%5B39.780369%2C%20-104.990196%5D%2C%20%5B28.055593%2C%20-82.776596%5D%2C%20%5B44.58356%2C%20-123.06174%5D%2C%20%5B40.920547%2C%20-73.86551700000003%5D%2C%20%5B40.042937%2C%20-75.453797%5D%2C%20%5B33.92541%2C%20-117.88029%5D%2C%20%5B35.087212%2C%20-82.25885%5D%2C%20%5B39.381878%2C%20-77.260025%5D%2C%20%5B29.83146%2C%20-95.3831%5D%2C%20%5B26.447437%2C%20-82.038239%5D%2C%20%5B37.732704%2C%20-120.96695%5D%2C%20%5B37.33906%2C%20-121.85128%5D%2C%20%5B25.893202%2C%20-80.18653499999998%5D%2C%20%5B29.57235%2C%20-95.109489%5D%2C%20%5B33.953252%2C%20-118.230096%5D%2C%20%5B34.002026%2C%20-117.834892%5D%2C%20%5B41.04091%2C%20-73.83787%5D%2C%20%5B30.21653%2C%20-93.169891%5D%2C%20%5B39.18333%2C%20-86.55619%5D%2C%20%5B28.325090000000007%2C%20-81.553108%5D%2C%20%5B44.926882%2C%20-93.349617%5D%2C%20%5B31.27505%2C%20-81.49002%5D%2C%20%5B33.386818%2C%20-111.697987%5D%2C%20%5B32.713196%2C%20-117.118094%5D%2C%20%5B34.681336%2C%20-84.45756999999998%5D%2C%20%5B37.812973%2C%20-122.36233500000002%5D%2C%20%5B28.601915%2C%20-82.20343000000003%5D%2C%20%5B38.676863%2C%20-120.91822%5D%2C%20%5B47.57188%2C%20-122.32125%5D%2C%20%5B34.037511%2C%20-118.038281%5D%2C%20%5B32.642063%2C%20-96.840027%5D%2C%20%5B29.784885%2C%20-95.617767%5D%2C%20%5B34.207821%2C%20-82.147774%5D%2C%20%5B29.088181%2C%20-82.076357%5D%2C%20%5B29.996099%2C%20-90.126251%5D%2C%20%5B43.05052%2C%20-88.30852%5D%2C%20%5B44.158161%2C%20-124.115713%5D%2C%20%5B31.957573%2C%20-89.849917%5D%2C%20%5B40.66214%2C%20-74.28716999999997%5D%2C%20%5B28.8077%2C%20-81.56003%5D%2C%20%5B34.061958000000004%2C%20-118.166134%5D%2C%20%5B43.053207%2C%20-78.807076%5D%2C%20%5B38.928776%2C%20-77.54929399999997%5D%2C%20%5B34.189625%2C%20-84.505737%5D%2C%20%5B33.98785%2C%20-118.39904%5D%2C%20%5B42.31158%2C%20-71.38574%5D%2C%20%5B40.966225%2C%20-74.06462900000002%5D%2C%20%5B45.43463%2C%20-122.75949%5D%2C%20%5B41.361347%2C%20-72.02774000000002%5D%2C%20%5B37.295212%2C%20-121.809986%5D%2C%20%5B38.671352%2C%20-121.586093%5D%2C%20%5B29.68903%2C%20-82.44498%5D%2C%20%5B25.811724%2C%20-80.186806%5D%2C%20%5B34.057848%2C%20-117.80436%5D%2C%20%5B37.542728%2C%20-77.434822%5D%2C%20%5B43.03603%2C%20-87.901657%5D%2C%20%5B42.34154%2C%20-83.11692%5D%2C%20%5B36.122673%2C%20-86.751488%5D%2C%20%5B34.081161%2C%20-118.22216%5D%2C%20%5B37.536255%2C%20-77.41731300000002%5D%2C%20%5B29.794533%2C%20-95.462524%5D%2C%20%5B34.882714%2C%20-117.062531%5D%2C%20%5B35.90096%2C%20-78.65222%5D%2C%20%5B46.370476%2C%20-120.320602%5D%2C%20%5B37.811874%2C%20-121.295433%5D%2C%20%5B26.336599%2C%20-81.751102%5D%2C%20%5B35.09913%2C%20-80.7822%5D%2C%20%5B40.82533400000001%2C%20-73.864463%5D%2C%20%5B25.930369%2C%20-80.205105%5D%2C%20%5B35.695507%2C%20-78.575813%5D%2C%20%5B32.767323%2C%20-96.873924%5D%2C%20%5B39.79365%2C%20-86.12321999999998%5D%2C%20%5B33.957836%2C%20-118.111847%5D%2C%20%5B42.973927%2C%20-87.91544300000002%5D%2C%20%5B29.54435%2C%20-98.45859%5D%2C%20%5B32.04935%2C%20-81.08918%5D%2C%20%5B32.63075300000001%2C%20-80.882019%5D%2C%20%5B32.92583%2C%20-96.81281%5D%2C%20%5B28.400726%2C%20-81.24440799999998%5D%2C%20%5B39.310255%2C%20-77.108962%5D%2C%20%5B40.881504%2C%20-76.01790600000002%5D%2C%20%5B25.80702%2C%20-80.20572%5D%2C%20%5B42.984883%2C%20-85.677571%5D%2C%20%5B40.75726%2C%20-73.32739000000002%5D%2C%20%5B34.823883%2C%20-82.291893%5D%2C%20%5B41.497477%2C%20-95.190858%5D%2C%20%5B33.9277%2C%20-117.41998%5D%2C%20%5B29.413389%2C%20-98.567909%5D%2C%20%5B42.43307%2C%20-83.18924%5D%2C%20%5B32.148720000000004%2C%20-110.97757%5D%2C%20%5B36.692431%2C%20-121.660719%5D%2C%20%5B33.549681%2C%20-86.746705%5D%2C%20%5B25.78891%2C%20-80.332349%5D%2C%20%5B34.892672999999995%2C%20-82.160774%5D%2C%20%5B30.26866%2C%20-97.737556%5D%2C%20%5B29.843571%2C%20-95.262291%5D%2C%20%5B42.56985%2C%20-83.15921999999998%5D%2C%20%5B42.35878%2C%20-83.07650799999998%5D%2C%20%5B34.051538%2C%20-118.005981%5D%2C%20%5B31.381764%2C%20-89.323737%5D%2C%20%5B33.870453000000005%2C%20-117.734691%5D%2C%20%5B27.446165%2C%20-82.479501%5D%2C%20%5B45.011806%2C%20-93.045876%5D%2C%20%5B40.139389%2C%20-74.960045%5D%2C%20%5B35.31115%2C%20-80.75713%5D%2C%20%5B43.999654%2C%20-123.011201%5D%2C%20%5B33.808626000000004%2C%20-84.37826899999997%5D%2C%20%5B32.718384%2C%20-117.105927%5D%2C%20%5B41.750761%2C%20-72.657984%5D%2C%20%5B35.482388%2C%20-97.513939%5D%2C%20%5B26.70541%2C%20-80.04907%5D%2C%20%5B35.473045%2C%20-97.519356%5D%2C%20%5B29.685883%2C%20-95.340996%5D%2C%20%5B35.84905%2C%20-78.60155999999998%5D%2C%20%5B34.891439%2C%20-82.546501%5D%2C%20%5B33.043915000000005%2C%20-117.285744%5D%2C%20%5B45.526958%2C%20-122.657952%5D%2C%20%5B33.85605%2C%20-117.98819%5D%2C%20%5B34.864329999999995%2C%20-82.10562900000002%5D%2C%20%5B35.609898%2C%20-97.558334%5D%2C%20%5B29.674807%2C%20-95.542923%5D%2C%20%5B32.924461%2C%20-96.761823%5D%2C%20%5B29.68045%2C%20-95.38746%5D%2C%20%5B38.561642%2C%20-121.638206%5D%2C%20%5B28.093754%2C%20-82.502274%5D%2C%20%5B34.228181%2C%20-89.926154%5D%2C%20%5B40.886333%2C%20-73.815422%5D%2C%20%5B45.06632000000001%2C%20-93.26316%5D%2C%20%5B40.772405%2C%20-73.42223800000002%5D%2C%20%5B28.284725%2C%20-81.590409%5D%2C%20%5B47.204498%2C%20-122.313858%5D%2C%20%5B38.222939%2C%20-85.82210500000002%5D%2C%20%5B40.881012%2C%20-73.948151%5D%2C%20%5B39.009697%2C%20-94.489235%5D%2C%20%5B30.407707%2C%20-98.019714%5D%2C%20%5B43.5974%2C%20-116.33441%5D%2C%20%5B37.70018%2C%20-121.77845%5D%2C%20%5B32.876197999999995%2C%20-96.518517%5D%2C%20%5B30.681805%2C%20-88.042511%5D%2C%20%5B42.888783%2C%20-85.49385799999997%5D%2C%20%5B40.822171%2C%20-98.111574%5D%2C%20%5B38.220663%2C%20-122.132285%5D%2C%20%5B35.30908200000001%2C%20-80.71869699999998%5D%2C%20%5B42.293297%2C%20-71.760849%5D%2C%20%5B29.77685%2C%20-95.388565%5D%2C%20%5B29.591797%2C%20-98.35202%5D%2C%20%5B29.613276000000006%2C%20-95.450348%5D%2C%20%5B29.85664%2C%20-95.56372%5D%2C%20%5B33.479267%2C%20-112.272453%5D%2C%20%5B34.837009%2C%20-82.445229%5D%2C%20%5B36.170013%2C%20-95.860107%5D%2C%20%5B33.15136%2C%20-117.10439%5D%2C%20%5B34.812119%2C%20-82.24249300000002%5D%2C%20%5B39.14363%2C%20-84.45913%5D%2C%20%5B38.95243%2C%20-76.86225%5D%2C%20%5B39.616725%2C%20-119.271128%5D%2C%20%5B33.890293%2C%20-84.460991%5D%2C%20%5B36.260048%2C%20-86.73852%5D%2C%20%5B43.699107%2C%20-76.062658%5D%2C%20%5B34.0244%2C%20-117.75582%5D%2C%20%5B31.727844%2C%20-106.302872%5D%2C%20%5B47.46754%2C%20-122.33218%5D%2C%20%5B25.784161%2C%20-80.28813199999998%5D%2C%20%5B41.42657%2C%20-87.32158000000003%5D%2C%20%5B35.27607000000001%2C%20-80.816742%5D%2C%20%5B35.227871%2C%20-80.84787800000002%5D%2C%20%5B36.589327%2C%20-80.741675%5D%2C%20%5B30.216276%2C%20-97.751244%5D%2C%20%5B39.816261%2C%20-76.993462%5D%2C%20%5B39.8873%2C%20-75.104584%5D%2C%20%5B25.879404%2C%20-80.356367%5D%2C%20%5B33.884594%2C%20-84.469887%5D%2C%20%5B41.287483%2C%20-96.081444%5D%2C%20%5B34.067875%2C%20-118.029144%5D%2C%20%5B36.328672%2C%20-119.406519%5D%2C%20%5B34.035339%2C%20-118.329819%5D%2C%20%5B40.73765%2C%20-74.07713000000003%5D%2C%20%5B34.030731%2C%20-117.708107%5D%2C%20%5B48.31074%2C%20-93.73129%5D%2C%20%5B33.148689000000005%2C%20-117.334259%5D%2C%20%5B33.818249%2C%20-118.190857%5D%2C%20%5B35.814331%2C%20-90.728577%5D%2C%20%5B35.20895%2C%20-80.822823%5D%2C%20%5B41.438119%2C%20-85.15969399999999%5D%2C%20%5B33.29633%2C%20-117.46181%5D%2C%20%5B33.671764%2C%20-117.884285%5D%2C%20%5B30.41482%2C%20-91.14436%5D%2C%20%5B35.217797%2C%20-80.850501%5D%2C%20%5B38.665039%2C%20-121.538001%5D%2C%20%5B44.971249%2C%20-93.370483%5D%2C%20%5B39.196388%2C%20-77.265556%5D%2C%20%5B41.39856%2C%20-81.65201%5D%2C%20%5B33.99345%2C%20-118.069351%5D%2C%20%5B26.102789%2C%20-80.265495%5D%2C%20%5B37.769291%2C%20-122.410764%5D%2C%20%5B34.13455%2C%20-117.67498%5D%2C%20%5B33.882239%2C%20-117.645493%5D%2C%20%5B37.627371%2C%20-122.081243%5D%2C%20%5B34.017398%2C%20-81.08928399999998%5D%2C%20%5B47.204796%2C%20-122.460747%5D%2C%20%5B40.72602%2C%20-111.96163%5D%2C%20%5B30.354345%2C%20-81.555161%5D%2C%20%5B47.456957%2C%20-111.409982%5D%2C%20%5B32.968522%2C%20-117.093218%5D%2C%20%5B42.309641%2C%20-122.847112%5D%2C%20%5B34.120468%2C%20-118.271271%5D%2C%20%5B33.930939%2C%20-118.178909%5D%2C%20%5B28.38192%2C%20-81.505524%5D%2C%20%5B38.915642%2C%20-119.71591200000002%5D%2C%20%5B37.318287%2C%20-121.831551%5D%2C%20%5B41.025553%2C%20-122.396517%5D%2C%20%5B34.17429%2C%20-118.850029%5D%2C%20%5B40.797539%2C%20-72.840721%5D%2C%20%5B25.913048%2C%20-80.210052%5D%2C%20%5B34.016769000000004%2C%20-117.095901%5D%2C%20%5B36.83641%2C%20-76.07008%5D%2C%20%5B30.343862%2C%20-81.668061%5D%2C%20%5B30.146023%2C%20-92.057899%5D%2C%20%5B28.402972%2C%20-81.404539%5D%2C%20%5B33.99715%2C%20-117.931252%5D%2C%20%5B39.372667%2C%20-76.746898%5D%2C%20%5B47.544922%2C%20-122.33123799999998%5D%2C%20%5B37.470526%2C%20-122.157861%5D%2C%20%5B33.676951%2C%20-117.757278%5D%2C%20%5B32.986031%2C%20-96.890717%5D%2C%20%5B34.071938%2C%20-118.266922%5D%2C%20%5B32.133861%2C%20-110.99884099999998%5D%2C%20%5B47.019%2C%20-122.90587%5D%2C%20%5B32.770138%2C%20-117.20636%5D%2C%20%5B33.668186%2C%20-117.81929%5D%2C%20%5B41.003172%2C%20-76.816627%5D%2C%20%5B34.278739%2C%20-83.901931%5D%2C%20%5B41.773659%2C%20-87.974564%5D%2C%20%5B34.170277%2C%20-118.501373%5D%2C%20%5B39.01189%2C%20-77.06349%5D%2C%20%5B29.8917%2C%20-97.91375%5D%2C%20%5B33.488029%2C%20-82.19980600000002%5D%2C%20%5B38.685138%2C%20-122.593969%5D%2C%20%5B38.860328%2C%20-77.871269%5D%2C%20%5B33.476209999999995%2C%20-117.138923%5D%2C%20%5B34.258423%2C%20-118.105179%5D%2C%20%5B33.440311%2C%20-80.082619%5D%2C%20%5B33.941177%2C%20-117.236343%5D%2C%20%5B35.182053%2C%20-106.639961%5D%2C%20%5B34.014599%2C%20-117.453285%5D%2C%20%5B33.813236%2C%20-84.366219%5D%2C%20%5B47.821373%2C%20-122.881405%5D%2C%20%5B42.170132%2C%20-88.018974%5D%2C%20%5B36.541164%2C%20-121.154134%5D%2C%20%5B44.95161%2C%20-93.14647%5D%2C%20%5B37.33634%2C%20-121.93402%5D%2C%20%5B34.063725%2C%20-118.24991599999998%5D%2C%20%5B33.97867%2C%20-118.07803%5D%2C%20%5B33.745556%2C%20-84.349213%5D%2C%20%5B40.789585%2C%20-73.822479%5D%2C%20%5B34.234842%2C%20-118.290932%5D%2C%20%5B41.038429%2C%20-111.949646%5D%2C%20%5B30.14488%2C%20-91.991669%5D%2C%20%5B32.647144%2C%20-96.781181%5D%2C%20%5B34.059383000000004%2C%20-84.383438%5D%2C%20%5B30.448835%2C%20-82.932999%5D%2C%20%5B40.04401%2C%20-104.980629%5D%2C%20%5B35.35849%2C%20-80.84306%5D%2C%20%5B41.81244%2C%20-71.40697%5D%2C%20%5B32.74239%2C%20-96.818362%5D%2C%20%5B32.807289000000004%2C%20-96.793266%5D%2C%20%5B37.525681%2C%20-77.271834%5D%2C%20%5B45.470162%2C%20-122.688079%5D%2C%20%5B41.042572%2C%20-73.836697%5D%2C%20%5B30.508904%2C%20-91.158441%5D%2C%20%5B45.464204%2C%20-123.777326%5D%2C%20%5B42.393459%2C%20-83.1064%5D%2C%20%5B45.390049%2C%20-92.843369%5D%2C%20%5B34.03476%2C%20-117.974571%5D%2C%20%5B41.486068%2C%20-81.66392900000002%5D%2C%20%5B33.755615%2C%20-84.494547%5D%2C%20%5B40.116829%2C%20-75.34548199999998%5D%2C%20%5B38.714312%2C%20-121.392379%5D%2C%20%5B37.063862%2C%20-77.606308%5D%2C%20%5B38.54362%2C%20-90.29749%5D%2C%20%5B38.023247%2C%20-121.966591%5D%2C%20%5B33.913891%2C%20-118.104889%5D%2C%20%5B37.788277%2C%20-122.198669%5D%2C%20%5B30.014347%2C%20-95.346582%5D%2C%20%5B33.939353000000004%2C%20-117.222093%5D%2C%20%5B41.74456%2C%20-87.93899%5D%2C%20%5B33.852535%2C%20-117.25551000000002%5D%2C%20%5B27.816137%2C%20-82.352035%5D%2C%20%5B32.97513%2C%20-80.07632%5D%2C%20%5B35.43623%2C%20-97.514267%5D%2C%20%5B35.820721%2C%20-78.783096%5D%2C%20%5B45.823749%2C%20-123.493634%5D%2C%20%5B30.419399%2C%20-97.660919%5D%2C%20%5B37.8459%2C%20-122.24781000000002%5D%2C%20%5B35.012753000000004%2C%20-92.07079%5D%2C%20%5B26.19347%2C%20-80.15155%5D%2C%20%5B39.983159%2C%20-75.8233%5D%2C%20%5B44.467109%2C%20-93.930429%5D%2C%20%5B32.454762%2C%20-83.711134%5D%2C%20%5B25.634719%2C%20-80.414812%5D%2C%20%5B44.62932%2C%20-121.13063%5D%2C%20%5B30.5063%2C%20-91.121933%5D%2C%20%5B25.925449%2C%20-80.271736%5D%2C%20%5B28.01321%2C%20-82.45484%5D%2C%20%5B33.595215%2C%20-112.393318%5D%2C%20%5B30.345949%2C%20-97.724808%5D%2C%20%5B33.924534%2C%20-118.046516%5D%2C%20%5B42.71934%2C%20-84.50439%5D%2C%20%5B39.12549%2C%20-121.574635%5D%2C%20%5B28.968391%2C%20-82.025814%5D%2C%20%5B34.069239%2C%20-118.235921%5D%2C%20%5B47.696541%2C%20-122.290588%5D%2C%20%5B32.918053%2C%20-80.829826%5D%2C%20%5B37.603428%2C%20-122.064142%5D%2C%20%5B39.7019%2C%20-84.34758000000002%5D%2C%20%5B38.599918%2C%20-121.504807%5D%2C%20%5B33.450590000000005%2C%20-117.130297%5D%2C%20%5B33.751045%2C%20-117.845695%5D%2C%20%5B40.983387%2C%20-73.74359100000002%5D%2C%20%5B37.769646%2C%20-122.417847%5D%2C%20%5B38.61834%2C%20-121.268181%5D%2C%20%5B47.125999%2C%20-122.544922%5D%2C%20%5B34.225758%2C%20-117.410812%5D%2C%20%5B35.042004%2C%20-82.429893%5D%2C%20%5B32.858021%2C%20-117.184334%5D%2C%20%5B41.40273300000001%2C%20-81.819939%5D%2C%20%5B39.98222%2C%20-75.1008%5D%2C%20%5B40.846059%2C%20-73.930479%5D%2C%20%5B34.756481%2C%20-82.28520999999998%5D%2C%20%5B38.137781%2C%20-120.851047%5D%2C%20%5B37.673973%2C%20-85.850624%5D%2C%20%5B37.66896%2C%20-122.1094%5D%2C%20%5B47.67935900000001%2C%20-122.263618%5D%2C%20%5B45.13768%2C%20-93.392067%5D%2C%20%5B38.44899%2C%20-81.85115%5D%2C%20%5B43.18125%2C%20-77.5085%5D%2C%20%5B29.631322%2C%20-95.523203%5D%2C%20%5B37.826899%2C%20-122.297044%5D%2C%20%5B26.468569%2C%20-81.822177%5D%2C%20%5B33.987499%2C%20-118.13755%5D%2C%20%5B38.834785%2C%20-77.098129%5D%2C%20%5B40.691647%2C%20-73.999306%5D%2C%20%5B40.15904000000001%2C%20-76.15265%5D%2C%20%5B39.206177%2C%20-76.614423%5D%2C%20%5B34.231557%2C%20-118.404309%5D%2C%20%5B42.539017%2C%20-70.987778%5D%2C%20%5B39.148056%2C%20-77.21817%5D%2C%20%5B39.823971%2C%20-86.213142%5D%2C%20%5B38.134083%2C%20-122.476372%5D%2C%20%5B33.442162%2C%20-86.73037%5D%2C%20%5B29.84438%2C%20-97.96724%5D%2C%20%5B32.794781%2C%20-96.722496%5D%2C%20%5B38.638015%2C%20-121.405089%5D%2C%20%5B33.815164%2C%20-79.018814%5D%2C%20%5B33.884769%2C%20-78.687531%5D%2C%20%5B33.793372%2C%20-84.392149%5D%2C%20%5B37.70778%2C%20-122.46944%5D%2C%20%5B35.34667%2C%20-78.47548%5D%2C%20%5B32.662346%2C%20-96.821309%5D%2C%20%5B25.823117%2C%20-80.206385%5D%2C%20%5B25.7866%2C%20-80.21251%5D%2C%20%5B29.864447%2C%20-95.384773%5D%2C%20%5B38.96203%2C%20-77.18672%5D%2C%20%5B42.963627%2C%20-85.654413%5D%2C%20%5B33.91646%2C%20-118.370347%5D%2C%20%5B30.4398%2C%20-97.676292%5D%2C%20%5B34.96668%2C%20-80.98359%5D%2C%20%5B33.46215%2C%20-112.03062%5D%2C%20%5B30.331547%2C%20-97.755486%5D%2C%20%5B30.557301%2C%20-90.983467%5D%2C%20%5B34.231632%2C%20-119.172844%5D%2C%20%5B26.033779%2C%20-80.134888%5D%2C%20%5B28.553562%2C%20-81.382111%5D%2C%20%5B35.797844%2C%20-78.646301%5D%2C%20%5B33.815296999999994%2C%20-117.51176%5D%2C%20%5B47.799381%2C%20-122.314163%5D%2C%20%5B40.70587%2C%20-73.8181%5D%2C%20%5B40.068748%2C%20-75.341988%5D%2C%20%5B46.67108%2C%20-92.69346%5D%2C%20%5B25.869213%2C%20-80.208313%5D%2C%20%5B32.72478%2C%20-117.15463%5D%2C%20%5B42.84483%2C%20-70.903183%5D%2C%20%5B30.02586%2C%20-90.011826%5D%2C%20%5B33.84696%2C%20-117.86874%5D%2C%20%5B44.790665%2C%20-93.221283%5D%2C%20%5B26.678420000000006%2C%20-80.12246999999998%5D%2C%20%5B40.056606%2C%20-82.890373%5D%2C%20%5B26.125263%2C%20-80.360443%5D%2C%20%5B38.169792%2C%20-121.159592%5D%2C%20%5B39.84497%2C%20-104.9846%5D%2C%20%5B40.833584%2C%20-73.42047099999998%5D%2C%20%5B40.160362%2C%20-105.055328%5D%2C%20%5B29.85929%2C%20-95.362853%5D%2C%20%5B29.924717%2C%20-95.199883%5D%2C%20%5B33.936221999999994%2C%20-117.404076%5D%2C%20%5B35.014263%2C%20-85.251938%5D%2C%20%5B39.12795%2C%20-84.56759%5D%2C%20%5B34.135481%2C%20-117.584767%5D%2C%20%5B39.758968%2C%20-75.50386%5D%2C%20%5B33.657654%2C%20-117.778214%5D%2C%20%5B42.706081%2C%20-71.21051%5D%2C%20%5B34.57481%2C%20-87.016357%5D%2C%20%5B33.94543%2C%20-86.86976999999997%5D%2C%20%5B38.55536%2C%20-121.684454%5D%2C%20%5B42.682884%2C%20-73.721786%5D%2C%20%5B43.16661%2C%20-73.71408000000002%5D%2C%20%5B34.13422%2C%20-80.85695600000003%5D%2C%20%5B39.50439%2C%20-118.91362%5D%2C%20%5B34.063793%2C%20-117.286659%5D%2C%20%5B39.71175%2C%20-74.280182%5D%2C%20%5B36.964852%2C%20-76.413391%5D%2C%20%5B43.068218%2C%20-76.16684000000002%5D%2C%20%5B33.234095%2C%20-84.824759%5D%2C%20%5B42.40307%2C%20-71.06902%5D%2C%20%5B34.061671999999994%2C%20-117.184425%5D%2C%20%5B35.690111%2C%20-120.796929%5D%2C%20%5B40.678715%2C%20-73.952995%5D%2C%20%5B26.225292%2C%20-80.136513%5D%2C%20%5B34.943218%2C%20-81.031113%5D%2C%20%5B33.95384%2C%20-118.17076000000002%5D%2C%20%5B29.73745%2C%20-95.517128%5D%2C%20%5B40.69980200000001%2C%20-73.984688%5D%2C%20%5B37.6764%2C%20-122.1098%5D%2C%20%5B38.938713%2C%20-94.507187%5D%2C%20%5B33.793593%2C%20-117.502609%5D%2C%20%5B38.453285%2C%20-121.941681%5D%2C%20%5B29.650509000000003%2C%20-95.35601%5D%2C%20%5B39.815712%2C%20-86.156769%5D%2C%20%5B34.448959%2C%20-86.901596%5D%2C%20%5B33.68789%2C%20-117.90455%5D%2C%20%5B33.97805%2C%20-81.194801%5D%2C%20%5B46.16281%2C%20-123.896075%5D%2C%20%5B37.626587%2C%20-122.121719%5D%2C%20%5B38.90059%2C%20-77.6303%5D%2C%20%5B33.807449%2C%20-85.05435200000002%5D%2C%20%5B38.56291%2C%20-121.490867%5D%2C%20%5B41.687009%2C%20-91.506033%5D%2C%20%5B42.21188%2C%20-117.77131%5D%2C%20%5B34.13525%2C%20-117.234917%5D%2C%20%5B28.181948%2C%20-81.74382800000002%5D%2C%20%5B44.228442%2C%20-117.04399%5D%2C%20%5B38.887041%2C%20-77.217267%5D%2C%20%5B40.175302%2C%20-120.997727%5D%2C%20%5B33.84175%2C%20-117.95229%5D%2C%20%5B41.78358%2C%20-112.10896%5D%2C%20%5B38.893425%2C%20-121.083374%5D%2C%20%5B40.735451%2C%20-73.975098%5D%2C%20%5B41.06947%2C%20-85.05877%5D%2C%20%5B40.068096%2C%20-75.147646%5D%2C%20%5B40.807009%2C%20-73.23144%5D%2C%20%5B28.0363%2C%20-82.50066%5D%2C%20%5B39.444962%2C%20-123.382358%5D%2C%20%5B32.85842%2C%20-96.65275%5D%2C%20%5B42.72067%2C%20-121.84445%5D%2C%20%5B33.47414000000001%2C%20-82.12856%5D%2C%20%5B32.674609999999994%2C%20-97.14496%5D%2C%20%5B40.3819%2C%20-76.65683%5D%2C%20%5B41.87342%2C%20-87.81537%5D%2C%20%5B31.761604%2C%20-106.273758%5D%2C%20%5B26.93054%2C%20-80.14881%5D%2C%20%5B31.747589%2C%20-106.318787%5D%2C%20%5B39.10533%2C%20-94.684284%5D%2C%20%5B29.9287%2C%20-90.03123000000002%5D%2C%20%5B40.04062%2C%20-104.98037%5D%2C%20%5B42.352258%2C%20-88.090809%5D%2C%20%5B32.81173%2C%20-117.15566%5D%2C%20%5B35.141972%2C%20-80.873688%5D%2C%20%5B34.486579%2C%20-79.32520500000003%5D%2C%20%5B41.902912%2C%20-88.774117%5D%2C%20%5B33.235599%2C%20-80.264595%5D%2C%20%5B41.176167%2C%20-73.195585%5D%2C%20%5B32.995201%2C%20-80.169128%5D%2C%20%5B37.52297%2C%20-77.44091999999998%5D%2C%20%5B40.654812%2C%20-111.901863%5D%2C%20%5B33.915607%2C%20-118.105843%5D%2C%20%5B33.696102%2C%20-117.084844%5D%2C%20%5B35.19469%2C%20-80.76642%5D%2C%20%5B42.323498%2C%20-83.443359%5D%2C%20%5B29.950581%2C%20-95.39946%5D%2C%20%5B34.688519%2C%20-111.743996%5D%2C%20%5B42.0546%2C%20-87.83815799999998%5D%2C%20%5B32.696301%2C%20-117.094749%5D%2C%20%5B34.26571%2C%20-118.4773%5D%2C%20%5B34.021906%2C%20-118.167275%5D%2C%20%5B29.66791%2C%20-95.480247%5D%2C%20%5B39.122947%2C%20-122.844523%5D%2C%20%5B39.930408%2C%20-76.822701%5D%2C%20%5B37.479435%2C%20-76.918846%5D%2C%20%5B42.664112%2C%20-71.194603%5D%2C%20%5B30.214079%2C%20-97.830261%5D%2C%20%5B33.852024%2C%20-84.369621%5D%2C%20%5B32.77923%2C%20-117.0695%5D%2C%20%5B44.88369%2C%20-93.13363%5D%2C%20%5B46.528462%2C%20-108.093141%5D%2C%20%5B38.61018%2C%20-76.974609%5D%2C%20%5B33.994772%2C%20-118.176645%5D%2C%20%5B42.814793%2C%20-83.78227199999998%5D%2C%20%5B33.458690000000004%2C%20-112.04668999999998%5D%2C%20%5B43.111836%2C%20-77.623866%5D%2C%20%5B33.9649%2C%20-84.53312%5D%2C%20%5B37.463696%2C%20-121.180411%5D%2C%20%5B29.757589000000007%2C%20-95.385712%5D%2C%20%5B38.64168%2C%20-121.40163%5D%2C%20%5B35.94743%2C%20-78.548622%5D%2C%20%5B29.53187%2C%20-98.604668%5D%2C%20%5B35.162613%2C%20-80.739471%5D%2C%20%5B45.21558%2C%20-93.59164%5D%2C%20%5B29.445457%2C%20-98.514938%5D%2C%20%5B33.90189%2C%20-118.286911%5D%2C%20%5B45.218025%2C%20-93.595566%5D%2C%20%5B26.587324%2C%20-80.068924%5D%2C%20%5B25.89281%2C%20-80.20962%5D%2C%20%5B43.018723%2C%20-83.634895%5D%2C%20%5B38.58718%2C%20-121.50362%5D%2C%20%5B42.383751%2C%20-83.15007800000002%5D%2C%20%5B43.18271%2C%20-83.76898%5D%2C%20%5B44.959259%2C%20-93.198471%5D%2C%20%5B28.472846%2C%20-81.369249%5D%2C%20%5B28.61016%2C%20-81.41512%5D%2C%20%5B37.62880300000001%2C%20-122.427629%5D%2C%20%5B30.439741%2C%20-91.007515%5D%2C%20%5B40.240376%2C%20-75.284912%5D%2C%20%5B43.472756%2C%20-123.475106%5D%2C%20%5B35.915253%2C%20-86.510531%5D%2C%20%5B39.76066%2C%20-104.90275%5D%2C%20%5B43.186913%2C%20-77.70150799999998%5D%2C%20%5B37.08679%2C%20-104.52226%5D%2C%20%5B41.859257%2C%20-88.07637%5D%2C%20%5B37.448475%2C%20-121.921638%5D%2C%20%5B38.575016%2C%20-121.548416%5D%2C%20%5B28.6453%2C%20-81.51101%5D%2C%20%5B37.480209%2C%20-122.406273%5D%2C%20%5B41.811031%2C%20-71.405548%5D%2C%20%5B39.987782%2C%20-75.089561%5D%2C%20%5B41.96867%2C%20-88.151604%5D%2C%20%5B30.591572%2C%20-86.999992%5D%2C%20%5B29.42341%2C%20-98.543297%5D%2C%20%5B29.939940000000004%2C%20-95.2976%5D%2C%20%5B36.772022%2C%20-76.358841%5D%2C%20%5B42.368748%2C%20-88.169075%5D%2C%20%5B41.813019%2C%20-71.36170200000002%5D%2C%20%5B43.10462%2C%20-73.2202%5D%2C%20%5B37.10978%2C%20-77.5355%5D%2C%20%5B28.468746000000003%2C%20-81.45858%5D%2C%20%5B33.234055%2C%20-87.618279%5D%2C%20%5B39.212964%2C%20-81.83204%5D%2C%20%5B42.305592%2C%20-87.983589%5D%2C%20%5B32.72379%2C%20-117.15428%5D%2C%20%5B43.053696%2C%20-76.11970500000002%5D%2C%20%5B30.706838%2C%20-85.314206%5D%2C%20%5B33.52158%2C%20-111.995163%5D%2C%20%5B42.465599%2C%20-82.921257%5D%2C%20%5B37.62741%2C%20-122.40251%5D%2C%20%5B34.01334%2C%20-117.34403%5D%2C%20%5B33.873608000000004%2C%20-118.214432%5D%2C%20%5B45.50442%2C%20-122.56546000000002%5D%2C%20%5B44.765999%2C%20-121.004473%5D%2C%20%5B34.030937%2C%20-117.328354%5D%2C%20%5B28.717799%2C%20-81.509055%5D%2C%20%5B27.98137%2C%20-82.3215%5D%2C%20%5B40.12873%2C%20-77.34997%5D%2C%20%5B33.62105%2C%20-104.250415%5D%2C%20%5B47.562113%2C%20-122.380286%5D%2C%20%5B37.45457%2C%20-79.845167%5D%2C%20%5B42.21994%2C%20-83.49106%5D%2C%20%5B33.233905%2C%20-87.54261600000002%5D%2C%20%5B42.822491%2C%20-78.791232%5D%2C%20%5B40.80479%2C%20-73.28625%5D%2C%20%5B38.01876%2C%20-78.42902%5D%2C%20%5B35.040914%2C%20-85.151551%5D%2C%20%5B34.676846000000005%2C%20-82.25747700000002%5D%2C%20%5B32.740537%2C%20-96.82163%5D%2C%20%5B35.407185%2C%20-80.86264%5D%2C%20%5B35.305023%2C%20-80.858292%5D%2C%20%5B34.145927%2C%20-118.761292%5D%2C%20%5B33.32994%2C%20-84.78104%5D%2C%20%5B40.42627%2C%20-79.96354699999998%5D%2C%20%5B42.925636%2C%20-83.612724%5D%2C%20%5B37.389454%2C%20-77.764935%5D%2C%20%5B40.352595%2C%20-111.773328%5D%2C%20%5B43.05862%2C%20-76.14998%5D%2C%20%5B33.801968%2C%20-118.114662%5D%2C%20%5B34.922421%2C%20-81.98683199999998%5D%2C%20%5B32.777848%2C%20-117.118776%5D%2C%20%5B38.55609000000001%2C%20-121.44225%5D%2C%20%5B38.822461%2C%20-76.88609699999998%5D%2C%20%5B29.431622%2C%20-98.405472%5D%2C%20%5B26.456826%2C%20-80.08944100000002%5D%2C%20%5B25.893911%2C%20-80.32444%5D%2C%20%5B38.595173%2C%20-121.444344%5D%2C%20%5B39.634911%2C%20-84.35273000000002%5D%2C%20%5B45.04388400000001%2C%20-93.400719%5D%2C%20%5B45.518326%2C%20-122.56559%5D%2C%20%5B41.7216%2C%20-71.47847%5D%2C%20%5B35.295948%2C%20-119.030365%5D%2C%20%5B37.54316%2C%20-77.44915%5D%2C%20%5B44.06427%2C%20-123.10045%5D%2C%20%5B37.865484%2C%20-121.668037%5D%2C%20%5B44.890182%2C%20-93.398911%5D%2C%20%5B47.49052%2C%20-122.191971%5D%2C%20%5B34.02185%2C%20-117.8136%5D%2C%20%5B33.117992%2C%20-111.84211%5D%2C%20%5B41.7217%2C%20-87.62416%5D%2C%20%5B34.02935%2C%20-117.32989%5D%2C%20%5B25.808439%2C%20-80.369318%5D%2C%20%5B33.74134%2C%20-84.41159%5D%2C%20%5B41.688667%2C%20-88.047539%5D%2C%20%5B42.632954%2C%20-73.76847099999998%5D%2C%20%5B39.824394%2C%20-86.197594%5D%2C%20%5B38.357292%2C%20-78.92738299999998%5D%2C%20%5B30.249212%2C%20-97.767884%5D%2C%20%5B34.255871%2C%20-119.108955%5D%2C%20%5B43.12846%2C%20-77.528938%5D%2C%20%5B36.547176%2C%20-119.786118%5D%2C%20%5B34.556221%2C%20-82.682236%5D%2C%20%5B25.774044%2C%20-80.32066400000002%5D%2C%20%5B33.56702%2C%20-84.533951%5D%2C%20%5B35.394427%2C%20-119.044533%5D%2C%20%5B37.348961%2C%20-121.91813700000002%5D%2C%20%5B33.844712%2C%20-117.828327%5D%2C%20%5B30.36371%2C%20-97.726624%5D%2C%20%5B36.13858%2C%20-85.267288%5D%2C%20%5B40.696232%2C%20-74.25862099999998%5D%2C%20%5B26.10833%2C%20-80.16765%5D%2C%20%5B41.084297%2C%20-85.13600000000002%5D%2C%20%5B45.33331%2C%20-93.00457%5D%2C%20%5B33.950965999999994%2C%20-118.291718%5D%2C%20%5B29.599681%2C%20-95.349745%5D%2C%20%5B43.914169%2C%20-122.809636%5D%2C%20%5B42.3056%2C%20-87.98217700000002%5D%2C%20%5B40.068913%2C%20-75.343735%5D%2C%20%5B43.594378000000006%2C%20-83.86726%5D%2C%20%5B40.72096%2C%20-111.986208%5D%2C%20%5B38.117683%2C%20-122.564941%5D%2C%20%5B39.78553%2C%20-74.99445300000002%5D%2C%20%5B47.137546%2C%20-122.43463%5D%2C%20%5B35.027557%2C%20-81.871737%5D%2C%20%5B39.780441%2C%20-86.23428299999998%5D%2C%20%5B44.44503%2C%20-94.72012%5D%2C%20%5B40.689617%2C%20-73.57560699999998%5D%2C%20%5B33.749281%2C%20-118.281973%5D%2C%20%5B34.201111%2C%20-118.473412%5D%2C%20%5B37.86397%2C%20-122.30276%5D%2C%20%5B34.064387%2C%20-117.278398%5D%2C%20%5B37.650833%2C%20-122.489847%5D%2C%20%5B40.46542%2C%20-76.34451%5D%2C%20%5B32.900307%2C%20-96.71769%5D%2C%20%5B32.4818%2C%20-93.731621%5D%2C%20%5B38.376238%2C%20-122.741413%5D%2C%20%5B33.993598%2C%20-118.17638%5D%2C%20%5B33.851006%2C%20-117.837959%5D%2C%20%5B42.519485%2C%20-70.993546%5D%2C%20%5B30.442348%2C%20-91.007439%5D%2C%20%5B33.99270300000001%2C%20-118.402896%5D%2C%20%5B34.105461%2C%20-78.97827099999998%5D%2C%20%5B29.490351%2C%20-98.483444%5D%2C%20%5B34.90419%2C%20-81.98494699999998%5D%2C%20%5B34.815159%2C%20-82.44136800000003%5D%2C%20%5B37.360298%2C%20-121.90506%5D%2C%20%5B34.071751%2C%20-117.876991%5D%2C%20%5B29.873249%2C%20-95.409959%5D%2C%20%5B33.99557%2C%20-118.17683%5D%2C%20%5B39.5751%2C%20-105.337677%5D%2C%20%5B34.185539%2C%20-118.317859%5D%2C%20%5B29.995008%2C%20-90.114433%5D%2C%20%5B36.141367%2C%20-86.715214%5D%2C%20%5B37.25354%2C%20-121.84299%5D%2C%20%5B35.85509099999999%2C%20-78.584473%5D%2C%20%5B32.719204%2C%20-117.147751%5D%2C%20%5B40.350597%2C%20-74.250011%5D%2C%20%5B36.92845%2C%20-120.02595%5D%2C%20%5B32.914584999999995%2C%20-97.317177%5D%2C%20%5B25.579792%2C%20-80.339554%5D%2C%20%5B36.26109%2C%20-86.712603%5D%2C%20%5B34.96105%2C%20-82.05327%5D%2C%20%5B34.236389%2C%20-82.461952%5D%2C%20%5B33.791641%2C%20-84.391693%5D%2C%20%5B37.82649%2C%20-109.0768%5D%2C%20%5B34.072748%2C%20-117.784394%5D%2C%20%5B40.87793%2C%20-73.90406%5D%2C%20%5B45.82617%2C%20-122.84452%5D%2C%20%5B40.30548%2C%20-111.69865%5D%2C%20%5B39.82983%2C%20-82.338515%5D%2C%20%5B33.516040999999994%2C%20-82.070374%5D%2C%20%5B40.644814%2C%20-74.287941%5D%2C%20%5B30.13714%2C%20-97.797691%5D%2C%20%5B41.82459%2C%20-88.18095%5D%2C%20%5B36.205553%2C%20-121.735401%5D%2C%20%5B34.0118%2C%20-117.43404%5D%2C%20%5B30.15345%2C%20-91.957161%5D%2C%20%5B26.708557%2C%20-80.055092%5D%2C%20%5B34.149002%2C%20-118.697502%5D%2C%20%5B41.89446%2C%20-87.6563%5D%2C%20%5B35.722713%2C%20-78.584595%5D%2C%20%5B35.139826%2C%20-118.445917%5D%2C%20%5B29.572052000000006%2C%20-98.631538%5D%2C%20%5B34.451241%2C%20-82.152214%5D%2C%20%5B26.094158%2C%20-80.168198%5D%2C%20%5B40.609402%2C%20-112.05555%5D%2C%20%5B45.00832%2C%20-93.05742%5D%2C%20%5B33.809132%2C%20-117.235779%5D%2C%20%5B40.622016%2C%20-74.247635%5D%2C%20%5B41.811031%2C%20-71.405548%5D%2C%20%5B41.83219%2C%20-87.69566%5D%2C%20%5B33.83378%2C%20-84.1996%5D%2C%20%5B34.155739000000004%2C%20-118.431219%5D%2C%20%5B30.407516%2C%20-91.100609%5D%2C%20%5B37.558811%2C%20-77.408302%5D%2C%20%5B34.831409%2C%20-82.299149%5D%2C%20%5B40.847919%2C%20-73.942825%5D%2C%20%5B29.79669%2C%20-95.332153%5D%2C%20%5B41.162079%2C%20-112.023224%5D%2C%20%5B41.369035%2C%20-72.116414%5D%2C%20%5B27.338490000000004%2C%20-82.44597900000002%5D%2C%20%5B40.576152%2C%20-75.914361%5D%2C%20%5B38.6414%2C%20-121.46097%5D%2C%20%5B39.134801%2C%20-121.550403%5D%2C%20%5B26.923701%2C%20-80.14903000000002%5D%2C%20%5B36.74115%2C%20-121.766289%5D%2C%20%5B34.066769%2C%20-117.446205%5D%2C%20%5B40.161907%2C%20-75.118889%5D%2C%20%5B42.390461%2C%20-83.457718%5D%2C%20%5B40.893929%2C%20-74.132064%5D%2C%20%5B33.89275%2C%20-117.88081%5D%2C%20%5B34.051804%2C%20-118.000088%5D%2C%20%5B29.620871%2C%20-95.311859%5D%2C%20%5B29.784195%2C%20-95.550667%5D%2C%20%5B41.78177%2C%20-88.05405%5D%2C%20%5B33.407524%2C%20-111.874634%5D%2C%20%5B41.52856%2C%20-73.91904%5D%2C%20%5B42.34081%2C%20-122.911553%5D%2C%20%5B39.781055%2C%20-86.153938%5D%2C%20%5B35.797654%2C%20-78.56290200000002%5D%2C%20%5B25.898684%2C%20-80.32437900000002%5D%2C%20%5B37.300483%2C%20-119.64888700000002%5D%2C%20%5B41.290301%2C%20-72.566725%5D%2C%20%5B32.795589%2C%20-96.691994%5D%2C%20%5B40.58774%2C%20-112.02928%5D%2C%20%5B28.249319%2C%20-82.373688%5D%2C%20%5B30.229347%2C%20-92.062668%5D%2C%20%5B29.714615%2C%20-95.278252%5D%2C%20%5B29.686764%2C%20-95.508705%5D%2C%20%5B39.81662%2C%20-86.00986999999998%5D%2C%20%5B33.743858%2C%20-117.0401%5D%2C%20%5B44.489296%2C%20-122.836385%5D%2C%20%5B34.679482%2C%20-82.296631%5D%2C%20%5B38.62824000000001%2C%20-77.29342%5D%2C%20%5B32.728081%2C%20-117.069305%5D%2C%20%5B39.84669%2C%20-75.71172%5D%2C%20%5B35.32824%2C%20-80.74549%5D%2C%20%5B39.01983%2C%20-77.01333000000002%5D%2C%20%5B41.41105%2C%20-81.90733%5D%2C%20%5B43.08333%2C%20-85.63524%5D%2C%20%5B33.932007%2C%20-118.10125%5D%2C%20%5B41.427415%2C%20-73.629416%5D%2C%20%5B47.86536%2C%20-122.245804%5D%2C%20%5B33.663297%2C%20-117.897599%5D%2C%20%5B26.593929%2C%20-81.65495%5D%2C%20%5B40.70835%2C%20-111.90396%5D%2C%20%5B32.905114000000005%2C%20-86.635597%5D%2C%20%5B34.12605300000001%2C%20-118.073112%5D%2C%20%5B40.74638%2C%20-73.942848%5D%2C%20%5B32.941185%2C%20-80.187164%5D%2C%20%5B37.516285%2C%20-122.329041%5D%2C%20%5B39.334927%2C%20-76.51777%5D%2C%20%5B33.972159999999995%2C%20-118.167831%5D%2C%20%5B34.066196000000005%2C%20-117.479172%5D%2C%20%5B39.783344%2C%20-105.004565%5D%2C%20%5B40.75193%2C%20-111.91062%5D%2C%20%5B30.54049%2C%20-97.69217%5D%2C%20%5B34.043642%2C%20-117.800924%5D%2C%20%5B41.696434%2C%20-88.006241%5D%2C%20%5B30.424355%2C%20-91.151657%5D%2C%20%5B32.713640000000005%2C%20-117.13044%5D%2C%20%5B47.652454%2C%20-122.322472%5D%2C%20%5B30.329725%2C%20-97.640556%5D%2C%20%5B41.522038%2C%20-72.77124%5D%2C%20%5B27.661246%2C%20-82.435151%5D%2C%20%5B38.325085%2C%20-121.327065%5D%2C%20%5B29.738308%2C%20-95.433533%5D%2C%20%5B29.630513%2C%20-95.171997%5D%2C%20%5B36.122673%2C%20-86.751488%5D%2C%20%5B34.560001%2C%20-87.00012199999998%5D%2C%20%5B37.705467%2C%20-122.471535%5D%2C%20%5B40.324133%2C%20-78.3902%5D%2C%20%5B35.49325200000001%2C%20-97.534279%5D%2C%20%5B41.49648%2C%20-81.67763000000002%5D%2C%20%5B28.5457%2C%20-81.38253%5D%2C%20%5B25.711877%2C%20-80.33474100000002%5D%2C%20%5B34.03089%2C%20-118.19426%5D%2C%20%5B35.276628%2C%20-120.711597%5D%2C%20%5B45.011929%2C%20-93.054985%5D%2C%20%5B43.101398%2C%20-77.4618%5D%2C%20%5B37.980122%2C%20-87.56395699999999%5D%2C%20%5B34.01593%2C%20-118.173027%5D%2C%20%5B33.865112%2C%20-118.048409%5D%2C%20%5B45.17993900000001%2C%20-93.316879%5D%2C%20%5B42.408943%2C%20-83.079796%5D%2C%20%5B35.852952%2C%20-78.580972%5D%2C%20%5B33.94222%2C%20-118.02908899999998%5D%2C%20%5B33.150058%2C%20-117.198304%5D%2C%20%5B26.16659%2C%20-80.14645%5D%2C%20%5B40.31631%2C%20-79.76925%5D%2C%20%5B40.480225%2C%20-85.54898100000003%5D%2C%20%5B42.04773%2C%20-88.34116%5D%2C%20%5B35.230949%2C%20-120.629789%5D%2C%20%5B43.194202%2C%20-83.600838%5D%2C%20%5B35.171044%2C%20-80.968937%5D%2C%20%5B32.874687%2C%20-96.683182%5D%2C%20%5B28.067419%2C%20-82.738762%5D%2C%20%5B41.750393%2C%20-72.65799%5D%2C%20%5B34.067397%2C%20-117.571828%5D%2C%20%5B36.766289%2C%20-119.748672%5D%2C%20%5B40.828316%2C%20-73.93111400000002%5D%2C%20%5B35.757893%2C%20-78.612877%5D%2C%20%5B33.551769%2C%20-86.537483%5D%2C%20%5B38.857151%2C%20-104.720177%5D%2C%20%5B35.42615100000001%2C%20-97.423569%5D%2C%20%5B35.46801%2C%20-115.523843%5D%2C%20%5B30.121239000000006%2C%20-81.52056%5D%2C%20%5B40.131012%2C%20-76.217097%5D%2C%20%5B38.712713%2C%20-120.841368%5D%2C%20%5B42.060703%2C%20-71.859482%5D%2C%20%5B32.19188%2C%20-110.7898%5D%2C%20%5B31.776194%2C%20-106.262886%5D%2C%20%5B33.70545300000001%2C%20-117.954392%5D%2C%20%5B34.152473%2C%20-118.1213%5D%2C%20%5B41.07239000000001%2C%20-111.97848%5D%2C%20%5B32.923023%2C%20-97.060616%5D%2C%20%5B33.611073%2C%20-112.11647%5D%2C%20%5B32.678738%2C%20-96.676033%5D%2C%20%5B32.146512%2C%20-81.178053%5D%2C%20%5B35.511337%2C%20-97.565559%5D%2C%20%5B35.155659%2C%20-80.823761%5D%2C%20%5B40.70427100000001%2C%20-111.79548%5D%2C%20%5B25.970783%2C%20-80.29504399999998%5D%2C%20%5B34.06774%2C%20-117.83548%5D%2C%20%5B34.235107%2C%20-118.412354%5D%2C%20%5B43.02188%2C%20-123.29991%5D%2C%20%5B36.225651%2C%20-86.597778%5D%2C%20%5B28.230297%2C%20-80.712738%5D%2C%20%5B37.51146%2C%20-121.93772%5D%2C%20%5B40.324535%2C%20-75.93321999999998%5D%2C%20%5B38.661139%2C%20-121.373665%5D%2C%20%5B38.303768%2C%20-122.708183%5D%2C%20%5B45.36734000000001%2C%20-92.901489%5D%2C%20%5B25.88019%2C%20-80.20895%5D%2C%20%5B33.57679%2C%20-84.34111800000002%5D%2C%20%5B34.17413%2C%20-118.84971000000002%5D%2C%20%5B44.95789%2C%20-93.09056%5D%2C%20%5B47.686798%2C%20-122.32296%5D%2C%20%5B33.864185%2C%20-118.284829%5D%2C%20%5B39.38626%2C%20-74.51156%5D%2C%20%5B41.34151%2C%20-83.22446%5D%2C%20%5B24.72641%2C%20-81.045998%5D%2C%20%5B39.84798%2C%20-75.09573%5D%2C%20%5B33.699013%2C%20-84.26616700000002%5D%2C%20%5B34.223194%2C%20-117.404549%5D%2C%20%5B33.774246000000005%2C%20-118.049782%5D%2C%20%5B41.244823%2C%20-112.022942%5D%2C%20%5B34.136073%2C%20-117.363832%5D%2C%20%5B39.165412%2C%20-77.204736%5D%2C%20%5B37.491524%2C%20-122.219604%5D%2C%20%5B31.902969%2C%20-106.421471%5D%2C%20%5B40.559452%2C%20-74.321161%5D%2C%20%5B41.949699%2C%20-87.920242%5D%2C%20%5B36.06076%2C%20-95.973503%5D%2C%20%5B43.617922%2C%20-116.249417%5D%2C%20%5B44.95205%2C%20-93.06522%5D%2C%20%5B35.47818%2C%20-97.516113%5D%2C%20%5B41.06209000000001%2C%20-81.53175999999998%5D%2C%20%5B34.124181%2C%20-80.873216%5D%2C%20%5B45.5434%2C%20-122.24351%5D%2C%20%5B34.604366%2C%20-80.994545%5D%2C%20%5B39.252106%2C%20-112.113106%5D%2C%20%5B33.820831%2C%20-84.168541%5D%2C%20%5B38.921677%2C%20-104.775261%5D%2C%20%5B37.842594%2C%20-122.2976%5D%2C%20%5B40.08321%2C%20-86.82394000000002%5D%2C%20%5B41.056243%2C%20-111.531876%5D%2C%20%5B40.69155900000001%2C%20-73.998795%5D%2C%20%5B39.42201%2C%20-77.253004%5D%2C%20%5B33.118759999999995%2C%20-111.84244%5D%2C%20%5B41.88458%2C%20-87.64605%5D%2C%20%5B33.96744%2C%20-118.24611000000002%5D%2C%20%5B39.348424%2C%20-76.646558%5D%2C%20%5B40.463537%2C%20-112.354756%5D%2C%20%5B37.756392%2C%20-122.148785%5D%2C%20%5B29.7792%2C%20-95.4455%5D%2C%20%5B34.894557%2C%20-85.078925%5D%2C%20%5B40.08729%2C%20-75.29313%5D%2C%20%5B42.768088%2C%20-73.52197199999998%5D%2C%20%5B42.14015%2C%20-121.88498%5D%2C%20%5B29.806789%2C%20-95.46122%5D%2C%20%5B47.23055%2C%20-122.45143%5D%2C%20%5B29.938314%2C%20-95.393548%5D%2C%20%5B35.032635%2C%20-89.786324%5D%2C%20%5B33.965805%2C%20-118.370499%5D%2C%20%5B33.850147%2C%20-117.875931%5D%2C%20%5B34.829239%2C%20-82.30319200000002%5D%2C%20%5B35.008520000000004%2C%20-85.1532%5D%2C%20%5B35.22781%2C%20-80.86148%5D%2C%20%5B41.243191%2C%20-76.551163%5D%2C%20%5B30.44022%2C%20-91.210395%5D%2C%20%5B45.525906%2C%20-122.677536%5D%2C%20%5B40.52692800000001%2C%20-111.89101399999998%5D%2C%20%5B34.120038%2C%20-117.819526%5D%2C%20%5B39.17071%2C%20-76.63996%5D%2C%20%5B35.55765200000001%2C%20-119.47422%5D%2C%20%5B42.359344%2C%20-71.2033%5D%2C%20%5B44.651216%2C%20-123.061412%5D%2C%20%5B35.77114%2C%20-78.78174%5D%2C%20%5B43.88605%2C%20-123.022411%5D%2C%20%5B47.661369%2C%20-122.32196%5D%2C%20%5B34.033314000000004%2C%20-118.162069%5D%2C%20%5B40.78125%2C%20-73.94422%5D%2C%20%5B36.77766%2C%20-76.24819000000002%5D%2C%20%5B38.575862%2C%20-121.52128799999998%5D%2C%20%5B36.071407%2C%20-86.769562%5D%2C%20%5B36.574213%2C%20-121.52311%5D%2C%20%5B45.130367%2C%20-93.422585%5D%2C%20%5B39.745888%2C%20-84.17041%5D%2C%20%5B35.33818400000001%2C%20-118.843185%5D%2C%20%5B45.53146%2C%20-122.65456%5D%2C%20%5B40.13185%2C%20-82.971871%5D%2C%20%5B39.86592%2C%20-75.1041%5D%2C%20%5B33.95327%2C%20-118.239662%5D%2C%20%5B37.371501%2C%20-121.901978%5D%2C%20%5B37.63243%2C%20-122.43746000000002%5D%2C%20%5B41.025887%2C%20-73.73056%5D%2C%20%5B39.347589%2C%20-76.740978%5D%2C%20%5B29.75407%2C%20-95.45545%5D%2C%20%5B40.926345%2C%20-72.33277%5D%2C%20%5B25.969411%2C%20-80.165654%5D%2C%20%5B38.471764%2C%20-121.825553%5D%2C%20%5B37.9465%2C%20-122.49132%5D%2C%20%5B27.465719%2C%20-82.53186%5D%2C%20%5B34.006813%2C%20-117.964447%5D%2C%20%5B41.136517%2C%20-95.90033%5D%2C%20%5B32.465074%2C%20-81.025616%5D%2C%20%5B34.072926%2C%20-117.787483%5D%2C%20%5B37.867489%2C%20-121.638397%5D%2C%20%5B35.213612%2C%20-80.835167%5D%2C%20%5B47.267376%2C%20-122.549599%5D%2C%20%5B29.675859000000006%2C%20-95.538361%5D%2C%20%5B30.27308%2C%20-97.697765%5D%2C%20%5B29.779774%2C%20-95.241003%5D%2C%20%5B47.21638400000001%2C%20-122.34697%5D%2C%20%5B34.134633%2C%20-117.646557%5D%2C%20%5B38.85223%2C%20-121.944519%5D%2C%20%5B40.26073%2C%20-111.70541%5D%2C%20%5B40.70871%2C%20-74.230423%5D%2C%20%5B33.901245%2C%20-80.093117%5D%2C%20%5B29.469151%2C%20-98.569962%5D%2C%20%5B42.973068%2C%20-123.869698%5D%2C%20%5B34.708027%2C%20-118.796265%5D%2C%20%5B32.630695%2C%20-80.88215600000002%5D%2C%20%5B32.778671%2C%20-80.106071%5D%2C%20%5B31.55777%2C%20-85.545578%5D%2C%20%5B34.128809999999994%2C%20-118.34688%5D%2C%20%5B35.098440000000004%2C%20-80.990959%5D%2C%20%5B40.69463%2C%20-74.260933%5D%2C%20%5B30.849718%2C%20-86.641396%5D%2C%20%5B40.596218%2C%20-73.907227%5D%2C%20%5B38.503376%2C%20-122.909973%5D%2C%20%5B28.236307%2C%20-82.349869%5D%2C%20%5B42.103588%2C%20-71.068275%5D%2C%20%5B29.84989%2C%20-95.274078%5D%2C%20%5B38.579548%2C%20-77.323181%5D%2C%20%5B38.97669000000001%2C%20-77.07715%5D%2C%20%5B36.041954%2C%20-86.824821%5D%2C%20%5B31.790506%2C%20-106.302231%5D%2C%20%5B29.777656%2C%20-95.36814%5D%2C%20%5B42.06651%2C%20-88.144573%5D%2C%20%5B41.413725%2C%20-87.321342%5D%2C%20%5B40.80933%2C%20-74.181236%5D%2C%20%5B33.689396%2C%20-117.766838%5D%2C%20%5B38.942932%2C%20-94.705185%5D%2C%20%5B39.737901%2C%20-84.26825699999998%5D%2C%20%5B30.464170000000006%2C%20-97.66892%5D%2C%20%5B30.212452000000006%2C%20-97.712143%5D%2C%20%5B37.542901%2C%20-77.53845600000002%5D%2C%20%5B33.615238%2C%20-81.088112%5D%2C%20%5B38.869011%2C%20-94.799568%5D%2C%20%5B40.699841%2C%20-111.79533%5D%2C%20%5B40.233124%2C%20-111.683212%5D%2C%20%5B34.007935%2C%20-81.134827%5D%2C%20%5B38.270668%2C%20-122.667999%5D%2C%20%5B33.103268%2C%20-80.28566%5D%2C%20%5B35.99873%2C%20-86.796265%5D%2C%20%5B33.754379%2C%20-84.378365%5D%2C%20%5B28.450455%2C%20-81.427192%5D%2C%20%5B47.23096%2C%20-122.44308999999998%5D%2C%20%5B36.119122%2C%20-95.984978%5D%2C%20%5B33.8885%2C%20-117.88071399999998%5D%2C%20%5B43.16798%2C%20-75.23692%5D%2C%20%5B32.920906%2C%20-96.750961%5D%2C%20%5B37.92223%2C%20-122.06138%5D%2C%20%5B26.886345%2C%20-80.132657%5D%2C%20%5B39.77951%2C%20-104.79054%5D%2C%20%5B36.077133%2C%20-87.020485%5D%2C%20%5B30.291796%2C%20-92.091393%5D%2C%20%5B29.346090000000004%2C%20-98.552223%5D%2C%20%5B34.008526%2C%20-118.204899%5D%2C%20%5B43.877694%2C%20-123.01319%5D%2C%20%5B34.129578%2C%20-117.93428%5D%2C%20%5B40.496109%2C%20-82.22087900000002%5D%2C%20%5B29.938544%2C%20-90.113583%5D%2C%20%5B34.136377%2C%20-117.956331%5D%2C%20%5B30.06786%2C%20-95.257835%5D%2C%20%5B40.799252%2C%20-74.18903399999998%5D%2C%20%5B34.083206%2C%20-117.694479%5D%2C%20%5B33.6023%2C%20-117.68637%5D%2C%20%5B35.147628999999995%2C%20-89.81768000000002%5D%2C%20%5B29.774817%2C%20-95.186615%5D%2C%20%5B38.668259%2C%20-121.33658%5D%2C%20%5B37.716682%2C%20-120.44441299999998%5D%2C%20%5B36.665463%2C%20-121.549964%5D%2C%20%5B33.733356%2C%20-85.24296600000002%5D%2C%20%5B42.196272%2C%20-87.931234%5D%2C%20%5B42.410099%2C%20-87.854988%5D%2C%20%5B35.00994%2C%20-85.22023%5D%2C%20%5B44.858986%2C%20-93.328331%5D%2C%20%5B28.431713%2C%20-81.40470400000002%5D%2C%20%5B29.746241%2C%20-95.341751%5D%2C%20%5B42.080681%2C%20-88.335991%5D%2C%20%5B45.76316%2C%20-123.95567%5D%2C%20%5B36.773439%2C%20-121.603349%5D%2C%20%5B34.242065000000004%2C%20-118.426077%5D%2C%20%5B43.3109%2C%20-73.60766%5D%2C%20%5B33.624691%2C%20-84.474274%5D%2C%20%5B39.03886%2C%20-94.341225%5D%2C%20%5B47.624737%2C%20-122.334381%5D%2C%20%5B30.23225%2C%20-92.030022%5D%2C%20%5B44.901134000000006%2C%20-93.13607%5D%2C%20%5B42.960251%2C%20-83.652496%5D%2C%20%5B34.233181%2C%20-117.420189%5D%2C%20%5B37.69584%2C%20-121.92078%5D%2C%20%5B37.837944%2C%20-122.296692%5D%2C%20%5B26.547377%2C%20-81.786346%5D%2C%20%5B26.527572%2C%20-80.172461%5D%2C%20%5B44.0225%2C%20-92.74119%5D%2C%20%5B37.319016%2C%20-121.94043%5D%2C%20%5B34.242414000000004%2C%20-84.76605%5D%2C%20%5B34.020205%2C%20-117.81499%5D%2C%20%5B29.965405%2C%20-95.418861%5D%2C%20%5B38.004318%2C%20-122.04023%5D%2C%20%5B35.209055%2C%20-80.757341%5D%2C%20%5B37.518641%2C%20-120.88401100000002%5D%2C%20%5B34.049927000000004%2C%20-117.303955%5D%2C%20%5B34.227623%2C%20-118.410789%5D%2C%20%5B34.053740000000005%2C%20-84.54929%5D%2C%20%5B34.03001%2C%20-117.71237%5D%2C%20%5B36.84457%2C%20-76.2006%5D%2C%20%5B38.6571%2C%20-121.36417%5D%2C%20%5B30.239344%2C%20-92.013077%5D%2C%20%5B42.054581%2C%20-87.840347%5D%2C%20%5B47.337132%2C%20-116.668793%5D%2C%20%5B41.08586%2C%20-81.58128%5D%2C%20%5B33.669697%2C%20-117.823479%5D%2C%20%5B34.293327000000005%2C%20-81.54592099999998%5D%2C%20%5B34.036911%2C%20-81.090591%5D%2C%20%5B30.321785%2C%20-97.709946%5D%2C%20%5B44.672562%2C%20-93.633377%5D%2C%20%5B29.77041%2C%20-95.45594%5D%2C%20%5B34.15298%2C%20-118.36866%5D%2C%20%5B27.874578000000003%2C%20-82.66273100000002%5D%2C%20%5B47.4576%2C%20-122.26341%5D%2C%20%5B41.20528%2C%20-96.104904%5D%2C%20%5B40.087185%2C%20-74.97150400000002%5D%2C%20%5B26.61734%2C%20-80.17596999999998%5D%2C%20%5B44.9075%2C%20-122.96252%5D%2C%20%5B35.144866%2C%20-90.022562%5D%2C%20%5B39.147752%2C%20-76.693507%5D%2C%20%5B38.551693%2C%20-121.699516%5D%2C%20%5B43.145973%2C%20-77.567116%5D%2C%20%5B47.592621%2C%20-122.3218%5D%2C%20%5B35.405239%2C%20-97.530167%5D%2C%20%5B26.16696%2C%20-80.12610600000002%5D%2C%20%5B29.983399%2C%20-95.281447%5D%2C%20%5B45.287668%2C%20-121.182623%5D%2C%20%5B36.156528%2C%20-96.006996%5D%2C%20%5B32.880344%2C%20-96.74157%5D%2C%20%5B37.295212%2C%20-121.80998999999998%5D%2C%20%5B34.822659%2C%20-82.291275%5D%2C%20%5B30.48546%2C%20-91.108887%5D%2C%20%5B34.820159999999994%2C%20-82.414627%5D%2C%20%5B41.54%2C%20-73.04445%5D%2C%20%5B34.029226%2C%20-118.221227%5D%2C%20%5B37.595181%2C%20-122.058281%5D%2C%20%5B41.787876%2C%20-87.994446%5D%2C%20%5B36.104378%2C%20-95.877434%5D%2C%20%5B40.8227%2C%20-74.12556%5D%2C%20%5B43.033126%2C%20-83.637924%5D%2C%20%5B38.188141%2C%20-85.73230699999998%5D%2C%20%5B42.31399%2C%20-71.23177%5D%2C%20%5B34.833031%2C%20-82.296837%5D%2C%20%5B35.90417700000001%2C%20-78.88349699999998%5D%2C%20%5B26.287302%2C%20-80.12473299999998%5D%2C%20%5B34.720890000000004%2C%20-81.68203000000003%5D%2C%20%5B45.07930800000001%2C%20-122.042778%5D%2C%20%5B41.811466%2C%20-72.52079%5D%2C%20%5B41.819302%2C%20-71.389595%5D%2C%20%5B31.810129%2C%20-85.972153%5D%2C%20%5B32.820495%2C%20-96.633563%5D%2C%20%5B26.724806%2C%20-80.06662%5D%2C%20%5B37.752502%2C%20-122.40303%5D%2C%20%5B26.045149%2C%20-80.259697%5D%2C%20%5B35.42062%2C%20-97.353172%5D%2C%20%5B37.536621%2C%20-121.21357%5D%2C%20%5B40.727769%2C%20-112.02488%5D%2C%20%5B33.776878%2C%20-79.021149%5D%2C%20%5B38.010442%2C%20-121.328564%5D%2C%20%5B30.325958%2C%20-97.673538%5D%2C%20%5B38.557936%2C%20-121.385827%5D%2C%20%5B35.59465%2C%20-97.55379%5D%2C%20%5B34.120436%2C%20-118.271244%5D%2C%20%5B40.66921%2C%20-75.09964000000002%5D%2C%20%5B34.472401%2C%20-80.996643%5D%2C%20%5B36.018029%2C%20-86.61958800000002%5D%2C%20%5B43.414031%2C%20-84.24244300000002%5D%2C%20%5B40.73240300000001%2C%20-74.11789%5D%2C%20%5B37.80399%2C%20-122.30207%5D%2C%20%5B29.94382%2C%20-95.4155%5D%2C%20%5B38.935223%2C%20-76.917007%5D%2C%20%5B35.88280800000001%2C%20-78.570228%5D%2C%20%5B36.007655%2C%20-119.301781%5D%2C%20%5B43.52761%2C%20-121.639063%5D%2C%20%5B28.224249%2C%20-82.733727%5D%2C%20%5B25.835713%2C%20-80.206214%5D%2C%20%5B33.564978%2C%20-117.628813%5D%2C%20%5B28.525652%2C%20-82.28868100000003%5D%2C%20%5B34.054359000000005%2C%20-118.004349%5D%2C%20%5B32.70375%2C%20-96.66302%5D%2C%20%5B32.141312%2C%20-110.961632%5D%2C%20%5B33.98033%2C%20-117.36985%5D%2C%20%5B37.66964%2C%20-122.466217%5D%2C%20%5B47.38901%2C%20-122.61651299999998%5D%2C%20%5B41.759781%2C%20-72.675163%5D%2C%20%5B33.94052%2C%20-80.717999%5D%2C%20%5B30.39903%2C%20-91.09083%5D%2C%20%5B35.347916%2C%20-119.038738%5D%2C%20%5B28.75576%2C%20-81.362976%5D%2C%20%5B40.68689000000001%2C%20-73.614586%5D%2C%20%5B32.76817%2C%20-97.30274%5D%2C%20%5B35.568119%2C%20-120.700639%5D%2C%20%5B38.013554%2C%20-121.997269%5D%2C%20%5B32.877159000000006%2C%20-96.51828%5D%2C%20%5B30.222384%2C%20-97.838815%5D%2C%20%5B34.992329999999995%2C%20-117.541558%5D%2C%20%5B38.56403%2C%20-78.743181%5D%2C%20%5B33.75165%2C%20-84.37988%5D%2C%20%5B34.136205%2C%20-117.49456200000002%5D%2C%20%5B41.15641%2C%20-112.0246%5D%2C%20%5B45.03576%2C%20-92.80753%5D%2C%20%5B37.376347%2C%20-121.995842%5D%2C%20%5B36.13311%2C%20-86.767105%5D%2C%20%5B36.104458%2C%20-95.833183%5D%2C%20%5B39.58689%2C%20-107.19553%5D%2C%20%5B32.563129%2C%20-97.318771%5D%2C%20%5B43.06064%2C%20-76.06663%5D%2C%20%5B44.543961%2C%20-94.295074%5D%2C%20%5B33.912987%2C%20-118.10498%5D%2C%20%5B41.103008%2C%20-73.432983%5D%2C%20%5B34.05125%2C%20-118.00588%5D%2C%20%5B37.42211500000001%2C%20-77.437714%5D%2C%20%5B33.089844%2C%20-87.676125%5D%2C%20%5B32.703014%2C%20-96.746925%5D%2C%20%5B41.371501%2C%20-73.801019%5D%2C%20%5B29.705622%2C%20-95.476273%5D%2C%20%5B42.326199%2C%20-83.057869%5D%2C%20%5B41.48647%2C%20-81.5651%5D%2C%20%5B34.897934%2C%20-82.165924%5D%2C%20%5B39.699249%2C%20-105.204659%5D%2C%20%5B42.899151%2C%20-71.3377%5D%2C%20%5B39.3092%2C%20-76.66391%5D%2C%20%5B30.561112%2C%20-83.870153%5D%2C%20%5B39.9177%2C%20-86.26980999999998%5D%2C%20%5B37.792629%2C%20-121.189903%5D%2C%20%5B32.9023%2C%20-96.98577%5D%2C%20%5B39.390301%2C%20-77.409401%5D%2C%20%5B39.906181%2C%20-86.04471600000002%5D%2C%20%5B33.144516%2C%20-80.413841%5D%2C%20%5B43.20317100000001%2C%20-75.449501%5D%2C%20%5B34.555569%2C%20-82.68135799999997%5D%2C%20%5B39.00245%2C%20-76.96531%5D%2C%20%5B38.474407%2C%20-121.419067%5D%2C%20%5B35.72943%2C%20-78.43885999999998%5D%2C%20%5B35.104828000000005%2C%20-106.601608%5D%2C%20%5B34.06848%2C%20-117.38276%5D%2C%20%5B42.974152%2C%20-83.687531%5D%2C%20%5B34.320664%2C%20-118.495922%5D%2C%20%5B34.939262%2C%20-82.07539399999997%5D%2C%20%5B33.968841999999995%2C%20-117.328293%5D%2C%20%5B39.15641%2C%20-84.629478%5D%2C%20%5B37.164341%2C%20-121.990097%5D%2C%20%5B46.254061%2C%20-106.707104%5D%2C%20%5B39.738365%2C%20-104.95417%5D%2C%20%5B45.57358%2C%20-93.30946%5D%2C%20%5B38.550306%2C%20-121.473874%5D%2C%20%5B34.266087%2C%20-118.47226%5D%2C%20%5B25.685223%2C%20-80.417573%5D%2C%20%5B41.178312%2C%20-76.859937%5D%2C%20%5B35.08639%2C%20-80.99234%5D%2C%20%5B28.456104%2C%20-82.539299%5D%2C%20%5B34.135459999999995%2C%20-117.96663%5D%2C%20%5B35.135525%2C%20-80.891853%5D%2C%20%5B39.20619600000001%2C%20-76.61425799999998%5D%2C%20%5B38.532887%2C%20-90.311752%5D%2C%20%5B28.607540000000004%2C%20-81.293083%5D%2C%20%5B42.96566%2C%20-85.7036%5D%2C%20%5B26.16219%2C%20-80.16230999999998%5D%2C%20%5B32.633057%2C%20-85.370064%5D%2C%20%5B37.548049%2C%20-77.46641899999999%5D%2C%20%5B28.45896%2C%20-80.82155%5D%2C%20%5B25.945781%2C%20-80.19711600000002%5D%2C%20%5B38.97695%2C%20-77.67478%5D%2C%20%5B34.88686%2C%20-86.569122%5D%2C%20%5B34.10654%2C%20-118.25581%5D%2C%20%5B35.033592%2C%20-80.805527%5D%2C%20%5B39.97325%2C%20-86.39851999999998%5D%2C%20%5B37.7014%2C%20-121.87685%5D%2C%20%5B42.591515%2C%20-83.740142%5D%2C%20%5B38.653981%2C%20-121.369042%5D%2C%20%5B37.217221%2C%20-113.633065%5D%2C%20%5B30.417179%2C%20-91.144867%5D%2C%20%5B37.25516500000001%2C%20-121.956449%5D%2C%20%5B38.27203400000001%2C%20-122.670059%5D%2C%20%5B33.742222%2C%20-117.281708%5D%2C%20%5B38.920766%2C%20-77.216921%5D%2C%20%5B39.951383%2C%20-76.747906%5D%2C%20%5B34.8866%2C%20-82.067825%5D%2C%20%5B35.79296%2C%20-78.5848%5D%2C%20%5B42.039742%2C%20-88.31189%5D%2C%20%5B32.14131%2C%20-110.95623%5D%2C%20%5B33.293191%2C%20-117.149403%5D%2C%20%5B38.991215%2C%20-77.157501%5D%2C%20%5B33.090816%2C%20-96.681412%5D%2C%20%5B32.3608%2C%20-86.17488%5D%2C%20%5B38.547545%2C%20-90.166758%5D%2C%20%5B43.64725%2C%20-121.52275%5D%2C%20%5B38.942518%2C%20-76.7178%5D%2C%20%5B34.751304%2C%20-82.289144%5D%2C%20%5B45.43261%2C%20-122.35187%5D%2C%20%5B33.523743%2C%20-112.043625%5D%2C%20%5B38.928539%2C%20-76.927181%5D%2C%20%5B42.973503%2C%20-83.7257%5D%2C%20%5B42.15494%2C%20-88.027884%5D%2C%20%5B33.459323%2C%20-112.510567%5D%2C%20%5B33.4621%2C%20-112.151416%5D%2C%20%5B38.87939%2C%20-94.67622%5D%2C%20%5B40.73324%2C%20-73.86713%5D%2C%20%5B42.79902%2C%20-73.93553%5D%2C%20%5B41.190815%2C%20-96.08139%5D%2C%20%5B34.118567%2C%20-117.865458%5D%2C%20%5B32.34491%2C%20-93.802261%5D%2C%20%5B34.13658%2C%20-117.48061%5D%2C%20%5B39.196525%2C%20-123.044251%5D%2C%20%5B45.08075%2C%20-93.4466%5D%2C%20%5B38.64378%2C%20-121.36514%5D%2C%20%5B27.878462%2C%20-82.659134%5D%2C%20%5B28.56529%2C%20-81.182358%5D%2C%20%5B39.600317%2C%20-77.729726%5D%2C%20%5B39.19355%2C%20-77.26032%5D%2C%20%5B36.123608%2C%20-119.049597%5D%2C%20%5B34.988609000000004%2C%20-81.98204799999998%5D%2C%20%5B41.787617%2C%20-72.65770699999999%5D%2C%20%5B27.96976%2C%20-82.5391%5D%2C%20%5B37.6894%2C%20-122.105203%5D%2C%20%5B40.875687%2C%20-74.168037%5D%2C%20%5B28.281021000000006%2C%20-82.204326%5D%2C%20%5B39.095696%2C%20-121.543153%5D%2C%20%5B41.74924%2C%20-87.97455%5D%2C%20%5B38.986048%2C%20-76.982876%5D%2C%20%5B32.722935%2C%20-117.162631%5D%2C%20%5B33.92558%2C%20-117.422857%5D%2C%20%5B33.524525%2C%20-86.663933%5D%2C%20%5B28.47242%2C%20-81.409103%5D%2C%20%5B40.356461%2C%20-111.573601%5D%2C%20%5B37.536066%2C%20-77.426029%5D%2C%20%5B33.950554%2C%20-118.23288%5D%2C%20%5B43.66529%2C%20-123.36023%5D%2C%20%5B26.092373%2C%20-80.216888%5D%2C%20%5B30.255740000000007%2C%20-81.60115%5D%2C%20%5B33.988968%2C%20-118.354095%5D%2C%20%5B40.072803%2C%20-75.307304%5D%2C%20%5B42.568182%2C%20-84.90144699999998%5D%2C%20%5B34.893871000000004%2C%20-82.08242800000002%5D%2C%20%5B34.37794%2C%20-118.49398%5D%2C%20%5B42.045277%2C%20-124.253648%5D%2C%20%5B29.931772%2C%20-95.402145%5D%2C%20%5B33.97173%2C%20-117.331191%5D%2C%20%5B29.789183%2C%20-95.544586%5D%2C%20%5B41.714138%2C%20-72.59082%5D%2C%20%5B40.085243%2C%20-76.213081%5D%2C%20%5B30.481890000000003%2C%20-91.096153%5D%2C%20%5B40.987644%2C%20-73.66999100000002%5D%2C%20%5B41.706936%2C%20-72.64520300000002%5D%2C%20%5B34.103981%2C%20-118.19091%5D%2C%20%5B33.837825%2C%20-117.87621%5D%2C%20%5B29.720051%2C%20-95.484848%5D%2C%20%5B38.795009%2C%20-90.568488%5D%2C%20%5B43.12359%2C%20-75.58574%5D%2C%20%5B40.88447%2C%20-121.658%5D%2C%20%5B37.78617%2C%20-122.19492%5D%2C%20%5B41.91964%2C%20-87.67369000000002%5D%2C%20%5B40.002552%2C%20-83.11835500000002%5D%2C%20%5B40.069153%2C%20-76.307769%5D%2C%20%5B38.589717%2C%20-77.756135%5D%2C%20%5B32.243451%2C%20-110.876619%5D%2C%20%5B42.77328%2C%20-71.49288%5D%2C%20%5B28.532406%2C%20-81.52511%5D%2C%20%5B41.117317%2C%20-88.413841%5D%2C%20%5B29.737036%2C%20-95.557755%5D%2C%20%5B25.979709%2C%20-80.350828%5D%2C%20%5B41.188572%2C%20-96.158325%5D%2C%20%5B35.058890000000005%2C%20-80.76980999999998%5D%2C%20%5B35.082756%2C%20-85.058533%5D%2C%20%5B33.866246000000004%2C%20-117.716757%5D%2C%20%5B37.52166%2C%20-77.43433%5D%2C%20%5B34.50581%2C%20-82.96416500000002%5D%2C%20%5B25.867466%2C%20-80.340604%5D%2C%20%5B45.60114%2C%20-94.38925%5D%2C%20%5B33.74258%2C%20-117.83351100000002%5D%2C%20%5B38.94697%2C%20-104.80215%5D%2C%20%5B32.92455%2C%20-96.78246%5D%2C%20%5B34.175253000000005%2C%20-80.975753%5D%2C%20%5B39.847031%2C%20-75.387505%5D%2C%20%5B38.603481%2C%20-121.404922%5D%2C%20%5B32.681801%2C%20-96.744324%5D%2C%20%5B48.186691%2C%20-114.333145%5D%2C%20%5B38.82872%2C%20-77.21907%5D%2C%20%5B34.003586%2C%20-84.336052%5D%2C%20%5B37.534782%2C%20-77.27679499999998%5D%2C%20%5B30.08721%2C%20-90.43658%5D%2C%20%5B40.92218%2C%20-77.034767%5D%2C%20%5B36.038567%2C%20-86.647499%5D%2C%20%5B37.52452%2C%20-121.99205%5D%2C%20%5B33.56757%2C%20-112.091248%5D%2C%20%5B41.84799%2C%20-87.61623%5D%2C%20%5B29.76732%2C%20-95.26535%5D%2C%20%5B33.88861%2C%20-118.35795%5D%2C%20%5B39.950039%2C%20-76.695419%5D%2C%20%5B33.893211%2C%20-118.265312%5D%2C%20%5B39.000408%2C%20-77.40168800000002%5D%2C%20%5B34.151711%2C%20-118.678383%5D%2C%20%5B45.527142%2C%20-122.60751299999998%5D%2C%20%5B41.79542%2C%20-88.33318%5D%2C%20%5B30.26712%2C%20-97.743172%5D%2C%20%5B30.389596%2C%20-87.06766800000003%5D%2C%20%5B34.159695%2C%20-118.466286%5D%2C%20%5B29.725361%2C%20-95.539108%5D%2C%20%5B29.721189000000006%2C%20-95.520309%5D%2C%20%5B47.54479%2C%20-122.33101%5D%2C%20%5B26.4579%2C%20-80.11428000000002%5D%2C%20%5B38.865594%2C%20-77.32769499999998%5D%2C%20%5B25.444197%2C%20-80.475002%5D%2C%20%5B47.649811%2C%20-122.13681%5D%2C%20%5B39.78434%2C%20-105.025243%5D%2C%20%5B33.103614%2C%20-117.128081%5D%2C%20%5B42.22869%2C%20-83.41986%5D%2C%20%5B43.8717%2C%20-121.40181%5D%2C%20%5B40.845345%2C%20-73.91350600000001%5D%2C%20%5B33.961693%2C%20-84.519745%5D%2C%20%5B39.867674%2C%20-75.34348299999998%5D%2C%20%5B36.9233%2C%20-119.978975%5D%2C%20%5B40.484921%2C%20-79.97193100000001%5D%2C%20%5B35.073904%2C%20-85.18271%5D%2C%20%5B41.983082%2C%20-88.031448%5D%2C%20%5B39.943607%2C%20-75.19381700000002%5D%2C%20%5B30.223515000000006%2C%20-97.747688%5D%2C%20%5B30.432637%2C%20-89.093554%5D%2C%20%5B34.935482%2C%20-82.004921%5D%2C%20%5B29.700703000000004%2C%20-95.377075%5D%2C%20%5B31.85417%2C%20-85.996643%5D%2C%20%5B39.27751%2C%20-76.57236999999998%5D%2C%20%5B45.29763%2C%20-93.79387%5D%2C%20%5B38.293579%2C%20-112.650791%5D%2C%20%5B47.646839%2C%20-122.349724%5D%2C%20%5B45.2855%2C%20-122.76949%5D%2C%20%5B43.033031%2C%20-83.615433%5D%2C%20%5B45.03557%2C%20-92.88346%5D%2C%20%5B43.822351%2C%20-120.634567%5D%2C%20%5B37.47760200000001%2C%20-122.222625%5D%2C%20%5B37.161038%2C%20-121.698383%5D%2C%20%5B34.159245%2C%20-118.460143%5D%2C%20%5B28.51726%2C%20-81.630013%5D%2C%20%5B25.627116%2C%20-80.3418%5D%2C%20%5B34.135459999999995%2C%20-117.96663%5D%2C%20%5B38.908779%2C%20-75.816849%5D%2C%20%5B35.184235%2C%20-106.738144%5D%2C%20%5B26.7108%2C%20-80.07975%5D%2C%20%5B42.490555%2C%20-83.116127%5D%2C%20%5B33.513185%2C%20-112.116971%5D%2C%20%5B34.087194000000004%2C%20-117.664329%5D%2C%20%5B36.96673%2C%20-76.294566%5D%2C%20%5B38.57351%2C%20-121.58174%5D%2C%20%5B33.81001%2C%20-117.80088%5D%2C%20%5B43.223658%2C%20-117.051398%5D%2C%20%5B43.213524%2C%20-88.147812%5D%2C%20%5B41.81673%2C%20-87.925285%5D%2C%20%5B33.016454%2C%20-117.111281%5D%2C%20%5B42.887341%2C%20-83.599113%5D%2C%20%5B42.25046500000001%2C%20-73.884209%5D%2C%20%5B41.844293%2C%20-87.654326%5D%2C%20%5B40.845097%2C%20-73.91892299999998%5D%2C%20%5B32.705447%2C%20-97.32052%5D%2C%20%5B32.20633%2C%20-110.78654%5D%2C%20%5B33.913244%2C%20-118.140574%5D%2C%20%5B38.433296%2C%20-122.722633%5D%2C%20%5B36.768579%2C%20-76.469266%5D%2C%20%5B35.018646000000004%2C%20-85.383507%5D%2C%20%5B30.382126%2C%20-86.359024%5D%2C%20%5B39.327285%2C%20-76.52481999999998%5D%2C%20%5B27.284118%2C%20-82.49637%5D%2C%20%5B45.53017%2C%20-122.68684%5D%2C%20%5B40.54438%2C%20-74.31121800000003%5D%2C%20%5B35.966869%2C%20-78.490486%5D%2C%20%5B33.462151%2C%20-112.065102%5D%2C%20%5B45.915888%2C%20-119.133564%5D%2C%20%5B39.78254%2C%20-86.14619%5D%2C%20%5B39.183708%2C%20-84.483673%5D%2C%20%5B33.80719000000001%2C%20-84.37983%5D%2C%20%5B35.72501%2C%20-78.581284%5D%2C%20%5B33.656479%2C%20-84.497551%5D%2C%20%5B39.465957%2C%20-121.577074%5D%2C%20%5B26.138599%2C%20-80.14523299999998%5D%2C%20%5B38.761328000000006%2C%20-81.699337%5D%2C%20%5B33.813084%2C%20-118.298203%5D%2C%20%5B38.97892%2C%20-76.321823%5D%2C%20%5B36.70341%2C%20-119.78597%5D%2C%20%5B34.481821999999994%2C%20-118.388225%5D%2C%20%5B32.699907%2C%20-96.649907%5D%2C%20%5B36.882561%2C%20-121.56166100000002%5D%2C%20%5B40.475596%2C%20-111.976937%5D%2C%20%5B33.77577%2C%20-117.853201%5D%2C%20%5B29.420774%2C%20-98.527885%5D%2C%20%5B37.538427%2C%20-121.927224%5D%2C%20%5B40.706057%2C%20-73.818438%5D%2C%20%5B26.226736%2C%20-80.13628299999998%5D%2C%20%5B42.66502%2C%20-71.146141%5D%2C%20%5B44.308033%2C%20-122.018533%5D%2C%20%5B34.067439%2C%20-117.580403%5D%2C%20%5B42.944626%2C%20-83.650566%5D%2C%20%5B42.48975%2C%20-83.28475999999998%5D%2C%20%5B32.235989000000004%2C%20-110.980621%5D%2C%20%5B47.68149%2C%20-122.32079%5D%2C%20%5B28.68707%2C%20-82.55258%5D%2C%20%5B30.443613%2C%20-91.178818%5D%2C%20%5B45.035501%2C%20-93.085194%5D%2C%20%5B37.84687%2C%20-122.298286%5D%2C%20%5B25.622724%2C%20-80.37903399999998%5D%2C%20%5B39.001984%2C%20-76.894196%5D%2C%20%5B37.02061%2C%20-104.49141%5D%2C%20%5B30.434151%2C%20-97.770142%5D%2C%20%5B33.912777%2C%20-118.265289%5D%2C%20%5B33.77828%2C%20-117.86037%5D%2C%20%5B29.666244%2C%20-98.165773%5D%2C%20%5B33.78357800000001%2C%20-78.990709%5D%2C%20%5B34.794459%2C%20-92.439415%5D%2C%20%5B40.73478%2C%20-73.83639000000002%5D%2C%20%5B34.012505%2C%20-118.163513%5D%2C%20%5B41.86514%2C%20-71.4303%5D%2C%20%5B37.892895%2C%20-122.125008%5D%2C%20%5B33.771362%2C%20-84.49584200000002%5D%2C%20%5B33.820692%2C%20-84.166656%5D%2C%20%5B34.857334%2C%20-82.586601%5D%2C%20%5B37.96063%2C%20-122.50954%5D%2C%20%5B45.53922%2C%20-122.67044%5D%2C%20%5B35.872986%2C%20-78.679565%5D%2C%20%5B29.73988%2C%20-95.375862%5D%2C%20%5B34.0488%2C%20-117.80155%5D%2C%20%5B39.049047%2C%20-76.93158000000003%5D%2C%20%5B33.75806%2C%20-84.378563%5D%2C%20%5B32.782366%2C%20-96.725188%5D%2C%20%5B45.039829%2C%20-122.728995%5D%2C%20%5B37.13443%2C%20-80.35946%5D%2C%20%5B38.492305%2C%20-121.79981399999998%5D%2C%20%5B33.88154%2C%20-84.27086%5D%2C%20%5B37.321326%2C%20-121.834496%5D%2C%20%5B43.818022%2C%20-123.036389%5D%2C%20%5B43.17395%2C%20-77.63943499999998%5D%2C%20%5B33.933437%2C%20-117.409317%5D%2C%20%5B38.903102%2C%20-94.373464%5D%2C%20%5B38.38919%2C%20-75.622625%5D%2C%20%5B37.33394600000001%2C%20-122.049141%5D%2C%20%5B33.950996%2C%20-80.38718399999998%5D%2C%20%5B41.93947%2C%20-87.70834%5D%2C%20%5B33.743233000000004%2C%20-84.366837%5D%2C%20%5B40.17833%2C%20-75.19511999999997%5D%2C%20%5B41.444458%2C%20-81.58078%5D%2C%20%5B35.16263%2C%20-80.91575%5D%2C%20%5B39.733242%2C%20-75.658974%5D%2C%20%5B47.626503%2C%20-122.328613%5D%2C%20%5B39.2617%2C%20-76.67279%5D%2C%20%5B34.159245%2C%20-118.460143%5D%2C%20%5B35.851437%2C%20-78.58635699999998%5D%2C%20%5B41.109863%2C%20-73.80143699999998%5D%2C%20%5B30.36186%2C%20-97.72934%5D%2C%20%5B39.84903%2C%20-105.0248%5D%2C%20%5B41.83617%2C%20-71.415436%5D%2C%20%5B30.437217%2C%20-87.245864%5D%2C%20%5B37.877659%2C%20-120.448509%5D%2C%20%5B41.214379%2C%20-74.18209399999998%5D%2C%20%5B40.64019%2C%20-111.903182%5D%2C%20%5B34.894451000000004%2C%20-82.35591099999998%5D%2C%20%5B34.14505%2C%20-117.2734%5D%2C%20%5B30.369478000000004%2C%20-97.741857%5D%2C%20%5B33.420872%2C%20-112.409447%5D%2C%20%5B43.167988%2C%20-83.524612%5D%2C%20%5B42.780788%2C%20-83.533485%5D%2C%20%5B47.67298%2C%20-117.286976%5D%2C%20%5B41.85852%2C%20-88.12248000000002%5D%2C%20%5B30.329534%2C%20-82.963323%5D%2C%20%5B33.809169%2C%20-118.288089%5D%2C%20%5B44.19115%2C%20-94.00193%5D%2C%20%5B33.994209000000005%2C%20-117.359077%5D%2C%20%5B37.729293%2C%20-122.138475%5D%2C%20%5B38.178429%2C%20-85.72075699999998%5D%2C%20%5B30.352357%2C%20-97.678514%5D%2C%20%5B35.075459%2C%20-106.604568%5D%2C%20%5B30.469586%2C%20-91.126589%5D%2C%20%5B29.960016%2C%20-90.076954%5D%2C%20%5B34.279598%2C%20-79.68498199999998%5D%2C%20%5B30.339764%2C%20-81.667996%5D%2C%20%5B28.61021%2C%20-81.28486%5D%2C%20%5B39.35732%2C%20-76.6499%5D%2C%20%5B30.45556%2C%20-81.63494%5D%2C%20%5B42.502293%2C%20-71.118759%5D%2C%20%5B47.686871%2C%20-122.376808%5D%2C%20%5B28.605906%2C%20-81.381111%5D%2C%20%5B39.395916%2C%20-76.688255%5D%2C%20%5B26.56451%2C%20-81.868088%5D%2C%20%5B41.644499%2C%20-93.575527%5D%2C%20%5B36.22298%2C%20-115.12028%5D%2C%20%5B25.785839000000006%2C%20-80.262939%5D%2C%20%5B43.099339%2C%20-75.24430799999998%5D%2C%20%5B32.679024%2C%20-96.67588%5D%2C%20%5B35.38130200000001%2C%20-97.503685%5D%2C%20%5B33.726746%2C%20-84.32383399999998%5D%2C%20%5B38.706684%2C%20-77.20443%5D%2C%20%5B39.911674%2C%20-86.21721600000002%5D%2C%20%5B41.63287%2C%20-90.866646%5D%2C%20%5B37.16805%2C%20-80.41611%5D%2C%20%5B34.226582%2C%20-118.384822%5D%2C%20%5B37.62597%2C%20-77.55046999999998%5D%2C%20%5B41.80432%2C%20-88.19724000000002%5D%2C%20%5B33.540015999999994%2C%20-81.991776%5D%2C%20%5B40.601067%2C%20-75.556719%5D%2C%20%5B38.761993%2C%20-78.63369%5D%2C%20%5B42.429897%2C%20-124.413773%5D%2C%20%5B37.71928%2C%20-122.176796%5D%2C%20%5B32.71321%2C%20-98.44238%5D%2C%20%5B35.202499%2C%20-80.725975%5D%2C%20%5B36.038429%2C%20-86.71299%5D%2C%20%5B40.24734%2C%20-75.53425%5D%2C%20%5B39.26636%2C%20-77.04244%5D%2C%20%5B33.885525%2C%20-78.598122%5D%2C%20%5B33.982784%2C%20-117.866943%5D%2C%20%5B28.45014%2C%20-81.43791%5D%2C%20%5B42.1903%2C%20-88.10172%5D%2C%20%5B37.064957%2C%20-121.586777%5D%2C%20%5B38.171883%2C%20-122.19677%5D%2C%20%5B33.790054%2C%20-118.207893%5D%2C%20%5B33.886496%2C%20-81.166048%5D%2C%20%5B41.891289%2C%20-80.410573%5D%2C%20%5B35.580017%2C%20-97.44239%5D%2C%20%5B33.936508%2C%20-84.159424%5D%2C%20%5B32.947212%2C%20-80.202766%5D%2C%20%5B45.463298%2C%20-123.783791%5D%2C%20%5B38.792934%2C%20-77.180084%5D%2C%20%5B40.34281%2C%20-79.49553%5D%2C%20%5B33.933601%2C%20-86.495628%5D%2C%20%5B33.959395%2C%20-117.548992%5D%2C%20%5B30.450768%2C%20-91.138885%5D%2C%20%5B38.00952%2C%20-122.02263%5D%2C%20%5B28.528032%2C%20-81.47420100000002%5D%2C%20%5B40.373943%2C%20-104.991076%5D%2C%20%5B42.67772%2C%20-73.7647%5D%2C%20%5B40.428673%2C%20-79.931641%5D%2C%20%5B38.572239%2C%20-121.481812%5D%2C%20%5B33.651806%2C%20-117.760872%5D%2C%20%5B42.089359%2C%20-70.910637%5D%2C%20%5B35.50779%2C%20-97.601189%5D%2C%20%5B37.176456%2C%20-113.30056%5D%2C%20%5B39.148895%2C%20-77.216576%5D%2C%20%5B41.760918%2C%20-87.944824%5D%2C%20%5B33.910236%2C%20-84.364204%5D%2C%20%5B35.138119%2C%20-80.90826899999998%5D%2C%20%5B38.61393%2C%20-90.22478%5D%2C%20%5B35.3785%2C%20-119.04455%5D%2C%20%5B33.74687%2C%20-84.38741999999998%5D%2C%20%5B28.404345000000006%2C%20-81.575951%5D%2C%20%5B26.54603%2C%20-81.886696%5D%2C%20%5B35.154289%2C%20-80.97006999999998%5D%2C%20%5B42.99319000000001%2C%20-83.6536%5D%2C%20%5B28.556686%2C%20-81.167946%5D%2C%20%5B41.237278%2C%20-73.179611%5D%2C%20%5B34.859982%2C%20-82.46194399999997%5D%2C%20%5B40.207828000000006%2C%20-122.256316%5D%2C%20%5B41.311424%2C%20-72.914215%5D%2C%20%5B32.597488%2C%20-94.013962%5D%2C%20%5B34.091908000000004%2C%20-117.991346%5D%2C%20%5B34.132771000000005%2C%20-117.951417%5D%2C%20%5B39.115069%2C%20-121.54753999999998%5D%2C%20%5B43.355591%2C%20-83.866394%5D%2C%20%5B41.78907%2C%20-71.41957099999998%5D%2C%20%5B35.656643%2C%20-78.322365%5D%2C%20%5B35.199877%2C%20-80.813076%5D%2C%20%5B39.858089%2C%20-82.827904%5D%2C%20%5B33.172212%2C%20-117.3475%5D%2C%20%5B30.02933%2C%20-95.42918%5D%2C%20%5B32.774136%2C%20-117.207824%5D%2C%20%5B31.19479%2C%20-85.375679%5D%2C%20%5B32.712826%2C%20-96.704865%5D%2C%20%5B39.49482%2C%20-76.667137%5D%2C%20%5B41.663259%2C%20-74.13988%5D%2C%20%5B38.948887%2C%20-77.429482%5D%2C%20%5B29.718296%2C%20-95.497393%5D%2C%20%5B42.16773%2C%20-87.92178%5D%2C%20%5B33.669179%2C%20-112.058604%5D%2C%20%5B34.005720000000004%2C%20-117.96019%5D%2C%20%5B38.27632%2C%20-122.047369%5D%2C%20%5B37.596745%2C%20-121.861305%5D%2C%20%5B35.383495%2C%20-119.154366%5D%2C%20%5B38.041013%2C%20-78.73535600000002%5D%2C%20%5B32.794521%2C%20-96.722527%5D%2C%20%5B41.718044%2C%20-72.56734499999997%5D%2C%20%5B41.095577%2C%20-73.936325%5D%2C%20%5B40.52692800000001%2C%20-111.89101399999998%5D%2C%20%5B39.116085%2C%20-77.733154%5D%2C%20%5B33.655532%2C%20-117.864621%5D%2C%20%5B34.006962%2C%20-117.964226%5D%2C%20%5B34.32808%2C%20-78.92624%5D%2C%20%5B33.993369%2C%20-118.403666%5D%2C%20%5B38.661774%2C%20-77.246948%5D%2C%20%5B34.069109999999995%2C%20-117.60705%5D%2C%20%5B34.17563%2C%20-113.02677%5D%2C%20%5B32.860939%2C%20-96.770409%5D%2C%20%5B38.727764%2C%20-120.738174%5D%2C%20%5B30.267090000000003%2C%20-97.739342%5D%2C%20%5B40.691647%2C%20-73.999306%5D%2C%20%5B33.895198%2C%20-118.265284%5D%2C%20%5B47.44938%2C%20-122.21541%5D%2C%20%5B45.620019%2C%20-123.20976%5D%2C%20%5B36.217052%2C%20-86.69619%5D%2C%20%5B36.13924%2C%20-95.840042%5D%2C%20%5B45.191623%2C%20-122.839117%5D%2C%20%5B38.57557%2C%20-77.801691%5D%2C%20%5B33.928259999999995%2C%20-118.28576%5D%2C%20%5B47.643505%2C%20-122.308311%5D%2C%20%5B37.600826%2C%20-122.0623%5D%2C%20%5B36.84439%2C%20-76.026647%5D%2C%20%5B33.869783%2C%20-118.284839%5D%2C%20%5B41.59058%2C%20-90.675674%5D%2C%20%5B35.21874000000001%2C%20-80.83731%5D%2C%20%5B45.601179%2C%20-121.176138%5D%2C%20%5B35.179111%2C%20-81.414635%5D%2C%20%5B34.06357%2C%20-117.81027%5D%2C%20%5B39.9537%2C%20-82.9922%5D%2C%20%5B30.456015%2C%20-97.666321%5D%2C%20%5B33.87278%2C%20-118.34199%5D%2C%20%5B39.746197%2C%20-86.00872%5D%2C%20%5B39.18742%2C%20-94.5168%5D%2C%20%5B34.03471%2C%20-118.36733999999998%5D%2C%20%5B45.67364%2C%20-120.828491%5D%2C%20%5B32.776283%2C%20-96.785652%5D%2C%20%5B39.635513%2C%20-86.126785%5D%2C%20%5B38.416264%2C%20-121.897232%5D%2C%20%5B34.25972%2C%20-118.43807%5D%2C%20%5B40.78167%2C%20-73.64947%5D%2C%20%5B33.974682%2C%20-118.243309%5D%2C%20%5B47.612019%2C%20-122.329102%5D%2C%20%5B40.093071%2C%20-75.4039%5D%2C%20%5B32.96464%2C%20-96.91727%5D%2C%20%5B25.722942%2C%20-80.362709%5D%2C%20%5B42.343227%2C%20-83.216042%5D%2C%20%5B25.61882%2C%20-80.416954%5D%2C%20%5B42.974606%2C%20-85.67782199999998%5D%2C%20%5B48.44616%2C%20-122.43864%5D%2C%20%5B40.643074%2C%20-74.652702%5D%2C%20%5B34.371971%2C%20-118.500412%5D%2C%20%5B27.080111%2C%20-82.424887%5D%2C%20%5B33.834747%2C%20-84.203714%5D%2C%20%5B27.963737%2C%20-82.676506%5D%2C%20%5B40.77519%2C%20-74.05929%5D%2C%20%5B34.033051%2C%20-118.130013%5D%2C%20%5B32.83958%2C%20-96.8147%5D%2C%20%5B29.827326%2C%20-95.410614%5D%2C%20%5B42.036453%2C%20-88.287262%5D%2C%20%5B38.244927%2C%20-122.290193%5D%2C%20%5B42.57125900000001%2C%20-82.858597%5D%2C%20%5B42.869991%2C%20-73.820503%5D%2C%20%5B39.98399000000001%2C%20-75.208159%5D%2C%20%5B35.35961500000001%2C%20-119.039579%5D%2C%20%5B29.674287%2C%20-95.570327%5D%2C%20%5B40.913725%2C%20-122.389278%5D%2C%20%5B45.749302%2C%20-108.535675%5D%2C%20%5B35.223328%2C%20-80.86688199999998%5D%2C%20%5B41.651611%2C%20-93.755859%5D%2C%20%5B43.9553%2C%20-92.26052%5D%2C%20%5B30.506856%2C%20-91.126343%5D%2C%20%5B33.743214%2C%20-84.3778%5D%2C%20%5B39.77673%2C%20-104.87621%5D%2C%20%5B39.68518%2C%20-86.32944%5D%2C%20%5B39.20048%2C%20-94.49256%5D%2C%20%5B37.714895%2C%20-121.561671%5D%2C%20%5B43.83755%2C%20-121.4222%5D%2C%20%5B41.709381%2C%20-112.278214%5D%2C%20%5B36.04129%2C%20-79.83357%5D%2C%20%5B25.769483%2C%20-80.33749399999998%5D%2C%20%5B34.148125%2C%20-118.033203%5D%2C%20%5B33.578144%2C%20-84.278099%5D%2C%20%5B27.771216%2C%20-82.63552299999998%5D%2C%20%5B47.647327%2C%20-117.414284%5D%2C%20%5B36.885441%2C%20-76.281311%5D%2C%20%5B29.662863%2C%20-95.531708%5D%2C%20%5B34.622108000000004%2C%20-80.684883%5D%2C%20%5B34.1413%2C%20-117.24369%5D%2C%20%5B37.52206%2C%20-77.44019%5D%2C%20%5B28.45142%2C%20-81.36381%5D%2C%20%5B35.10195%2C%20-81.04008%5D%2C%20%5B34.075214%2C%20-118.232353%5D%2C%20%5B41.375317%2C%20-95.676605%5D%2C%20%5B41.769535%2C%20-72.668213%5D%2C%20%5B27.93757%2C%20-82.12136%5D%2C%20%5B47.575562%2C%20-122.377022%5D%2C%20%5B34.77158%2C%20-82.345322%5D%2C%20%5B38.875611%2C%20-77.280222%5D%2C%20%5B25.990566%2C%20-80.165848%5D%2C%20%5B26.546155%2C%20-81.881676%5D%2C%20%5B34.265246999999995%2C%20-118.472275%5D%2C%20%5B34.05581%2C%20-84.17433199999998%5D%2C%20%5B32.965244%2C%20-96.76886%5D%2C%20%5B45.632897%2C%20-121.098255%5D%2C%20%5B42.753029%2C%20-73.76899%5D%2C%20%5B45.06479%2C%20-93.20215%5D%2C%20%5B43.709745%2C%20-122.29537%5D%2C%20%5B36.333968%2C%20-119.475418%5D%2C%20%5B37.29049000000001%2C%20-121.871134%5D%2C%20%5B33.897%2C%20-118.10505%5D%2C%20%5B38.212319%2C%20-84.53302%5D%2C%20%5B34.06842%2C%20-117.97419%5D%2C%20%5B32.914955%2C%20-117.230917%5D%2C%20%5B45.126389%2C%20-93.484856%5D%2C%20%5B35.13496%2C%20-89.898361%5D%2C%20%5B35.21561%2C%20-80.78075%5D%2C%20%5B33.853931%2C%20-117.906769%5D%2C%20%5B40.41208%2C%20-80.00702%5D%2C%20%5B28.569840000000006%2C%20-81.41438199999997%5D%2C%20%5B38.664387%2C%20-121.356728%5D%2C%20%5B33.876377000000005%2C%20-118.096642%5D%2C%20%5B26.304455%2C%20-80.11948199999998%5D%2C%20%5B25.925425%2C%20-80.28236700000002%5D%2C%20%5B32.682713%2C%20-96.65728%5D%2C%20%5B25.847346%2C%20-80.20775400000002%5D%2C%20%5B42.276108%2C%20-85.16546600000002%5D%2C%20%5B30.144047%2C%20-91.991913%5D%2C%20%5B38.655697%2C%20-121.532883%5D%2C%20%5B35.1374%2C%20-80.8763%5D%2C%20%5B42.49025%2C%20-83.28556800000001%5D%2C%20%5B34.04298%2C%20-118.21707%5D%2C%20%5B29.484871%2C%20-98.418053%5D%2C%20%5B38.549827%2C%20-121.473809%5D%2C%20%5B37.38055%2C%20-121.95846%5D%2C%20%5B38.815929%2C%20-77.13739%5D%2C%20%5B39.204472%2C%20-94.492455%5D%2C%20%5B46.902935%2C%20-123.291252%5D%2C%20%5B30.482%2C%20-84.15321999999998%5D%2C%20%5B45.44062%2C%20-122.74269%5D%2C%20%5B43.186722%2C%20-77.659584%5D%2C%20%5B38.527947%2C%20-121.469103%5D%2C%20%5B42.85027%2C%20-74.96609000000002%5D%2C%20%5B39.944252%2C%20-75.142921%5D%2C%20%5B40.697163%2C%20-73.981804%5D%2C%20%5B30.50407%2C%20-87.25838399999998%5D%2C%20%5B34.055038%2C%20-118.254549%5D%2C%20%5B29.94098%2C%20-95.40721%5D%2C%20%5B40.75522%2C%20-74.20751%5D%2C%20%5B39.399525%2C%20-77.44064300000002%5D%2C%20%5B36.740823%2C%20-119.814823%5D%2C%20%5B33.69589000000001%2C%20-85.82355%5D%2C%20%5B33.483721%2C%20-82.126697%5D%2C%20%5B35.065288%2C%20-120.510428%5D%2C%20%5B37.27291%2C%20-121.86248%5D%2C%20%5B39.040251%2C%20-94.350296%5D%2C%20%5B42.424999%2C%20-83.424561%5D%2C%20%5B34.00905%2C%20-84.56886999999998%5D%2C%20%5B34.129715999999995%2C%20-117.933687%5D%2C%20%5B40.844879%2C%20-73.926109%5D%2C%20%5B32.683962%2C%20-117.088457%5D%2C%20%5B33.81636%2C%20-79.040207%5D%2C%20%5B33.97279%2C%20-118.28062%5D%2C%20%5B36.858589%2C%20-121.626053%5D%2C%20%5B35.831207%2C%20-78.569244%5D%2C%20%5B37.50341%2C%20-77.62813%5D%2C%20%5B33.914159999999995%2C%20-118.18442%5D%2C%20%5B39.894737%2C%20-86.054138%5D%2C%20%5B33.743679%2C%20-84.392609%5D%2C%20%5B32.709571999999994%2C%20-96.814575%5D%2C%20%5B34.876987%2C%20-117.109997%5D%2C%20%5B30.444384000000003%2C%20-91.154625%5D%2C%20%5B37.665741%2C%20-122.118004%5D%2C%20%5B38.963181%2C%20-77.181877%5D%2C%20%5B40.757849%2C%20-111.93903%5D%2C%20%5B33.904369%2C%20-117.460419%5D%2C%20%5B32.829321%2C%20-96.91768%5D%2C%20%5B38.189785%2C%20-85.766708%5D%2C%20%5B26.602996%2C%20-80.069121%5D%2C%20%5B37.78826%2C%20-121.30258%5D%2C%20%5B37.93515%2C%20-122.516548%5D%2C%20%5B33.462596999999995%2C%20-80.486313%5D%2C%20%5B34.141418%2C%20-118.016998%5D%2C%20%5B40.610863%2C%20-74.116318%5D%2C%20%5B38.258579%2C%20-85.743431%5D%2C%20%5B38.789408%2C%20-77.176012%5D%2C%20%5B38.562%2C%20-77.33852399999998%5D%2C%20%5B41.868397%2C%20-71.43087%5D%2C%20%5B42.3634%2C%20-88.11166%5D%2C%20%5B38.496081%2C%20-121.390497%5D%2C%20%5B35.08485%2C%20-85.32369200000002%5D%2C%20%5B33.906078%2C%20-118.193718%5D%2C%20%5B40.454062%2C%20-111.913976%5D%2C%20%5B38.270554%2C%20-122.051903%5D%2C%20%5B41.817284%2C%20-113.269516%5D%2C%20%5B38.974319%2C%20-77.42905999999998%5D%2C%20%5B33.928709999999995%2C%20-118.368254%5D%2C%20%5B33.385925%2C%20-111.840202%5D%2C%20%5B27.767559%2C%20-80.550919%5D%2C%20%5B32.33355%2C%20-89.29151%5D%2C%20%5B34.16744%2C%20-118.15813%5D%2C%20%5B28.538968%2C%20-81.31222199999998%5D%2C%20%5B33.759331%2C%20-112.216614%5D%2C%20%5B37.903735%2C%20-122.06976%5D%2C%20%5B34.0659%2C%20-118.156185%5D%2C%20%5B33.98898%2C%20-118.380278%5D%2C%20%5B37.73467%2C%20-122.40657%5D%2C%20%5B37.475029%2C%20-77.504402%5D%2C%20%5B35.50333300000001%2C%20-119.53888899999998%5D%2C%20%5B37.890129%2C%20-121.58789099999998%5D%2C%20%5B33.649952%2C%20-78.981544%5D%2C%20%5B40.88891%2C%20-73.90799%5D%2C%20%5B25.807569%2C%20-80.313137%5D%2C%20%5B34.22015%2C%20-82.170715%5D%2C%20%5B28.79716%2C%20-81.33235%5D%2C%20%5B32.179974%2C%20-90.259541%5D%2C%20%5B44.912624%2C%20-93.350838%5D%2C%20%5B30.411621000000004%2C%20-97.864045%5D%2C%20%5B36.082717%2C%20-86.697846%5D%2C%20%5B35.04823%2C%20-81.98476%5D%2C%20%5B38.019101%2C%20-121.937152%5D%2C%20%5B43.917774%2C%20-123.012222%5D%2C%20%5B42.04042000000001%2C%20-87.82216%5D%2C%20%5B41.224583%2C%20-95.975586%5D%2C%20%5B29.74481%2C%20-95.363083%5D%2C%20%5B33.97278%2C%20-117.33217%5D%2C%20%5B36.971012%2C%20-121.382401%5D%2C%20%5B42.705452%2C%20-71.21079300000002%5D%2C%20%5B38.563084%2C%20-121.490476%5D%2C%20%5B34.023296%2C%20-117.837829%5D%2C%20%5B38.757401%2C%20-90.044365%5D%2C%20%5B39.09881%2C%20-84.50801%5D%2C%20%5B34.033345000000004%2C%20-118.173856%5D%2C%20%5B34.662899%2C%20-82.475449%5D%2C%20%5B37.022377%2C%20-121.566429%5D%2C%20%5B30.38048%2C%20-91.099792%5D%2C%20%5B33.029827000000004%2C%20-116.970886%5D%2C%20%5B29.60038%2C%20-95.31448%5D%2C%20%5B45.512863%2C%20-122.679619%5D%2C%20%5B36.20882%2C%20-86.77620999999998%5D%2C%20%5B32.511645%2C%20-93.740018%5D%2C%20%5B33.929768%2C%20-118.343872%5D%2C%20%5B33.301790000000004%2C%20-111.73938%5D%2C%20%5B43.610665%2C%20-116.33104099999998%5D%2C%20%5B32.662006%2C%20-96.881622%5D%2C%20%5B29.713425%2C%20-95.46028%5D%2C%20%5B41.70141%2C%20-72.80511%5D%2C%20%5B34.448223%2C%20-119.275124%5D%2C%20%5B47.334222%2C%20-122.2447%5D%2C%20%5B40.201454%2C%20-75.16789200000002%5D%2C%20%5B34.823883%2C%20-82.291893%5D%2C%20%5B30.412111%2C%20-81.747253%5D%2C%20%5B37.824666%2C%20-77.455368%5D%2C%20%5B32.81498%2C%20-96.86676%5D%2C%20%5B32.739894%2C%20-96.822861%5D%2C%20%5B44.104726%2C%20-123.044442%5D%2C%20%5B29.812716%2C%20-95.411795%5D%2C%20%5B25.98453%2C%20-80.3479%5D%2C%20%5B42.269325%2C%20-85.511818%5D%2C%20%5B34.03476%2C%20-118.33762%5D%2C%20%5B36.08744%2C%20-86.692177%5D%2C%20%5B34.829239%2C%20-82.30319200000002%5D%2C%20%5B37.21553%2C%20-93.29628%5D%2C%20%5B33.46575%2C%20-117.136138%5D%2C%20%5B40.54057%2C%20-74.50846%5D%2C%20%5B40.723769%2C%20-111.98647%5D%2C%20%5B34.083685%2C%20-117.693902%5D%2C%20%5B34.720409000000004%2C%20-82.614151%5D%2C%20%5B29.73736%2C%20-95.524948%5D%2C%20%5B44.950348%2C%20-93.274555%5D%2C%20%5B43.955364%2C%20-92.238892%5D%2C%20%5B31.773719%2C%20-88.425915%5D%2C%20%5B26.009172%2C%20-80.213303%5D%2C%20%5B37.57371%2C%20-122.26222%5D%2C%20%5B37.024117%2C%20-76.330292%5D%2C%20%5B45.075996%2C%20-93.332603%5D%2C%20%5B40.674408%2C%20-111.901497%5D%2C%20%5B25.771662%2C%20-80.369318%5D%2C%20%5B35.832142%2C%20-78.442841%5D%2C%20%5B40.705181%2C%20-115.021698%5D%2C%20%5B47.567596%2C%20-122.368088%5D%2C%20%5B34.01593%2C%20-118.173027%5D%2C%20%5B35.493057%2C%20-97.465034%5D%2C%20%5B41.681236%2C%20-83.54594399999998%5D%2C%20%5B33.787895%2C%20-117.830826%5D%2C%20%5B33.921204%2C%20-116.806496%5D%2C%20%5B47.67152%2C%20-117.281532%5D%2C%20%5B33.51078%2C%20-82.033897%5D%2C%20%5B40.037224%2C%20-76.312691%5D%2C%20%5B34.000991%2C%20-117.375885%5D%2C%20%5B40.26661%2C%20-82.92848000000002%5D%2C%20%5B36.299787%2C%20-120.273709%5D%2C%20%5B32.836967%2C%20-96.930458%5D%2C%20%5B47.30166%2C%20-122.30281%5D%2C%20%5B40.02835%2C%20-74.933%5D%2C%20%5B33.93759%2C%20-117.40198%5D%2C%20%5B39.753937%2C%20-86.160088%5D%2C%20%5B40.707996%2C%20-74.24787099999998%5D%2C%20%5B34.02841%2C%20-118.44829%5D%2C%20%5B37.988396%2C%20-122.526932%5D%2C%20%5B35.77777899999999%2C%20-78.624786%5D%2C%20%5B35.348118%2C%20-80.732376%5D%2C%20%5B42.940254%2C%20-85.658958%5D%2C%20%5B34.034028%2C%20-118.221118%5D%2C%20%5B39.96145%2C%20-74.20619%5D%2C%20%5B44.948563%2C%20-93.347839%5D%2C%20%5B35.224178%2C%20-80.84745799999997%5D%2C%20%5B33.038258%2C%20-96.703926%5D%2C%20%5B32.82682%2C%20-117.165567%5D%2C%20%5B39.614821%2C%20-86.475287%5D%2C%20%5B28.24177%2C%20-82.460399%5D%2C%20%5B41.800594%2C%20-71.403076%5D%2C%20%5B33.744717%2C%20-84.389481%5D%2C%20%5B38.80533%2C%20-76.99547199999998%5D%2C%20%5B38.892086%2C%20-77.02807299999998%5D%2C%20%5B43.808647%2C%20-84.722565%5D%2C%20%5B45.5273%2C%20-122.66536%5D%2C%20%5B33.87633%2C%20-118.088942%5D%2C%20%5B32.266911%2C%20-86.355003%5D%2C%20%5B37.167255%2C%20-93.271706%5D%2C%20%5B42.132989%2C%20-122.633829%5D%2C%20%5B35.211449%2C%20-80.686699%5D%2C%20%5B33.85117%2C%20-84.246475%5D%2C%20%5B34.333372%2C%20-81.083237%5D%2C%20%5B40.844563%2C%20-73.90280899999998%5D%2C%20%5B30.416403000000006%2C%20-91.069908%5D%2C%20%5B35.158375%2C%20-81.702049%5D%2C%20%5B39.171278%2C%20-84.402668%5D%2C%20%5B38.195477%2C%20-85.707596%5D%2C%20%5B42.24059000000001%2C%20-83.33629%5D%2C%20%5B46.611288%2C%20-92.553387%5D%2C%20%5B30.457153%2C%20-91.179001%5D%2C%20%5B38.285123%2C%20-122.30066399999998%5D%2C%20%5B40.771198%2C%20-112.02504%5D%2C%20%5B38.559948%2C%20-121.466568%5D%2C%20%5B40.041153%2C%20-104.980812%5D%2C%20%5B33.974211%2C%20-118.2252%5D%2C%20%5B39.080728%2C%20-78.201848%5D%2C%20%5B37.309113%2C%20-120.50906299999998%5D%2C%20%5B42.46355%2C%20-83.75534%5D%2C%20%5B34.082829%2C%20-81.191429%5D%2C%20%5B46.487263%2C%20-100.084987%5D%2C%20%5B28.254946%2C%20-81.48132%5D%2C%20%5B42.556236%2C%20-82.860222%5D%2C%20%5B38.981651%2C%20-76.937912%5D%2C%20%5B35.43521099999999%2C%20-97.570213%5D%2C%20%5B37.506721%2C%20-77.447266%5D%2C%20%5B43.59357%2C%20-123.24606%5D%2C%20%5B33.921890000000005%2C%20-118.28151%5D%2C%20%5B47.657092%2C%20-122.322603%5D%2C%20%5B45.45387%2C%20-122.71681%5D%2C%20%5B37.880338%2C%20-122.516935%5D%2C%20%5B32.134121%2C%20-110.934654%5D%2C%20%5B35.182632%2C%20-80.88748199999998%5D%2C%20%5B25.846972%2C%20-80.21169300000003%5D%2C%20%5B35.258682%2C%20-80.87314599999998%5D%2C%20%5B34.02953%2C%20-118.19976%5D%2C%20%5B37.429474%2C%20-121.91848799999998%5D%2C%20%5B34.646849%2C%20-83.44913100000002%5D%2C%20%5B36.593967%2C%20-121.873494%5D%2C%20%5B33.46278%2C%20-112.1635%5D%2C%20%5B40.01199%2C%20-82.99159%5D%2C%20%5B41.025585%2C%20-73.731339%5D%2C%20%5B33.789863000000004%2C%20-118.219226%5D%2C%20%5B33.96437%2C%20-84.52268000000002%5D%2C%20%5B42.462472%2C%20-83.044638%5D%2C%20%5B28.420101000000006%2C%20-81.474068%5D%2C%20%5B37.822695%2C%20-122.260875%5D%2C%20%5B33.960014%2C%20-118.280502%5D%2C%20%5B38.866066%2C%20-104.757019%5D%2C%20%5B41.53991%2C%20-73.95056%5D%2C%20%5B34.870403%2C%20-80.800308%5D%2C%20%5B40.003849%2C%20-82.86972%5D%2C%20%5B30.196302000000006%2C%20-81.739563%5D%2C%20%5B34.21886%2C%20-118.24071200000002%5D%2C%20%5B34.102182%2C%20-117.872505%5D%2C%20%5B32.713086%2C%20-117.101817%5D%2C%20%5B37.319054%2C%20-121.901878%5D%2C%20%5B26.120569%2C%20-80.345505%5D%2C%20%5B42.37072%2C%20-87.89587%5D%2C%20%5B47.896431%2C%20-122.251892%5D%2C%20%5B38.496071%2C%20-121.429054%5D%2C%20%5B41.94214%2C%20-71.48066%5D%2C%20%5B40.740101%2C%20-73.845428%5D%2C%20%5B39.7174%2C%20-86.12572%5D%2C%20%5B28.414577%2C%20-81.226028%5D%2C%20%5B42.157307%2C%20-71.068825%5D%2C%20%5B33.263179%2C%20-117.236984%5D%2C%20%5B35.061287%2C%20-85.317482%5D%2C%20%5B34.00554%2C%20-83.7067%5D%2C%20%5B42.30361%2C%20-83.18008%5D%2C%20%5B30.28074%2C%20-97.667303%5D%2C%20%5B39.783931%2C%20-104.98937%5D%2C%20%5B40.696808%2C%20-74.218689%5D%2C%20%5B34.10785300000001%2C%20-118.258275%5D%2C%20%5B45.551609%2C%20-122.67879%5D%2C%20%5B34.030505%2C%20-117.655817%5D%2C%20%5B46.81075%2C%20-122.2962%5D%2C%20%5B30.278122%2C%20-81.52164499999998%5D%2C%20%5B35.584454%2C%20-78.805756%5D%2C%20%5B36.996426%2C%20-120.084351%5D%2C%20%5B33.79551%2C%20-84.39255%5D%2C%20%5B33.56195%2C%20-111.88349%5D%2C%20%5B40.6443%2C%20-111.92928%5D%2C%20%5B41.22511%2C%20-112.01148%5D%2C%20%5B29.63097%2C%20-95.505893%5D%2C%20%5B37.250652%2C%20-121.92823%5D%2C%20%5B39.268738%2C%20-76.55931899999999%5D%2C%20%5B33.895199%2C%20-118.265312%5D%2C%20%5B34.888232%2C%20-92.382477%5D%2C%20%5B37.99422%2C%20-122.29649%5D%2C%20%5B30.551571000000006%2C%20-91.168419%5D%2C%20%5B41.31357%2C%20-81.78533%5D%2C%20%5B33.924152%2C%20-116.873222%5D%2C%20%5B39.73173%2C%20-75.22424000000002%5D%2C%20%5B30.387453000000004%2C%20-97.553406%5D%2C%20%5B33.985713%2C%20-118.247734%5D%2C%20%5B42.91264%2C%20-85.608162%5D%2C%20%5B41.506877%2C%20-87.810051%5D%2C%20%5B33.878288%2C%20-79.048439%5D%2C%20%5B35.305782%2C%20-80.749741%5D%2C%20%5B34.03888%2C%20-118.0462%5D%2C%20%5B40.752657%2C%20-73.743656%5D%2C%20%5B36.150524%2C%20-86.69017%5D%2C%20%5B40.63997%2C%20-74.29014000000002%5D%2C%20%5B42.74100000000001%2C%20-83.45004%5D%2C%20%5B41.82547%2C%20-71.41945%5D%2C%20%5B34.17054%2C%20-118.501099%5D%2C%20%5B45.123981%2C%20-93.049583%5D%2C%20%5B29.73156%2C%20-95.48037%5D%2C%20%5B30.39827%2C%20-97.704468%5D%2C%20%5B40.723942%2C%20-73.378563%5D%2C%20%5B33.98751%2C%20-117.36321%5D%2C%20%5B34.201462%2C%20-118.47345%5D%2C%20%5B41.016701%2C%20-111.940931%5D%2C%20%5B34.970169%2C%20-81.15392299999998%5D%2C%20%5B44.939849%2C%20-93.075459%5D%2C%20%5B38.291748%2C%20-122.710027%5D%2C%20%5B31.792393%2C%20-106.285283%5D%2C%20%5B42.958758%2C%20-85.667741%5D%2C%20%5B39.820728%2C%20-84.285438%5D%2C%20%5B43.00168%2C%20-83.69914%5D%2C%20%5B38.013977%2C%20-121.876289%5D%2C%20%5B35.227097%2C%20-80.828262%5D%2C%20%5B39.03698%2C%20-84.601067%5D%2C%20%5B40.236322%2C%20-75.61350300000002%5D%2C%20%5B40.80566%2C%20-111.92291000000002%5D%2C%20%5B43.057556%2C%20-83.692741%5D%2C%20%5B45.387211%2C%20-122.400523%5D%2C%20%5B35.78364000000001%2C%20-78.68238000000002%5D%2C%20%5B44.97103%2C%20-93.25196%5D%2C%20%5B45.283821%2C%20-122.661698%5D%2C%20%5B26.115259%2C%20-80.169067%5D%2C%20%5B29.788486%2C%20-95.599297%5D%2C%20%5B42.46629%2C%20-88.071776%5D%2C%20%5B38.97664%2C%20-94.5462%5D%2C%20%5B39.798327%2C%20-86.111408%5D%2C%20%5B38.620068%2C%20-90.189575%5D%2C%20%5B29.72868%2C%20-95.46022%5D%2C%20%5B28.56983%2C%20-81.286198%5D%2C%20%5B34.41931%2C%20-118.58112%5D%2C%20%5B37.83162%2C%20-122.48026000000002%5D%2C%20%5B35.801414%2C%20-78.62812%5D%2C%20%5B34.12262%2C%20-118.074577%5D%2C%20%5B37.42528%2C%20-122.09804%5D%2C%20%5B40.96417%2C%20-73.73076%5D%2C%20%5B32.38237%2C%20-86.173393%5D%2C%20%5B33.77545%2C%20-78.98303%5D%2C%20%5B40.704048%2C%20-73.817215%5D%2C%20%5B47.6017%2C%20-122.314156%5D%2C%20%5B34.141155%2C%20-117.248611%5D%2C%20%5B41.408833%2C%20-74.07764499999998%5D%2C%20%5B35.801025%2C%20-78.67417900000002%5D%2C%20%5B38.12546%2C%20-85.89301999999998%5D%2C%20%5B44.767918%2C%20-93.288788%5D%2C%20%5B42.383274%2C%20-83.178535%5D%2C%20%5B39.797958%2C%20-84.255135%5D%2C%20%5B39.372486%2C%20-77.404449%5D%2C%20%5B45.758091%2C%20-123.958228%5D%2C%20%5B25.93162%2C%20-80.204338%5D%2C%20%5B41.448874%2C%20-122.363506%5D%2C%20%5B37.964619%2C%20-122.325951%5D%2C%20%5B37.630416%2C%20-122.114051%5D%2C%20%5B32.735687%2C%20-117.111977%5D%2C%20%5B40.763332%2C%20-73.839546%5D%2C%20%5B34.006558%2C%20-117.06631000000002%5D%2C%20%5B36.015652%2C%20-86.621429%5D%2C%20%5B39.040787%2C%20-94.673088%5D%2C%20%5B45.596061%2C%20-118.516197%5D%2C%20%5B34.873875%2C%20-82.326319%5D%2C%20%5B40.599095%2C%20-111.432648%5D%2C%20%5B33.673935%2C%20-84.326141%5D%2C%20%5B31.419321000000004%2C%20-87.005775%5D%2C%20%5B40.850067%2C%20-73.944817%5D%2C%20%5B42.45694%2C%20-83.217873%5D%2C%20%5B32.53857%2C%20-93.763852%5D%2C%20%5B34.925114%2C%20-82.36541%5D%2C%20%5B42.98516%2C%20-82.59284%5D%2C%20%5B34.728195%2C%20-86.67009%5D%2C%20%5B42.401791%2C%20-71.09629100000002%5D%2C%20%5B30.483891%2C%20-91.118019%5D%2C%20%5B40.17687100000001%2C%20-75.080794%5D%2C%20%5B28.568790000000003%2C%20-81.22386999999998%5D%2C%20%5B40.16297%2C%20-75.062663%5D%2C%20%5B45.70301%2C%20-120.32389%5D%2C%20%5B44.939808%2C%20-93.075615%5D%2C%20%5B35.767921%2C%20-78.574097%5D%2C%20%5B38.01699%2C%20-121.99114%5D%2C%20%5B37.6651%2C%20-121.696639%5D%2C%20%5B30.455027%2C%20-97.826195%5D%2C%20%5B33.925064%2C%20-118.209892%5D%2C%20%5B33.94546%2C%20-118.31772%5D%2C%20%5B43.121231%2C%20-87.991074%5D%2C%20%5B33.856840000000005%2C%20-118.284809%5D%2C%20%5B30.236717%2C%20-98.007706%5D%2C%20%5B28.595701%2C%20-81.382713%5D%2C%20%5B35.106178%2C%20-103.328568%5D%2C%20%5B25.82875%2C%20-80.20633000000002%5D%2C%20%5B39.76037%2C%20-86.1445%5D%2C%20%5B25.537127%2C%20-80.37207%5D%2C%20%5B36.15016%2C%20-86.85793000000002%5D%2C%20%5B40.03335%2C%20-82.99559%5D%2C%20%5B29.728052%2C%20-95.336664%5D%2C%20%5B35.849668%2C%20-78.58221%5D%2C%20%5B41.22223%2C%20-96.05782%5D%2C%20%5B44.30514%2C%20-120.767614%5D%2C%20%5B34.111996000000005%2C%20-118.265465%5D%2C%20%5B36.154018%2C%20-86.758438%5D%2C%20%5B37.74199%2C%20-121.57396%5D%2C%20%5B33.049752000000005%2C%20-97.009501%5D%2C%20%5B34.036752%2C%20-118.317757%5D%2C%20%5B38.676231%2C%20-77.23661%5D%2C%20%5B27.866968%2C%20-82.626989%5D%2C%20%5B39.181827%2C%20-76.720846%5D%2C%20%5B41.319389%2C%20-96.023819%5D%2C%20%5B39.147752%2C%20-76.693507%5D%2C%20%5B33.900109%2C%20-117.473535%5D%2C%20%5B30.235971000000006%2C%20-93.204262%5D%2C%20%5B41.7743%2C%20-87.946564%5D%2C%20%5B35.945721%2C%20-78.6408%5D%2C%20%5B41.86644%2C%20-71.402428%5D%2C%20%5B33.460777%2C%20-112.082542%5D%2C%20%5B41.24491%2C%20-112.0159%5D%2C%20%5B30.172884000000003%2C%20-92.029808%5D%2C%20%5B39.140719%2C%20-94.565571%5D%2C%20%5B37.651657%2C%20-122.098671%5D%2C%20%5B38.703881%2C%20-121.364432%5D%2C%20%5B44.48848%2C%20-93.87807%5D%2C%20%5B41.79894%2C%20-87.63169%5D%2C%20%5B37.321243%2C%20-121.834052%5D%2C%20%5B42.22262%2C%20-121.7913%5D%2C%20%5B33.724998%2C%20-117.292824%5D%2C%20%5B35.558048%2C%20-97.63858%5D%2C%20%5B39.206858%2C%20-78.135521%5D%2C%20%5B40.689831%2C%20-73.562881%5D%2C%20%5B34.183611%2C%20-118.891389%5D%2C%20%5B39.564159%2C%20-104.907471%5D%2C%20%5B47.571586%2C%20-122.327005%5D%2C%20%5B41.87559%2C%20-87.66181999999998%5D%2C%20%5B41.83704%2C%20-87.675911%5D%2C%20%5B39.82452%2C%20-104.95921%5D%2C%20%5B35.795624%2C%20-78.69487%5D%2C%20%5B32.87428%2C%20-117.106972%5D%2C%20%5B39.698141%2C%20-75.61071%5D%2C%20%5B30.80234%2C%20-88.111191%5D%2C%20%5B42.58132%2C%20-71.15496%5D%2C%20%5B41.756668%2C%20-89.63546%5D%2C%20%5B41.218617%2C%20-73.810731%5D%2C%20%5B25.857208%2C%20-80.209463%5D%2C%20%5B34.06682%2C%20-117.98846%5D%2C%20%5B34.35577%2C%20-80.460876%5D%2C%20%5B33.581978%2C%20-112.116951%5D%2C%20%5B37.531998%2C%20-77.378372%5D%2C%20%5B45.51059%2C%20-122.56534%5D%2C%20%5B35.258793%2C%20-80.873192%5D%2C%20%5B36.095177%2C%20-80.226089%5D%2C%20%5B33.924018%2C%20-118.305151%5D%2C%20%5B36.752938%2C%20-119.827103%5D%2C%20%5B41.912579%2C%20-88.081413%5D%2C%20%5B39.769714%2C%20-86.148911%5D%2C%20%5B33.4616%2C%20-112.09909%5D%2C%20%5B37.364265%2C%20-121.843941%5D%2C%20%5B41.127998%2C%20-73.81291999999998%5D%2C%20%5B33.68965%2C%20-85.19362%5D%2C%20%5B34.206533%2C%20-118.200208%5D%2C%20%5B47.19167%2C%20-122.37849%5D%2C%20%5B38.698999%2C%20-120.99558%5D%2C%20%5B44.07411%2C%20-121.3024%5D%2C%20%5B38.54384500000001%2C%20-121.473781%5D%2C%20%5B34.148083%2C%20-118.067581%5D%2C%20%5B34.020633000000004%2C%20-118.192258%5D%2C%20%5B34.302107%2C%20-84.829645%5D%2C%20%5B44.289379%2C%20-121.500568%5D%2C%20%5B36.02547%2C%20-115.07889%5D%2C%20%5B40.000743%2C%20-75.746553%5D%2C%20%5B44.43099%2C%20-121.88084%5D%2C%20%5B36.715317%2C%20-119.348986%5D%2C%20%5B39.11655%2C%20-94.56451%5D%2C%20%5B28.4499%2C%20-81.44596800000002%5D%2C%20%5B38.82538%2C%20-104.75755%5D%2C%20%5B44.903576%2C%20-93.275078%5D%2C%20%5B38.854286%2C%20-77.388809%5D%2C%20%5B34.270208000000004%2C%20-118.153341%5D%2C%20%5B47.630253%2C%20-122.175423%5D%2C%20%5B37.87423%2C%20-122.3059%5D%2C%20%5B47.483383%2C%20-122.271454%5D%2C%20%5B44.964397%2C%20-93.23616%5D%2C%20%5B37.45079000000001%2C%20-113.22902%5D%2C%20%5B43.794936%2C%20-121.443309%5D%2C%20%5B42.912518%2C%20-85.583443%5D%2C%20%5B35.136921%2C%20-80.87619000000002%5D%2C%20%5B35.042103000000004%2C%20-81.821686%5D%2C%20%5B41.738437%2C%20-72.66448100000002%5D%2C%20%5B35.609173%2C%20-97.513725%5D%2C%20%5B41.92451%2C%20-87.96655%5D%2C%20%5B43.06023%2C%20-87.920891%5D%2C%20%5B37.043221%2C%20-121.290154%5D%2C%20%5B38.09186500000001%2C%20-122.558985%5D%2C%20%5B38.090878%2C%20-122.228424%5D%2C%20%5B30.39238%2C%20-81.66803%5D%2C%20%5B44.42377000000001%2C%20-121.799228%5D%2C%20%5B40.108669%2C%20-76.950989%5D%2C%20%5B37.769341%2C%20-122.411163%5D%2C%20%5B40.051773%2C%20-77.95916700000002%5D%2C%20%5B32.38623%2C%20-85.884621%5D%2C%20%5B41.211611%2C%20-96.096474%5D%2C%20%5B43.254836%2C%20-123.359802%5D%2C%20%5B39.162861%2C%20-78.15686%5D%2C%20%5B45.253812%2C%20-93.02301%5D%2C%20%5B32.64516%2C%20-96.78961%5D%2C%20%5B34.068869%2C%20-117.839455%5D%2C%20%5B46.887313%2C%20-114.068343%5D%2C%20%5B33.863417%2C%20-118.322294%5D%2C%20%5B34.119492%2C%20-117.76162%5D%2C%20%5B34.7954%2C%20-112.45113%5D%2C%20%5B34.02752%2C%20-118.43013%5D%2C%20%5B34.065653000000005%2C%20-117.9962%5D%2C%20%5B43.12272100000001%2C%20-75.38843%5D%2C%20%5B37.593128%2C%20-121.870636%5D%2C%20%5B39.265575%2C%20-76.66733599999998%5D%2C%20%5B36.974041%2C%20-121.88298799999998%5D%2C%20%5B34.788585999999995%2C%20-82.482292%5D%2C%20%5B43.332615%2C%20-77.748451%5D%2C%20%5B34.082424%2C%20-78.874596%5D%2C%20%5B35.981632%2C%20-83.938232%5D%2C%20%5B39.855912%2C%20-122.200169%5D%2C%20%5B36.2131%2C%20-86.8724%5D%2C%20%5B41.60413%2C%20-87.58334%5D%2C%20%5B39.87463%2C%20-75.09617%5D%2C%20%5B40.438011%2C%20-79.993317%5D%2C%20%5B30.00654%2C%20-90.01901%5D%2C%20%5B30.191711%2C%20-81.705605%5D%2C%20%5B45.33226%2C%20-93.718805%5D%2C%20%5B33.559595%2C%20-117.672082%5D%2C%20%5B41.308125%2C%20-95.97068%5D%2C%20%5B40.428215%2C%20-76.518372%5D%2C%20%5B42.04232%2C%20-88.328552%5D%2C%20%5B47.58753%2C%20-122.32048%5D%2C%20%5B30.409769%2C%20-91.147568%5D%2C%20%5B36.502448%2C%20-86.581183%5D%2C%20%5B44.96603%2C%20-93.25201%5D%2C%20%5B37.752049%2C%20-121.467835%5D%2C%20%5B33.231255%2C%20-117.024193%5D%2C%20%5B35.16163%2C%20-89.8705%5D%2C%20%5B40.65311%2C%20-112.04505%5D%2C%20%5B35.893398%2C%20-78.727203%5D%2C%20%5B33.270579999999995%2C%20-79.898804%5D%2C%20%5B44.065006%2C%20-123.047508%5D%2C%20%5B35.17595%2C%20-80.79824%5D%2C%20%5B35.97668%2C%20-79.91094%5D%2C%20%5B42.73059%2C%20-84.51061999999997%5D%2C%20%5B37.867475%2C%20-121.638375%5D%2C%20%5B35.54777100000001%2C%20-117.92773400000002%5D%2C%20%5B40.03715%2C%20-82.90274000000002%5D%2C%20%5B32.65217%2C%20-117.06859%5D%2C%20%5B33.99414%2C%20-117.90955%5D%2C%20%5B33.876225%2C%20-118.102364%5D%2C%20%5B33.019714%2C%20-96.709518%5D%2C%20%5B35.87844099999999%2C%20-78.640938%5D%2C%20%5B34.05968%2C%20-118.0013%5D%2C%20%5B33.87058%2C%20-84.47711%5D%2C%20%5B29.999125%2C%20-95.425735%5D%2C%20%5B33.40159%2C%20-111.8913%5D%2C%20%5B29.785452000000006%2C%20-95.736038%5D%2C%20%5B39.135545%2C%20-121.552438%5D%2C%20%5B38.26149%2C%20-85.742%5D%2C%20%5B44.76598%2C%20-124.06455%5D%2C%20%5B42.97201%2C%20-85.892595%5D%2C%20%5B36.685838%2C%20-119.751119%5D%2C%20%5B45.57966%2C%20-122.96821%5D%2C%20%5B39.898793%2C%20-75.169537%5D%2C%20%5B45.002961%2C%20-93.204627%5D%2C%20%5B43.00544%2C%20-83.67728000000002%5D%2C%20%5B35.26785%2C%20-81.06692%5D%2C%20%5B33.949615%2C%20-118.170425%5D%2C%20%5B30.533997%2C%20-87.087601%5D%2C%20%5B38.998001%2C%20-77.410057%5D%2C%20%5B29.756939000000006%2C%20-95.557808%5D%2C%20%5B37.426876%2C%20-120.792221%5D%2C%20%5B33.580357%2C%20-79.962784%5D%2C%20%5B35.902565%2C%20-78.810677%5D%2C%20%5B30.255412%2C%20-81.444839%5D%2C%20%5B25.7885%2C%20-80.20081%5D%2C%20%5B25.90021%2C%20-80.243798%5D%2C%20%5B40.9006%2C%20-81.46741999999998%5D%2C%20%5B35.48595800000001%2C%20-97.5746%5D%2C%20%5B42.55044%2C%20-83.06929000000002%5D%2C%20%5B35.38342700000001%2C%20-119.000275%5D%2C%20%5B37.61821%2C%20-122.074982%5D%2C%20%5B35.211834%2C%20-80.855436%5D%2C%20%5B39.08578%2C%20-94.59224%5D%2C%20%5B27.956247%2C%20-82.485008%5D%2C%20%5B26.83497%2C%20-80.0987%5D%2C%20%5B33.392738%2C%20-112.047356%5D%2C%20%5B27.996664000000006%2C%20-82.575089%5D%2C%20%5B37.992088%2C%20-122.130608%5D%2C%20%5B40.712198%2C%20-74.317512%5D%2C%20%5B40.468401%2C%20-78.651269%5D%2C%20%5B39.98787%2C%20-82.93857%5D%2C%20%5B42.38539%2C%20-83.25491%5D%2C%20%5B34.067656%2C%20-117.584344%5D%2C%20%5B29.661698%2C%20-95.557253%5D%2C%20%5B41.968674%2C%20-88.151611%5D%2C%20%5B41.463474%2C%20-81.625725%5D%2C%20%5B38.631626%2C%20-121.398056%5D%2C%20%5B47.549587%2C%20-122.313454%5D%2C%20%5B43.130079%2C%20-95.14389%5D%2C%20%5B38.99104000000001%2C%20-84.64399%5D%2C%20%5B34.087446%2C%20-117.648877%5D%2C%20%5B38.581829%2C%20-90.44783%5D%2C%20%5B29.992815000000004%2C%20-90.048869%5D%2C%20%5B40.844074%2C%20-73.897491%5D%2C%20%5B44.93773%2C%20-93.27454%5D%2C%20%5B37.40425%2C%20-122.02125%5D%2C%20%5B26.537291%2C%20-81.920762%5D%2C%20%5B27.494219%2C%20-82.490833%5D%2C%20%5B40.082431%2C%20-75.172802%5D%2C%20%5B32.760490000000004%2C%20-117.162805%5D%2C%20%5B42.95171%2C%20-78.909317%5D%2C%20%5B40.11887%2C%20-75.28653%5D%2C%20%5B37.08371500000001%2C%20-119.430222%5D%2C%20%5B26.108292%2C%20-80.28690999999998%5D%2C%20%5B28.976351%2C%20-82.04136700000002%5D%2C%20%5B35.24362199999999%2C%20-80.84706899999998%5D%2C%20%5B34.27001%2C%20-119.27341%5D%2C%20%5B42.313547%2C%20-88.098686%5D%2C%20%5B32.923190000000005%2C%20-96.75398%5D%2C%20%5B43.646051%2C%20-122.193462%5D%2C%20%5B38.84727%2C%20-76.95263%5D%2C%20%5B35.33237000000001%2C%20-80.85244%5D%2C%20%5B41.871391%2C%20-87.83612099999998%5D%2C%20%5B33.941887%2C%20-118.367981%5D%2C%20%5B25.748727%2C%20-80.367906%5D%2C%20%5B35.49316%2C%20-97.487267%5D%2C%20%5B35.40025100000001%2C%20-86.880477%5D%2C%20%5B25.881615%2C%20-80.209262%5D%2C%20%5B41.53513%2C%20-88.081856%5D%2C%20%5B35.15968%2C%20-81.91855%5D%2C%20%5B34.00071%2C%20-117.84493%5D%2C%20%5B34.075790000000005%2C%20-118.27668%5D%2C%20%5B37.831094%2C%20-121.606942%5D%2C%20%5B28.487584%2C%20-81.42847900000002%5D%2C%20%5B39.305931%2C%20-76.744034%5D%2C%20%5B41.101242%2C%20-73.436012%5D%2C%20%5B30.647454%2C%20-91.248274%5D%2C%20%5B39.207474%2C%20-84.464439%5D%2C%20%5B47.097164%2C%20-122.29359%5D%2C%20%5B39.484238%2C%20-76.25153399999998%5D%2C%20%5B25.575223%2C%20-80.37298%5D%2C%20%5B30.191427%2C%20-81.715525%5D%2C%20%5B32.888531%2C%20-86.624321%5D%2C%20%5B40.05669%2C%20-83.03092%5D%2C%20%5B33.994246999999994%2C%20-117.90509%5D%2C%20%5B39.135064%2C%20-76.563535%5D%2C%20%5B36.045296%2C%20-86.658745%5D%2C%20%5B43.604957%2C%20-116.355981%5D%2C%20%5B40.824959%2C%20-73.588638%5D%2C%20%5B40.70861%2C%20-73.7274%5D%2C%20%5B38.659375%2C%20-120.965126%5D%2C%20%5B33.671479999999995%2C%20-84.32587%5D%2C%20%5B29.403606%2C%20-98.480988%5D%2C%20%5B35.776962%2C%20-78.640251%5D%2C%20%5B35.803669%2C%20-78.693855%5D%2C%20%5B39.297879%2C%20-76.84099300000003%5D%2C%20%5B42.30869000000001%2C%20-87.8768%5D%2C%20%5B47.60173%2C%20-122.3246%5D%2C%20%5B41.015646%2C%20-92.422679%5D%2C%20%5B32.672226%2C%20-96.984138%5D%2C%20%5B35.50775%2C%20-97.61894%5D%2C%20%5B40.908188%2C%20-124.088842%5D%2C%20%5B34.227191%2C%20-119.137632%5D%2C%20%5B44.99067%2C%20-93.08935%5D%2C%20%5B46.405784%2C%20-92.765396%5D%2C%20%5B32.9763%2C%20-117.25161%5D%2C%20%5B36.279591%2C%20-86.783501%5D%2C%20%5B33.859544%2C%20-117.922881%5D%2C%20%5B34.473807%2C%20-118.467641%5D%2C%20%5B26.547702%2C%20-81.774716%5D%2C%20%5B34.087153%2C%20-117.675193%5D%2C%20%5B41.34721%2C%20-73.650063%5D%2C%20%5B41.81461%2C%20-71.370094%5D%2C%20%5B30.403990000000004%2C%20-91.181992%5D%2C%20%5B28.40401%2C%20-80.81943000000003%5D%2C%20%5B43.604561%2C%20-71.70993%5D%2C%20%5B39.779629%2C%20-86.26589200000002%5D%2C%20%5B46.172648%2C%20-94.617079%5D%2C%20%5B38.42706%2C%20-122.71496%5D%2C%20%5B33.965069%2C%20-80.443878%5D%2C%20%5B40.136611%2C%20-78.34139300000002%5D%2C%20%5B36.149257%2C%20-86.77470799999998%5D%2C%20%5B35.82078%2C%20-78.74436999999998%5D%2C%20%5B36.01433%2C%20-87.25935%5D%2C%20%5B30.717897%2C%20-85.93604%5D%2C%20%5B33.32938%2C%20-86.984177%5D%2C%20%5B27.874571000000003%2C%20-82.662735%5D%2C%20%5B37.583542%2C%20-77.603638%5D%2C%20%5B33.48723%2C%20-86.70916%5D%2C%20%5B28.48978%2C%20-81.429428%5D%2C%20%5B32.868801%2C%20-87.924171%5D%2C%20%5B39.703497%2C%20-84.252185%5D%2C%20%5B33.516040999999994%2C%20-86.795845%5D%2C%20%5B33.737565000000004%2C%20-117.833658%5D%2C%20%5B45.771429%2C%20-108.487187%5D%2C%20%5B34.266998%2C%20-118.443596%5D%2C%20%5B33.93198%2C%20-118.397926%5D%2C%20%5B39.073654%2C%20-76.847748%5D%2C%20%5B32.67622%2C%20-97.03963%5D%2C%20%5B29.845612%2C%20-95.391228%5D%2C%20%5B40.098461%2C%20-83.133675%5D%2C%20%5B41.073761%2C%20-73.801773%5D%2C%20%5B40.647186%2C%20-111.902351%5D%2C%20%5B34.432594%2C%20-119.199463%5D%2C%20%5B29.922146%2C%20-95.407532%5D%2C%20%5B34.119783%2C%20-117.76161%5D%2C%20%5B42.27551%2C%20-83.16015%5D%2C%20%5B41.707146%2C%20-72.64505%5D%2C%20%5B42.19588%2C%20-84.36957%5D%2C%20%5B40.68716%2C%20-74.27345%5D%2C%20%5B42.912728%2C%20-85.637247%5D%2C%20%5B34.0368%2C%20-118.02375%5D%2C%20%5B34.03685%2C%20-118.28712%5D%2C%20%5B31.707277%2C%20-106.31483500000002%5D%2C%20%5B35.05104%2C%20-80.76953%5D%2C%20%5B33.075287%2C%20-117.086967%5D%2C%20%5B34.580662%2C%20-82.716553%5D%2C%20%5B33.009910999999995%2C%20-117.263916%5D%2C%20%5B36.15425%2C%20-86.759275%5D%2C%20%5B38.68916%2C%20-75.7653%5D%2C%20%5B45.611206%2C%20-123.090572%5D%2C%20%5B37.772011%2C%20-122.423729%5D%2C%20%5B29.612159%2C%20-95.46485%5D%2C%20%5B39.52689%2C%20-119.783699%5D%2C%20%5B39.93479%2C%20-74.96553%5D%2C%20%5B37.99057%2C%20-122.130013%5D%2C%20%5B36.1633%2C%20-86.613129%5D%2C%20%5B28.056240000000006%2C%20-82.29039%5D%2C%20%5B36.76363%2C%20-119.74949%5D%2C%20%5B33.928959000000006%2C%20-118.368252%5D%2C%20%5B32.747749%2C%20-117.193367%5D%2C%20%5B29.789209000000003%2C%20-95.443405%5D%2C%20%5B40.602341%2C%20-111.938713%5D%2C%20%5B26.437601%2C%20-81.72551%5D%2C%20%5B37.722096%2C%20-121.538496%5D%2C%20%5B33.956902%2C%20-80.390991%5D%2C%20%5B34.23229%2C%20-118.40934%5D%2C%20%5B37.490589%2C%20-113.218255%5D%2C%20%5B33.174229%2C%20-87.475052%5D%2C%20%5B40.6965%2C%20-112.06309%5D%2C%20%5B35.144591%2C%20-80.728788%5D%2C%20%5B33.85582%2C%20-79.005902%5D%2C%20%5B33.97683%2C%20-80.8759%5D%2C%20%5B32.991978%2C%20-96.946091%5D%2C%20%5B34.908089000000004%2C%20-81.945091%5D%2C%20%5B45.362881%2C%20-122.609535%5D%2C%20%5B33.981998%2C%20-118.241211%5D%2C%20%5B45.77134%2C%20-95.3882%5D%2C%20%5B33.988554%2C%20-118.358546%5D%2C%20%5B35.79089000000001%2C%20-78.662933%5D%2C%20%5B42.9298%2C%20-85.68154%5D%2C%20%5B30.218456%2C%20-97.690948%5D%2C%20%5B29.937712%2C%20-95.434196%5D%2C%20%5B45.6408%2C%20-118.68814%5D%2C%20%5B36.153044%2C%20-86.75539599999998%5D%2C%20%5B42.120472%2C%20-75.949646%5D%2C%20%5B26.16219%2C%20-80.16230999999998%5D%2C%20%5B39.87378%2C%20-75.09521%5D%2C%20%5B35.3835%2C%20-119.0923%5D%2C%20%5B39.04174%2C%20-94.78943%5D%2C%20%5B44.767612%2C%20-122.664195%5D%2C%20%5B33.819981%2C%20-112.141327%5D%2C%20%5B32.805328%2C%20-96.826683%5D%2C%20%5B38.57407%2C%20-121.4152%5D%2C%20%5B29.825190000000006%2C%20-97.98855%5D%2C%20%5B37.56615%2C%20-77.36021%5D%2C%20%5B39.993843%2C%20-82.985054%5D%2C%20%5B37.54282%2C%20-121.270948%5D%2C%20%5B34.892672999999995%2C%20-82.160774%5D%2C%20%5B31.673988%2C%20-106.32991%5D%2C%20%5B45.370861%2C%20-122.709313%5D%2C%20%5B31.242834%2C%20-82.43109100000002%5D%2C%20%5B35.540676%2C%20-120.713409%5D%2C%20%5B33.99025%2C%20-117.921059%5D%2C%20%5B33.801945%2C%20-118.11467%5D%2C%20%5B40.200206%2C%20-110.99212%5D%2C%20%5B34.156834%2C%20-118.41378799999998%5D%2C%20%5B34.046806%2C%20-118.94529%5D%2C%20%5B41.538155%2C%20-87.961945%5D%2C%20%5B42.912518%2C%20-85.583443%5D%2C%20%5B42.995808%2C%20-83.733109%5D%2C%20%5B39.44549%2C%20-75.22058%5D%2C%20%5B37.54416%2C%20-77.43211%5D%2C%20%5B29.812351%2C%20-95.421776%5D%2C%20%5B36.592846%2C%20-81.041775%5D%2C%20%5B41.331537%2C%20-84.286629%5D%2C%20%5B41.662899%2C%20-87.66078900000002%5D%2C%20%5B34.709698%2C%20-82.499489%5D%2C%20%5B44.7597%2C%20-93.21787%5D%2C%20%5B32.826465%2C%20-96.783957%5D%2C%20%5B44.849056%2C%20-122.86001%5D%2C%20%5B37.900829%2C%20-122.310799%5D%2C%20%5B33.470032%2C%20-116.953445%5D%2C%20%5B38.510303%2C%20-121.464525%5D%2C%20%5B47.669853%2C%20-122.108047%5D%2C%20%5B33.53686%2C%20-117.67458%5D%2C%20%5B42.34582%2C%20-71.05958000000003%5D%2C%20%5B37.703544%2C%20-121.074637%5D%2C%20%5B34.819118%2C%20-82.426918%5D%2C%20%5B39.976368%2C%20-83.117676%5D%2C%20%5B41.56546%2C%20-87.31081%5D%2C%20%5B44.924999%2C%20-93.451607%5D%2C%20%5B29.725826%2C%20-95.510323%5D%2C%20%5B33.442747999999995%2C%20-112.409316%5D%2C%20%5B33.991625%2C%20-118.40202%5D%2C%20%5B35.82550399999999%2C%20-78.621483%5D%2C%20%5B26.01015%2C%20-80.20754000000002%5D%2C%20%5B36.301693%2C%20-119.387758%5D%2C%20%5B39.531799%2C%20-107.713112%5D%2C%20%5B33.902088%2C%20-78.894234%5D%2C%20%5B32.784696999999994%2C%20-96.918517%5D%2C%20%5B41.244381%2C%20-111.988546%5D%2C%20%5B36.16096%2C%20-95.95816%5D%2C%20%5B40.57271%2C%20-74.3298%5D%2C%20%5B37.518196%2C%20-77.426199%5D%2C%20%5B25.985781%2C%20-80.165138%5D%2C%20%5B37.033522%2C%20-121.537465%5D%2C%20%5B35.72802%2C%20-78.58606%5D%2C%20%5B37.99221%2C%20-122.07518%5D%2C%20%5B32.847229%2C%20-83.62645%5D%2C%20%5B39.9764%2C%20-105.21283%5D%2C%20%5B32.66%2C%20-96.89097%5D%2C%20%5B40.759137%2C%20-74.08258000000002%5D%2C%20%5B28.072506%2C%20-80.705421%5D%2C%20%5B39.60108%2C%20-84.23706%5D%2C%20%5B25.7307%2C%20-80.317718%5D%2C%20%5B40.32189%2C%20-111.72703%5D%2C%20%5B35.127705%2C%20-90.076111%5D%2C%20%5B28.45247%2C%20-80.98398%5D%2C%20%5B30.66588%2C%20-91.151283%5D%2C%20%5B28.55191%2C%20-81.4916%5D%2C%20%5B32.779201%2C%20-117.069786%5D%2C%20%5B33.87654000000001%2C%20-118.10733%5D%2C%20%5B35.456131%2C%20-77.058566%5D%2C%20%5B37.03182%2C%20-76.37113000000002%5D%2C%20%5B36.155823%2C%20-86.82717199999998%5D%2C%20%5B40.818218%2C%20-73.960167%5D%2C%20%5B39.681597%2C%20-75.662316%5D%2C%20%5B34.340804%2C%20-117.458385%5D%2C%20%5B33.4593%2C%20-111.99512%5D%2C%20%5B25.826122%2C%20-80.321884%5D%2C%20%5B33.494999%2C%20-81.970421%5D%2C%20%5B47.37587%2C%20-122.300026%5D%2C%20%5B45.082142%2C%20-93.287842%5D%2C%20%5B33.91098%2C%20-117.88374%5D%2C%20%5B46.5189%2C%20-93.66626%5D%2C%20%5B37.808834%2C%20-122.366364%5D%2C%20%5B36.13343%2C%20-95.89962%5D%2C%20%5B33.786594%2C%20-84.38314100000002%5D%2C%20%5B43.15147%2C%20-77.611046%5D%2C%20%5B29.830944%2C%20-95.47303%5D%2C%20%5B34.937241%2C%20-82.022438%5D%2C%20%5B32.729088%2C%20-117.10614%5D%2C%20%5B37.68784%2C%20-122.106938%5D%2C%20%5B39.26285%2C%20-76.56695%5D%2C%20%5B37.363415%2C%20-121.896941%5D%2C%20%5B35.23905999999999%2C%20-80.841776%5D%2C%20%5B27.388741%2C%20-82.527283%5D%2C%20%5B31.7563%2C%20-106.35111%5D%2C%20%5B34.199791%2C%20-79.791542%5D%2C%20%5B41.590159%2C%20-87.72397099999998%5D%2C%20%5B41.973701%2C%20-88.150299%5D%2C%20%5B34.133574%2C%20-118.07317%5D%2C%20%5B34.070206%2C%20-117.864616%5D%2C%20%5B44.40626%2C%20-93.44644%5D%2C%20%5B39.156941%2C%20-94.588586%5D%2C%20%5B45.310871%2C%20-92.946487%5D%2C%20%5B41.555524%2C%20-73.778476%5D%2C%20%5B37.44355%2C%20-77.581429%5D%2C%20%5B30.471018%2C%20-91.058075%5D%2C%20%5B39.041529%2C%20-75.456942%5D%2C%20%5B32.538270000000004%2C%20-84.84662%5D%2C%20%5B33.16198%2C%20-117.105721%5D%2C%20%5B38.275814%2C%20-122.460281%5D%2C%20%5B38.36137100000001%2C%20-81.627613%5D%2C%20%5B42.3493%2C%20-87.874184%5D%2C%20%5B36.750308%2C%20-119.49298%5D%2C%20%5B34.983311%2C%20-81.197342%5D%2C%20%5B34.798573%2C%20-82.372467%5D%2C%20%5B27.748459000000004%2C%20-82.677429%5D%2C%20%5B26.65509%2C%20-80.06935899999998%5D%2C%20%5B37.552231%2C%20-77.438347%5D%2C%20%5B41.7217%2C%20-87.62416%5D%2C%20%5B33.764843%2C%20-84.385025%5D%2C%20%5B29.673273%2C%20-95.289314%5D%2C%20%5B35.234993%2C%20-80.633163%5D%2C%20%5B33.7708%2C%20-118.00733%5D%2C%20%5B30.526014%2C%20-83.066576%5D%2C%20%5B41.81928%2C%20-71.38756%5D%2C%20%5B29.96261%2C%20-90.10078%5D%2C%20%5B29.773781%2C%20-95.606293%5D%2C%20%5B41.101654%2C%20-73.991875%5D%2C%20%5B37.65736%2C%20-122.101402%5D%2C%20%5B40.77924%2C%20-73.04918%5D%2C%20%5B41.82201%2C%20-71.47072%5D%2C%20%5B40.131863%2C%20-75.19767%5D%2C%20%5B42.385803%2C%20-83.434444%5D%2C%20%5B35.141487%2C%20-81.507584%5D%2C%20%5B38.614182%2C%20-121.38298%5D%2C%20%5B39.819862%2C%20-76.99559%5D%2C%20%5B33.911485%2C%20-117.447603%5D%2C%20%5B36.8494%2C%20-77.43040500000002%5D%2C%20%5B40.66008%2C%20-75.07060200000002%5D%2C%20%5B30.407490000000006%2C%20-91.008537%5D%2C%20%5B34.059586%2C%20-81.05006999999998%5D%2C%20%5B26.139828%2C%20-80.419533%5D%2C%20%5B38.053294%2C%20-120.621834%5D%2C%20%5B33.964283%2C%20-118.120224%5D%2C%20%5B32.737007%2C%20-86.543076%5D%2C%20%5B33.523743%2C%20-112.043625%5D%2C%20%5B29.997468%2C%20-90.158243%5D%2C%20%5B39.255112%2C%20-120.043549%5D%2C%20%5B33.621879%2C%20-117.71436%5D%2C%20%5B35.493301%2C%20-97.601143%5D%2C%20%5B32.909374%2C%20-96.798805%5D%2C%20%5B39.725548%2C%20-105.08141299999998%5D%2C%20%5B34.103658%2C%20-80.908342%5D%2C%20%5B33.130635%2C%20-117.117809%5D%2C%20%5B40.092358%2C%20-76.409973%5D%2C%20%5B38.424199%2C%20-121.395524%5D%2C%20%5B40.76755%2C%20-73.69951%5D%2C%20%5B39.022718%2C%20-76.941365%5D%2C%20%5B41.81663%2C%20-87.92565%5D%2C%20%5B25.687934%2C%20-80.350774%5D%2C%20%5B40.95569%2C%20-73.871308%5D%2C%20%5B37.849026%2C%20-122.235687%5D%2C%20%5B31.260342%2C%20-89.33749399999998%5D%2C%20%5B33.643375%2C%20-84.314392%5D%2C%20%5B42.153565%2C%20-87.987709%5D%2C%20%5B44.415525%2C%20-117.307924%5D%2C%20%5B35.850098%2C%20-78.79834699999998%5D%2C%20%5B43.70117%2C%20-124.08701%5D%2C%20%5B37.378872%2C%20-121.96524%5D%2C%20%5B28.620476%2C%20-81.76003299999998%5D%2C%20%5B40.1221%2C%20-111.65928999999998%5D%2C%20%5B42.47603%2C%20-83.11779%5D%2C%20%5B41.20902%2C%20-73.73592%5D%2C%20%5B42.20647%2C%20-121.7227%5D%2C%20%5B38.25%2C%20-85.81111%5D%2C%20%5B42.3639%2C%20-87.95371%5D%2C%20%5B34.833031%2C%20-82.296837%5D%2C%20%5B38.792751%2C%20-121.294945%5D%2C%20%5B29.574318%2C%20-98.405243%5D%2C%20%5B29.99096%2C%20-90.06687%5D%2C%20%5B25.941519%2C%20-80.189461%5D%2C%20%5B40.822523%2C%20-73.957761%5D%2C%20%5B38.3603%2C%20-78.92560999999998%5D%2C%20%5B34.140733000000004%2C%20-118.471144%5D%2C%20%5B34.154925%2C%20-118.648738%5D%2C%20%5B29.68366%2C%20-95.277316%5D%2C%20%5B30.38003%2C%20-97.72488%5D%2C%20%5B43.14227%2C%20-77.586198%5D%2C%20%5B37.49509000000001%2C%20-77.0187%5D%2C%20%5B42.383911%2C%20-71.02265200000002%5D%2C%20%5B41.734482%2C%20-87.94414499999998%5D%2C%20%5B45.82335%2C%20-119.86881%5D%2C%20%5B44.247414%2C%20-93.283427%5D%2C%20%5B45.04634%2C%20-122.97426000000002%5D%2C%20%5B44.983364%2C%20-93.400726%5D%2C%20%5B35.072495%2C%20-90.02703100000002%5D%2C%20%5B34.105823%2C%20-80.825751%5D%2C%20%5B29.653942%2C%20-95.565659%5D%2C%20%5B36.966949%2C%20-121.807343%5D%2C%20%5B28.19292%2C%20-82.38126%5D%2C%20%5B35.737278%2C%20-78.793121%5D%2C%20%5B42.961273%2C%20-85.67684200000002%5D%2C%20%5B34.174051%2C%20-118.159598%5D%2C%20%5B35.28413%2C%20-80.76387%5D%2C%20%5B34.01593%2C%20-118.173027%5D%2C%20%5B34.167956%2C%20-118.583609%5D%2C%20%5B40.706548%2C%20-73.349487%5D%2C%20%5B36.219952%2C%20-86.782288%5D%2C%20%5B34.087447%2C%20-117.651654%5D%2C%20%5B42.4572%2C%20-87.85462%5D%2C%20%5B32.191963%2C%20-110.841057%5D%2C%20%5B39.83383900000001%2C%20-75.423393%5D%2C%20%5B34.062588%2C%20-118.248718%5D%2C%20%5B43.226345%2C%20-77.62665600000003%5D%2C%20%5B41.956917%2C%20-73.894196%5D%2C%20%5B37.908092%2C%20-121.22438%5D%2C%20%5B34.038048%2C%20-118.276451%5D%2C%20%5B28.590490000000006%2C%20-81.74623100000002%5D%2C%20%5B40.42863%2C%20-79.92936999999998%5D%2C%20%5B33.849796000000005%2C%20-118.284836%5D%2C%20%5B34.15458%2C%20-118.3221%5D%2C%20%5B32.909061%2C%20-96.732216%5D%2C%20%5B38.315731%2C%20-81.724172%5D%2C%20%5B38.607334%2C%20-121.395086%5D%2C%20%5B45.486206%2C%20-122.760222%5D%2C%20%5B38.566425%2C%20-121.336388%5D%2C%20%5B37.770178%2C%20-122.421162%5D%2C%20%5B33.853828%2C%20-117.958572%5D%2C%20%5B38.704192%2C%20-120.052076%5D%2C%20%5B30.475177%2C%20-97.793813%5D%2C%20%5B41.523754%2C%20-73.89057199999998%5D%2C%20%5B34.150745%2C%20-118.660202%5D%2C%20%5B44.86206%2C%20-93.22789%5D%2C%20%5B43.005563%2C%20-83.74904699999998%5D%2C%20%5B37.639012%2C%20-121.006469%5D%2C%20%5B41.655392%2C%20-88.125328%5D%2C%20%5B41.263031%2C%20-96.215622%5D%2C%20%5B27.96633%2C%20-82.365288%5D%2C%20%5B40.71095%2C%20-81.74614%5D%2C%20%5B44.76088%2C%20-93.12324%5D%2C%20%5B44.13758%2C%20-122.613011%5D%2C%20%5B34.01593%2C%20-118.173027%5D%2C%20%5B37.26173%2C%20-121.80026%5D%2C%20%5B36.830838%2C%20-76.303342%5D%2C%20%5B30.391174%2C%20-97.721825%5D%2C%20%5B33.921015999999995%2C%20-111.454978%5D%2C%20%5B39.092113%2C%20-84.52253%5D%2C%20%5B33.982639%2C%20-118.395256%5D%2C%20%5B43.114693%2C%20-77.551834%5D%2C%20%5B33.993369%2C%20-118.069134%5D%2C%20%5B32.778584%2C%20-96.827728%5D%2C%20%5B41.879166%2C%20-88.120766%5D%2C%20%5B30.274479%2C%20-92.037643%5D%2C%20%5B30.523670000000006%2C%20-91.182098%5D%2C%20%5B39.023293%2C%20-94.691376%5D%2C%20%5B35.237801%2C%20-80.837303%5D%2C%20%5B40.93457%2C%20-123.624847%5D%5D%2C%0A%20%20%20%20%20%20%20%20%20%20%20%20%20%20%20%20%7B%0A%20%20%20%20%20%20%20%20%20%20%20%20%20%20%20%20%20%20%20%20minOpacity%3A%200.5%2C%0A%20%20%20%20%20%20%20%20%20%20%20%20%20%20%20%20%20%20%20%20maxZoom%3A%2018%2C%0A%20%20%20%20%20%20%20%20%20%20%20%20%20%20%20%20%20%20%20%20max%3A%201.0%2C%0A%20%20%20%20%20%20%20%20%20%20%20%20%20%20%20%20%20%20%20%20radius%3A%2025%2C%0A%20%20%20%20%20%20%20%20%20%20%20%20%20%20%20%20%20%20%20%20blur%3A%2015%2C%0A%20%20%20%20%20%20%20%20%20%20%20%20%20%20%20%20%20%20%20%20gradient%3A%20null%0A%20%20%20%20%20%20%20%20%20%20%20%20%20%20%20%20%20%20%20%20%7D%29%0A%20%20%20%20%20%20%20%20%20%20%20%20%20%20%20%20.addTo%28map_c5532a20b0604834bceecf0945c4dd54%29%3B%0A%20%20%20%20%20%20%20%20%0A%3C/script%3E onload=\"this.contentDocument.open();this.contentDocument.write(    decodeURIComponent(this.getAttribute('data-html')));this.contentDocument.close();\" allowfullscreen webkitallowfullscreen mozallowfullscreen></iframe></div></div>"
            ],
            "text/plain": [
              "<folium.folium.Map at 0x7f9fba1bfe50>"
            ]
          },
          "metadata": {
            "tags": []
          },
          "execution_count": 45
        }
      ]
    }
  ]
}